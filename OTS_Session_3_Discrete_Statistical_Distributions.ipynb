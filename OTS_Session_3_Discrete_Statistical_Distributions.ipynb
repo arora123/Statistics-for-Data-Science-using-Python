{
  "nbformat": 4,
  "nbformat_minor": 0,
  "metadata": {
    "kernelspec": {
      "display_name": "Python 3",
      "language": "python",
      "name": "python3"
    },
    "language_info": {
      "codemirror_mode": {
        "name": "ipython",
        "version": 3
      },
      "file_extension": ".py",
      "mimetype": "text/x-python",
      "name": "python",
      "nbconvert_exporter": "python",
      "pygments_lexer": "ipython3",
      "version": "3.7.3"
    },
    "colab": {
      "name": "OTS_Session_3_Discrete Statistical Distributions.ipynb",
      "provenance": [],
      "include_colab_link": true
    }
  },
  "cells": [
    {
      "cell_type": "markdown",
      "metadata": {
        "id": "view-in-github",
        "colab_type": "text"
      },
      "source": [
        "<a href=\"https://colab.research.google.com/github/arora123/Statistics-for-Data-Science-using-Python/blob/main/OTS_Session_3_Discrete_Statistical_Distributions.ipynb\" target=\"_parent\"><img src=\"https://colab.research.google.com/assets/colab-badge.svg\" alt=\"Open In Colab\"/></a>"
      ]
    },
    {
      "cell_type": "markdown",
      "metadata": {
        "id": "ZuMs6Zzbjiag"
      },
      "source": [
        "# Statistical Distributions\n",
        "\n",
        "* Bernoulli Distribution\n",
        "* Binomial Distribution\n",
        "* Poisson Distribution\n",
        "* Uniform Distribution\n",
        "\n",
        "\n",
        "You can explore negative binomial, geometric, hypergeometric distribution etc. from scipy.stats module"
      ]
    },
    {
      "cell_type": "code",
      "metadata": {
        "id": "74mksmnyjiam"
      },
      "source": [
        "import scipy.stats"
      ],
      "execution_count": null,
      "outputs": []
    },
    {
      "cell_type": "markdown",
      "metadata": {
        "id": "XcdcC-gvjian"
      },
      "source": [
        "## Bernoulli Distribution\n",
        "\n",
        "### Generating bernoulli random variables\n"
      ]
    },
    {
      "cell_type": "code",
      "metadata": {
        "scrolled": true,
        "id": "UtuEogvLjian",
        "outputId": "d67558dd-5f23-4501-e38c-43e148cbbe2e"
      },
      "source": [
        "p= 0.5\n",
        "data_ber = scipy.stats.bernoulli.rvs(p, size=1)  \n",
        "print(data_ber)"
      ],
      "execution_count": null,
      "outputs": [
        {
          "output_type": "stream",
          "text": [
            "[1]\n"
          ],
          "name": "stdout"
        }
      ]
    },
    {
      "cell_type": "markdown",
      "metadata": {
        "id": "-kx6C1k3jiao"
      },
      "source": [
        "- Run the code multiple times and observe the output.\n",
        "- Is it same or different everytime? Why?\n",
        "\n",
        "Now, try changing the size to a bigger number, say 10 or may be even bigger, say 100.\n",
        "size represents number of time the experiment is repeated.\n"
      ]
    },
    {
      "cell_type": "code",
      "metadata": {
        "id": "zGDja4Wwjiao",
        "outputId": "8a8c734e-3d99-4cf6-aa0d-35843ebfc536"
      },
      "source": [
        "p= 0.3\n",
        "data_ber = scipy.stats.bernoulli.rvs(p, size=100)  \n",
        "print(data_ber, '\\n')\n",
        "print('Number of success/heads: ', sum(data_ber), '\\n')\n",
        "print('Mean is: ', data_ber.mean(), '\\n')\n",
        "print('Var is: ', data_ber.var())"
      ],
      "execution_count": null,
      "outputs": [
        {
          "output_type": "stream",
          "text": [
            "[0 0 0 0 0 0 0 0 1 0 0 1 0 0 0 0 0 1 1 0 0 0 0 0 0 0 0 1 0 1 0 1 0 0 0 0 0\n",
            " 0 0 0 0 1 0 1 0 0 1 0 0 0 1 1 0 0 0 1 0 1 0 0 0 0 0 0 0 1 1 0 0 0 0 1 0 1\n",
            " 1 0 0 1 1 1 0 0 0 0 1 0 0 0 1 0 0 1 0 0 0 0 0 0 1 0] \n",
            "\n",
            "Number of success/heads:  26 \n",
            "\n",
            "Mean is:  0.26 \n",
            "\n",
            "Var is:  0.1924\n"
          ],
          "name": "stdout"
        }
      ]
    },
    {
      "cell_type": "code",
      "metadata": {
        "scrolled": true,
        "id": "Y6Cl6UBRjiao",
        "outputId": "9a1740c6-25ab-4453-dca1-c38b3095fb1c"
      },
      "source": [
        "import seaborn as sns\n",
        "import matplotlib.pyplot as plt\n",
        "%matplotlib inline\n",
        "\n",
        "sns.distplot(data_ber)\n",
        "plt.show()"
      ],
      "execution_count": null,
      "outputs": [
        {
          "output_type": "display_data",
          "data": {
            "image/png": "[encoded data removed]",
            "text/plain": [
              "<Figure size 432x288 with 1 Axes>"
            ]
          },
          "metadata": {
            "tags": [],
            "needs_background": "light"
          }
        }
      ]
    },
    {
      "cell_type": "markdown",
      "metadata": {
        "id": "AS0ELXrUjiap"
      },
      "source": [
        "## Binomial Distribution\n",
        "\n",
        "### Generating binomial random variates\n"
      ]
    },
    {
      "cell_type": "code",
      "metadata": {
        "id": "Vv-FvbK4jiap",
        "outputId": "f7c21b92-5a24-42d0-b3fb-2837763f4715"
      },
      "source": [
        "# parameters\n",
        "n = 5\n",
        "p = 0.3 #[Not equally likely events]\n",
        "\n",
        "print('Theoritical Mean is: ', n*p)\n",
        "print('Theoritical Var is: ', n*p*(1-p))\n",
        "\n",
        "# Data generation\n",
        "data_binom = scipy.stats.binom.rvs(n, p)\n",
        "print(data_binom)"
      ],
      "execution_count": null,
      "outputs": [
        {
          "output_type": "stream",
          "text": [
            "Theoritical Mean is:  1.5\n",
            "Theoritical Var is:  1.0499999999999998\n",
            "1\n"
          ],
          "name": "stdout"
        }
      ]
    },
    {
      "cell_type": "code",
      "metadata": {
        "id": "wRMw6nxWjiap",
        "outputId": "1016214e-2be3-4a23-86cc-b8025942756d"
      },
      "source": [
        "# Data generation for multiple draws\n",
        "data_binom = scipy.stats.binom.rvs(n, p, size=100)\n",
        "\n",
        "print(data_binom, '\\n')\n",
        "print('Mean is: ', data_binom.mean(), '\\n')\n",
        "print('Var is: ', data_binom.var())"
      ],
      "execution_count": null,
      "outputs": [
        {
          "output_type": "stream",
          "text": [
            "[3 0 0 1 1 1 0 2 3 1 3 1 1 3 2 1 2 1 2 1 1 0 1 3 1 2 0 1 0 3 2 1 3 2 1 4 0\n",
            " 2 2 2 2 2 2 1 1 2 1 3 4 1 2 3 3 1 2 1 1 2 0 1 1 3 2 0 2 1 1 1 1 0 1 1 0 1\n",
            " 1 1 3 1 1 2 2 3 3 2 0 1 2 1 1 2 1 2 1 1 3 2 2 1 1 1] \n",
            "\n",
            "Mean is:  1.51 \n",
            "\n",
            "Var is:  0.9098999999999997\n"
          ],
          "name": "stdout"
        }
      ]
    },
    {
      "cell_type": "markdown",
      "metadata": {
        "id": "xrge-kstjiaq"
      },
      "source": [
        "### To make results reproducible\n",
        "\n",
        "- Set random_state parameter of rvs\n",
        "- Or use numpy random seed"
      ]
    },
    {
      "cell_type": "code",
      "metadata": {
        "id": "TvpNdfcCjiaq",
        "outputId": "c3c163ae-1b11-4f49-a941-755c83e34068"
      },
      "source": [
        "data_binom = scipy.stats.binom.rvs(n, p, size=100, random_state=12)\n",
        "\n",
        "print(data_binom, '\\n')\n",
        "print('Mean is: ', data_binom.mean(), '\\n')\n",
        "print('Var is: ', data_binom.var())"
      ],
      "execution_count": null,
      "outputs": [
        {
          "output_type": "stream",
          "text": [
            "[0 2 1 2 0 3 3 0 3 0 1 2 3 3 0 1 2 1 2 0 2 0 0 0 1 2 1 2 1 2 2 1 1 4 2 3 2\n",
            " 2 1 1 1 4 1 3 1 1 1 1 1 0 0 2 2 0 1 1 0 1 1 0 2 2 0 1 2 1 1 1 3 2 2 1 1 3\n",
            " 1 3 0 2 0 2 2 3 3 1 2 3 2 1 1 1 3 1 3 3 2 0 3 3 0 2] \n",
            "\n",
            "Mean is:  1.5 \n",
            "\n",
            "Var is:  1.11\n"
          ],
          "name": "stdout"
        }
      ]
    },
    {
      "cell_type": "code",
      "metadata": {
        "id": "27eZDsgsjiaq",
        "outputId": "6a8e9aab-82c4-4ac8-ecba-fb67e26682d3"
      },
      "source": [
        "import numpy as np\n",
        "np.random.seed(12)\n",
        "\n",
        "data_binom = scipy.stats.binom.rvs(n, p, size=100)\n",
        "\n",
        "print(data_binom, '\\n')\n",
        "print('Mean is: ', data_binom.mean(), '\\n')\n",
        "print('Var is: ', data_binom.var())\n",
        "\n",
        "# Alternate way to get mean & variance\n",
        "print('Mean & Var of the data are: ', scipy.stats.binom.stats(n=5,p=0.3))"
      ],
      "execution_count": null,
      "outputs": [
        {
          "output_type": "stream",
          "text": [
            "[0 2 1 2 0 3 3 0 3 0 1 2 3 3 0 1 2 1 2 0 2 0 0 0 1 2 1 2 1 2 2 1 1 4 2 3 2\n",
            " 2 1 1 1 4 1 3 1 1 1 1 1 0 0 2 2 0 1 1 0 1 1 0 2 2 0 1 2 1 1 1 3 2 2 1 1 3\n",
            " 1 3 0 2 0 2 2 3 3 1 2 3 2 1 1 1 3 1 3 3 2 0 3 3 0 2] \n",
            "\n",
            "Mean is:  1.5 \n",
            "\n",
            "Var is:  1.11\n",
            "Mean & Var of the data are:  (array(1.5), array(1.05))\n"
          ],
          "name": "stdout"
        }
      ]
    },
    {
      "cell_type": "markdown",
      "metadata": {
        "id": "NZl71jNkjiar"
      },
      "source": [
        "#### Probability Mass Function to compute probability"
      ]
    },
    {
      "cell_type": "code",
      "metadata": {
        "id": "910bjtjtjiar",
        "outputId": "89d5db5d-6a53-4144-fcb5-9aff83d5978e"
      },
      "source": [
        "# Probability of getting 5 head in 10 throw of a fair coin\n",
        "n=10\n",
        "p = 0.5 # For fair coin\n",
        "k = 5\n",
        "scipy.stats.binom.pmf(k,n,p).round(2)"
      ],
      "execution_count": null,
      "outputs": [
        {
          "output_type": "execute_result",
          "data": {
            "text/plain": [
              "0.25"
            ]
          },
          "metadata": {
            "tags": []
          },
          "execution_count": 10
        }
      ]
    },
    {
      "cell_type": "code",
      "metadata": {
        "id": "G_5p9Eeajiar",
        "outputId": "a8a49537-b8e1-49b3-dd93-4f0376c43234"
      },
      "source": [
        "# Probability of getting 7 head in 10 throw of a fair coin\n",
        "n=10\n",
        "p = 0.5 # For fair coin\n",
        "k = 7\n",
        "print('Probability of getting 7 head in 10 throw of a fair coin is: ', scipy.stats.binom.pmf(k,n,p).round(2))\n",
        "\n"
      ],
      "execution_count": null,
      "outputs": [
        {
          "output_type": "stream",
          "text": [
            "Probability of getting 7 head in 10 throw of a fair coin is:  0.12\n"
          ],
          "name": "stdout"
        }
      ]
    },
    {
      "cell_type": "markdown",
      "metadata": {
        "id": "zv8c08S7jiar"
      },
      "source": [
        "***Excercises:***\n",
        " - Change the value of k from 0 to 10 & oberve probabilities.\n",
        " - Did you notice something? \n",
        " - Add those all probabilities?\n",
        " - What if the coin is biased? Do some experimentations & interpret your findings.\n",
        " "
      ]
    },
    {
      "cell_type": "markdown",
      "metadata": {
        "id": "zEeKafJMjiar"
      },
      "source": [
        "### Cumulative Disstribution Function to compute cumulative probabilities"
      ]
    },
    {
      "cell_type": "code",
      "metadata": {
        "scrolled": true,
        "id": "FW7gf1SCjias",
        "outputId": "9f93cf6a-bc0f-4ed6-9d1d-3b1fd438f847"
      },
      "source": [
        "# Probability of 5 heads or less after 10 throws with a fair coin\n",
        "n=10\n",
        "p=0.5\n",
        "k=5\n",
        "print('Probability of 5 heads or less after 10 throws with a fair coin is: ', scipy.stats.binom.cdf(k, n,p).round(2))"
      ],
      "execution_count": null,
      "outputs": [
        {
          "output_type": "stream",
          "text": [
            "Probability of 5 heads or less after 10 throws with a fair coin is:  0.62\n"
          ],
          "name": "stdout"
        }
      ]
    },
    {
      "cell_type": "markdown",
      "metadata": {
        "id": "ugmfpcBijias"
      },
      "source": [
        "***Excericse:*** \n",
        "\n",
        "Is it the same which you would expect using pmf?"
      ]
    },
    {
      "cell_type": "code",
      "metadata": {
        "id": "oI18VhaRjias",
        "outputId": "b6de8c77-62d1-41ce-c56a-533608ed7c62"
      },
      "source": [
        "# Moments\n",
        "mean, var, skewness, kurtosis = scipy.stats.binom.stats(n, p, moments='mvsk')\n",
        "\n",
        "print(mean)\n",
        "print(var)\n",
        "print(skewness)\n",
        "print(kurtosis)"
      ],
      "execution_count": null,
      "outputs": [
        {
          "output_type": "stream",
          "text": [
            "5.0\n",
            "2.5\n",
            "0.0\n",
            "-0.2\n"
          ],
          "name": "stdout"
        }
      ]
    },
    {
      "cell_type": "markdown",
      "metadata": {
        "id": "_voP0E3xjias"
      },
      "source": [
        "### Visualizing binomial distribution\n",
        "\n",
        "\n",
        "https://shiny.rit.albany.edu/stat/binomial/\n",
        "\n",
        "https://homepage.divms.uiowa.edu/~mbognar/applets/bin.html"
      ]
    },
    {
      "cell_type": "code",
      "metadata": {
        "id": "GJeheY6Xjias",
        "outputId": "987b158d-29b3-43c3-d2af-4bc423a8497c"
      },
      "source": [
        "import seaborn as sns\n",
        "import matplotlib.pyplot as plt\n",
        "sns.distplot(scipy.stats.binom.rvs(n=100, p=0.5, size=100, random_state=10), kde=True)\n",
        "plt.title('Binomial Distribution')\n",
        "plt.xlabel('Random Binomial Variate')\n",
        "plt.ylabel('Frequencies')\n",
        "plt.show()"
      ],
      "execution_count": null,
      "outputs": [
        {
          "output_type": "display_data",
          "data": {
            "image/png": "[encoded data removed]",
            "text/plain": [
              "<Figure size 432x288 with 1 Axes>"
            ]
          },
          "metadata": {
            "tags": [],
            "needs_background": "light"
          }
        }
      ]
    },
    {
      "cell_type": "markdown",
      "metadata": {
        "id": "gh1WdjJmjiat"
      },
      "source": [
        "***Excercises:***\n",
        "- change values of parameters n & p & plot again\n",
        "- Did you observe something important, which describe shape of the distrinution?\n"
      ]
    },
    {
      "cell_type": "markdown",
      "metadata": {
        "id": "9UcyYs9Pjiat"
      },
      "source": [
        "### Poisson Distribution\n",
        "\n",
        "#### Generating random numbers"
      ]
    },
    {
      "cell_type": "code",
      "metadata": {
        "id": "nwyfnVxVjiat",
        "outputId": "6861d59e-3acd-4211-fcb9-9e9d49f6c9f2"
      },
      "source": [
        "data_poisson = scipy.stats.poisson.rvs(mu=3, size=1000)\n",
        "data_poisson"
      ],
      "execution_count": null,
      "outputs": [
        {
          "output_type": "execute_result",
          "data": {
            "text/plain": [
              "array([ 4,  3,  2,  3,  3,  3,  2,  4,  2,  0,  0,  2,  4,  3,  3,  5,  3,\n",
              "        4,  3,  5,  4,  3,  5,  7,  2,  2,  3,  2,  4,  4,  3,  2,  2,  2,\n",
              "        1,  3,  2,  3,  3,  3,  1,  2,  1,  1,  3,  3,  3,  5,  2,  1,  1,\n",
              "        2,  4,  3,  8,  2,  4,  5,  2,  3,  1,  2,  1,  3,  0,  3,  7,  4,\n",
              "        6,  3,  3,  2,  2,  5,  4,  8,  5,  2,  6,  1,  5,  2,  6,  2, 10,\n",
              "        4,  1,  2,  2,  4,  2,  3,  2,  0,  3,  1,  3,  0,  2,  2,  1,  3,\n",
              "        4,  4,  2,  4,  4,  4,  2,  3,  5,  3,  3,  3,  1,  5,  3,  5,  5,\n",
              "        5,  0,  3,  3,  3,  1,  0,  4,  5,  2,  3,  3,  1,  1,  5,  2,  3,\n",
              "        4,  6,  3,  3,  4,  6,  3,  4,  1,  5,  1,  1,  4,  2,  5,  5,  1,\n",
              "        3,  2,  4,  5,  4,  4,  2,  2,  3,  4,  1,  2,  4,  4,  1,  6,  4,\n",
              "        2,  2,  4,  2,  6,  4,  7,  1,  1,  1,  3,  1,  8,  6,  2,  3,  2,\n",
              "        3,  8,  3,  5,  3,  3,  2,  2,  2,  3,  4,  2,  2,  9,  5,  3,  5,\n",
              "        0,  3,  2,  1,  2,  3,  2,  3,  2,  3,  9,  3,  3,  5,  5,  2,  4,\n",
              "        7,  2,  5,  2,  1,  3,  1,  3,  4,  4,  2,  3,  5,  0,  1,  3,  1,\n",
              "        0,  4,  5,  2,  4,  3,  4,  6,  2,  3,  6,  6,  4,  2,  4,  1, 10,\n",
              "        2,  2,  6,  1,  2,  4,  6,  6,  1,  4,  2,  4,  7,  4,  4,  3,  1,\n",
              "        2,  4,  2,  3,  5,  2,  4,  2,  4,  5,  4,  3,  3,  3,  2,  2,  2,\n",
              "        2,  4,  2,  1,  0,  2,  7,  1,  3,  0,  3,  4,  3,  7,  3,  2,  3,\n",
              "        3,  6,  2,  4,  1,  1,  5,  5,  2,  3,  2,  0,  3,  3,  5,  2,  5,\n",
              "        5,  3,  5,  5,  1,  1,  1,  3,  2,  3,  1,  3,  1,  5,  2,  3,  2,\n",
              "        2,  0,  3,  5,  0,  5,  2,  3,  2,  1,  3,  0,  3,  3,  1,  2,  2,\n",
              "        3,  2,  3,  6,  4,  1,  3,  1,  6,  4,  2,  1,  1,  4,  1,  2,  3,\n",
              "        4,  3,  5,  5,  3,  1,  3,  2,  4,  1,  6,  2,  3,  0,  3,  5,  1,\n",
              "        3,  3,  0,  3,  3,  5,  2,  1,  2,  3,  1,  3,  2,  3,  5,  2,  2,\n",
              "        4,  2,  4,  2,  4,  0,  5,  4,  2,  3,  3,  4,  0,  2,  1,  2,  3,\n",
              "        1,  4,  3,  3,  3,  1,  5,  3,  2,  4,  6,  5,  6,  1,  2,  4,  3,\n",
              "        4,  3,  2,  2,  2,  0,  1,  6,  2,  3,  2,  3,  4,  2,  3,  2,  2,\n",
              "        5,  0,  1,  1,  2,  1,  3,  2,  1,  3,  3,  3,  5,  5,  2,  1,  3,\n",
              "        5,  5,  2,  3,  4,  2,  1,  2,  2,  4,  3,  4,  2,  0,  2,  2,  4,\n",
              "        0,  3,  3,  4,  5,  1,  1,  2,  2,  7,  3,  3,  2,  4,  2,  2,  3,\n",
              "        2,  4,  2,  2,  3,  0,  0,  7,  2,  3,  4,  3,  4,  3,  4,  4,  3,\n",
              "        1,  2,  2,  2,  1,  2,  3,  2,  3,  1,  1,  2,  3,  4,  0,  3,  5,\n",
              "        1,  2,  6,  5,  5,  4,  3,  3,  1,  2,  4,  4,  5,  5,  4,  3,  2,\n",
              "        4,  5,  5,  2,  2,  1,  1,  2,  4,  2,  4,  2,  2,  5,  2,  3,  5,\n",
              "        2,  5,  2,  4,  2,  1,  5,  1,  3,  1,  1,  2,  4,  1,  5,  3,  2,\n",
              "        5,  7,  3,  3,  2,  1,  3,  5,  4,  1,  4,  3,  3,  3,  3,  5,  2,\n",
              "        9,  2,  2,  4,  2,  6,  1,  2,  2,  2,  5,  3,  3,  1,  1,  2,  3,\n",
              "        1,  2,  3,  5,  1,  2,  3,  2,  6,  4,  2,  1,  1,  5,  2,  4,  1,\n",
              "        6,  4,  1,  2,  6,  2,  6,  3,  4,  4,  1,  0,  3,  1,  1,  3,  1,\n",
              "        5,  0,  1,  1,  4,  4,  6,  1,  4,  2,  4,  0,  2,  4,  3,  3,  1,\n",
              "        3,  2,  3,  2,  3,  5,  3,  4,  7,  5,  2,  4,  3,  0,  2,  6,  3,\n",
              "        3,  4,  2,  6,  3,  3,  4,  3,  2,  5,  2,  3,  3,  4,  2,  1,  5,\n",
              "        1,  2,  4,  3,  2,  4,  3,  3,  2,  3,  4,  3,  3,  1,  1,  3,  0,\n",
              "        6,  2,  3,  4,  4,  2,  4,  0,  3,  4,  3,  2,  3,  1,  5,  4,  3,\n",
              "        6,  4,  2,  4,  4,  3,  6,  4,  5,  2,  1,  4,  2,  2,  2,  1,  0,\n",
              "        3,  2,  2,  1,  3,  4,  3,  5,  1,  3,  1,  2,  5,  4,  4,  4,  2,\n",
              "        1,  2,  4,  6,  5,  3,  4,  4,  4,  3,  4,  4,  2,  2,  6,  2,  5,\n",
              "        4,  2,  2,  2,  6,  1,  2,  1,  4,  4,  2,  1,  2,  2,  0,  5,  4,\n",
              "        1,  2,  5,  1,  3,  3,  5,  3,  1,  6,  7,  3,  3,  3,  4,  1,  3,\n",
              "        6,  1,  3,  6,  2,  4,  3,  5,  4,  5,  2,  2,  4,  2,  2,  4,  1,\n",
              "        3,  6,  3,  2,  3,  3,  2,  3,  1,  4,  4,  2,  3,  5,  1,  3,  1,\n",
              "        3,  2,  3,  5,  5,  1,  3,  0,  1,  2,  2,  1,  3,  4,  4,  3,  6,\n",
              "        2,  5,  3,  1,  4,  1,  2,  4,  1,  3,  3,  3,  4,  1,  1,  1,  1,\n",
              "        1,  0,  2,  6,  1,  4,  3,  7,  4,  2,  2,  1,  1,  2,  2,  4,  5,\n",
              "        2,  0,  4,  3,  6,  2,  1,  1,  5,  2,  2,  5,  1,  2,  4,  3,  3,\n",
              "        1,  0,  3,  3,  6,  6,  3,  1,  5,  2,  2,  1,  3,  3,  5,  5,  4,\n",
              "        3,  7,  2,  2,  3,  4,  2,  1,  1,  5,  5,  4,  4,  4,  2,  7,  0,\n",
              "        2,  2,  5,  5,  2,  2,  3,  0,  9,  5,  3,  6,  5,  2,  1,  4,  2,\n",
              "        1,  5,  1,  1,  4,  2,  4,  2,  2,  5,  0,  4,  3,  7])"
            ]
          },
          "metadata": {
            "tags": []
          },
          "execution_count": 17
        }
      ]
    },
    {
      "cell_type": "code",
      "metadata": {
        "id": "FfS4dnGBjiat",
        "outputId": "14af428c-9a02-4913-8238-2c9dc9977e12"
      },
      "source": [
        "print(data_poisson.mean())\n",
        "print(data_poisson.var())"
      ],
      "execution_count": null,
      "outputs": [
        {
          "output_type": "stream",
          "text": [
            "2.963\n",
            "2.8096309999999995\n"
          ],
          "name": "stdout"
        }
      ]
    },
    {
      "cell_type": "markdown",
      "metadata": {
        "id": "kvb1ToBEjiat"
      },
      "source": [
        "#### Ploting Poisson Distribution"
      ]
    },
    {
      "cell_type": "code",
      "metadata": {
        "id": "TN-oCTCWjiau",
        "outputId": "695aa656-628a-4c13-9ba4-34e5c04159c5"
      },
      "source": [
        "ax = sns.distplot(data_poisson,\n",
        "                  bins=30,\n",
        "                  kde=False,\n",
        "                  color='skyblue',\n",
        "                  hist_kws={\"linewidth\": 15,'alpha':1})\n",
        "ax.set(xlabel='Poisson random variable', ylabel='Frequency', title='Poisson Distribution')"
      ],
      "execution_count": null,
      "outputs": [
        {
          "output_type": "execute_result",
          "data": {
            "text/plain": [
              "[Text(0, 0.5, 'Frequency'),\n",
              " Text(0.5, 0, 'Poisson random variable'),\n",
              " Text(0.5, 1.0, 'Poisson Distribution')]"
            ]
          },
          "metadata": {
            "tags": []
          },
          "execution_count": 19
        },
        {
          "output_type": "display_data",
          "data": {
            "image/png": "[encoded data removed]",
            "text/plain": [
              "<Figure size 432x288 with 1 Axes>"
            ]
          },
          "metadata": {
            "tags": [],
            "needs_background": "light"
          }
        }
      ]
    },
    {
      "cell_type": "markdown",
      "metadata": {
        "id": "tuxjzC3Tjiau"
      },
      "source": [
        "## Uniform Distribution\n",
        "\n",
        "#### Random numbers from uniform distribution"
      ]
    },
    {
      "cell_type": "code",
      "metadata": {
        "id": "364je5Djjiau",
        "outputId": "fe48cd99-e1a1-4520-b920-9ff67e29c857"
      },
      "source": [
        "# Generate n numbers from 10 to 20\n",
        "# n = 5\n",
        "n = 1000\n",
        "a = 10\n",
        "b = 20\n",
        "data_uniform = scipy.stats.uniform.rvs(size=n, loc = a, scale=b) \n",
        "print(data_uniform)\n"
      ],
      "execution_count": null,
      "outputs": [
        {
          "output_type": "stream",
          "text": [
            "[25.166054   15.88571639 18.30197666 29.7812058  24.28155918 15.04011463\n",
            " 19.6792223  14.16069414 27.44065368 15.53736662 10.81266291 21.38058277\n",
            " 18.16962678 24.81067294 29.36862486 21.53428519 19.9713146  12.48852736\n",
            " 24.82546302 29.82960728 20.53291185 27.17585084 26.54037197 16.25266611\n",
            " 20.76026099 18.38145016 13.4378986  14.98450456 24.16127115 28.8036386\n",
            " 17.69627501 25.30058025 17.614338   29.89782906 18.02869154 13.30158461\n",
            " 29.41483427 12.3278331  16.04902517 14.37131955 27.69881409 15.8406392\n",
            " 10.60366375 10.47155306 18.81851225 21.97412007 18.49338633 19.1193\n",
            " 29.23132783 19.33901353 26.55530299 23.10734724 18.33192495 29.22450296\n",
            " 22.2560196  21.18631288 27.52813855 28.8582652  10.91280386 20.42850611\n",
            " 19.71846783 20.21258459 23.90579543 22.16161516 23.47727797 10.23224079\n",
            " 21.39571999 13.71056761 15.43061273 12.97824969 21.24514505 15.67489577\n",
            " 20.83505945 21.35918383 24.79070224 12.10765462 12.44758039 26.01391352\n",
            " 15.60123003 20.41482452 22.94813292 14.93144574 26.88531149 21.06862478\n",
            " 21.75445916 19.42087707 15.03537297 10.46106951 13.65459568 26.12538573\n",
            " 22.95274491 19.4683806  14.73459546 20.09844416 14.92267467 14.35004349\n",
            " 21.535945   29.34972679 23.04081639 28.01086764 20.14520992 26.51943072\n",
            " 20.08635684 13.92013547 26.62681534 21.68591774 21.43540097 16.53143422\n",
            " 15.09227768 14.67792238 27.66878137 28.40994536 15.3651316  25.8971152\n",
            " 21.25418386 24.38774712 27.61931375 28.7811215  21.68969919 12.49171784\n",
            " 23.21962725 16.45243679 11.98443051 24.33863986 10.90892037 14.89674636\n",
            " 29.57564946 29.09185994 20.40699926 11.80345999 20.84958235 15.33206723\n",
            " 29.99350972 19.51573787 15.01226007 16.60264889 14.28990318 23.59173375\n",
            " 27.4755471  26.09040876 27.41069618 15.44672488 26.7004003  10.27396902\n",
            " 22.44987538 14.78652929 17.42739382 28.48036255 23.4105148  28.07369346\n",
            " 26.03015643 24.57632215 24.9585999  27.98386053 17.35133388 13.69053395\n",
            " 28.23589365 22.64775919 15.11061543 22.77896176 12.83836361 16.22679077\n",
            " 29.72642216 19.19188677 10.36194752 15.01979245 20.98844784 11.45697445\n",
            " 24.71289986 21.67204911 12.21626762 25.13213291 29.66668996 28.88468653\n",
            " 15.92536728 14.01229851 25.25210881 28.1330422  19.77563358 27.24161819\n",
            " 26.16127338 18.21603834 21.20818414 21.28602448 20.87841787 29.26486028\n",
            " 25.1945689  24.78303023 18.54208389 13.3336125  24.56045823 26.32356392\n",
            " 18.40991    10.95975624 18.69790906 23.25423907 19.18933852 11.68251596\n",
            " 10.86369843 13.54680105 10.95542076 22.5404539  17.63597821 22.23420734\n",
            " 17.92886742 17.83429113 24.25935984 26.309228   26.47490442 27.89083331\n",
            " 12.05189021 24.40021317 20.61961989 17.92612545 19.35029676 14.6467611\n",
            " 15.07020604 10.43202018 25.44097886 16.50326985 25.43120528 26.05574288\n",
            " 17.77375762 29.31016771 13.758992   27.52618569 27.87306359 17.73805799\n",
            " 19.01545236 13.54294273 14.83997588 20.67263652 28.72355496 10.50127265\n",
            " 10.02632573 12.9593848  22.00696559 11.08480611 24.61376336 17.22310541\n",
            " 11.1495702  25.8601413  23.3579462  25.78088696 20.66549834 18.23931665\n",
            " 16.22794871 19.73120857 23.72237569 19.50686155 23.13314093 15.2123322\n",
            " 12.24293371 13.42639887 22.08430074 17.96196496 27.41851773 29.98785224\n",
            " 21.30035546 25.38847978 12.07939542 10.42520714 16.66815899 25.49438652\n",
            " 19.93376736 26.46238854 20.457617   23.92492255 16.85503101 29.29205399\n",
            " 22.74554173 10.19668915 16.84913144 14.47921224 27.91200191 16.65186316\n",
            " 27.23720503 24.07874633 13.04962144 26.97594944 27.87782145 29.85360307\n",
            " 17.75724268 10.91986169 25.05222456 15.70437539 28.8080236  27.89079705\n",
            " 22.86085079 15.36514604 26.27644383 11.58163864 12.03531121 29.53492666\n",
            " 28.73573005 14.81323206 16.69433319 19.32837939 11.92286836 28.95962594\n",
            " 26.26815149 11.70987112 28.88478001 10.61058888 17.28565381 25.53175695\n",
            " 24.91302332 23.43872608 27.03824027 27.07623622 16.57825827 17.00616408\n",
            " 25.94504281 18.7099459  26.18786819 15.52000437 12.14974105 27.3478233\n",
            " 16.15595337 29.87798214 23.21448312 27.34462326 19.37813031 14.72644185\n",
            " 28.77698338 29.77778433 24.2052205  12.76738464 12.73983676 27.58517003\n",
            " 15.44836208 14.10964184 15.63470988 23.95060091 26.60956947 18.87211229\n",
            " 20.38177075 18.71378315 15.81721306 20.52308252 25.72628492 16.0522937\n",
            " 13.08932791 29.27795944 21.84999043 13.18876985 13.56095108 13.94178408\n",
            " 10.16573295 19.67260352 15.05557829 18.01318737 23.26603626 14.51670599\n",
            " 21.22153929 22.13440787 26.77365124 26.38980746 10.29027032 23.13676926\n",
            " 19.33220326 27.51660413 28.94111838 15.75837317 16.64380917 28.96693917\n",
            " 17.21879905 20.87757815 25.29517476 12.93901326 14.16082183 18.05865463\n",
            " 24.54610932 14.41540267 25.40349083 22.60867193 28.02882473 18.19951291\n",
            " 14.55101735 18.51141735 11.25925455 15.65637568 25.25382649 10.16474452\n",
            " 14.25536427 14.31926813 22.09250007 16.5092804  25.0594133  12.26114723\n",
            " 29.036181   14.63156613 28.18292544 16.4516681  18.96501481 25.81761723\n",
            " 12.39929809 22.8003851  25.70410367 16.88285593 23.74691604 14.67938613\n",
            " 17.43311689 29.72435302 21.48384111 25.806186   24.46760283 15.13887054\n",
            " 21.98925746 10.14512504 12.08318451 18.07560787 21.38741655 23.61211998\n",
            " 10.7820366  21.7022548  11.11942463 18.52541466 23.36085428 24.78544121\n",
            " 23.26988715 29.94960113 18.76446816 10.53521936 27.3067586  25.76760541\n",
            " 25.08786042 27.45143751 24.84109053 27.56471892 13.15741779 13.25216472\n",
            " 16.17151836 29.38606626 11.94497161 21.27344817 26.29072168 19.75503388\n",
            " 29.49883273 29.91548848 11.13240605 13.86921117 11.73718686 29.49674966\n",
            " 21.49501349 26.30215118 16.16053627 11.22368681 25.44436914 27.01075619\n",
            " 13.66726974 22.51630469 11.48745568 22.52007337 12.92755859 17.88319131\n",
            " 27.56923317 28.74287524 27.03508952 23.95789149 13.31735021 27.40450829\n",
            " 25.41920176 10.03902896 10.19725064 25.70716249 24.97531994 16.62363071\n",
            " 24.09634732 17.53431146 22.32503818 15.60493464 14.33897748 21.05060686\n",
            " 10.74549064 26.77396549 24.86312906 14.37757811 29.2945316  10.27647796\n",
            " 24.98659314 14.69802627 18.02125875 25.43554989 27.31675355 16.43910317\n",
            " 25.33048871 11.42514721 12.80564926 18.87568334 25.7769001  12.24692411\n",
            " 17.90939803 18.87383004 16.9100781  25.34859486 17.88366518 27.78647406\n",
            " 13.13371295 25.81770972 11.85148417 10.07419703 15.13140502 12.81910764\n",
            " 10.06433549 10.73995821 11.33003103 10.51830234 12.49273385 28.1139622\n",
            " 17.2596852  13.86630796 27.10769666 13.77829711 17.15442389 11.13258004\n",
            " 26.30034463 13.74735889 19.56458382 10.42371339 11.63702767 14.32848563\n",
            " 25.26067913 17.26576864 19.64091789 24.23994731 17.94523404 29.92254904\n",
            " 18.78685086 28.30378163 26.46530591 28.16493058 21.38374176 21.47672142\n",
            " 13.57576856 28.93202259 26.22092415 12.29146175 29.04000734 18.52002927\n",
            " 26.83741383 19.43575102 25.39598262 18.66615664 27.15213321 27.75789775\n",
            " 14.67662755 11.93944843 11.37567614 10.05481297 29.71952083 12.95789938\n",
            " 11.78010597 22.82419915 13.47968936 24.07121082 18.45368817 10.26115138\n",
            " 27.27609378 15.44403887 15.00871209 20.98257881 21.73370411 24.62690053\n",
            " 20.66275858 26.12113175 17.61098447 24.95928659 21.47370089 23.78339704\n",
            " 29.28511841 26.53118816 26.87144603 19.0281289  18.29900518 17.59414809\n",
            " 18.32745044 22.09705141 16.24087441 18.39026195 17.09625687 28.03935258\n",
            " 15.24133655 25.73893815 25.08857363 21.61937781 13.0222375  28.18258823\n",
            " 16.5330117  24.62331542 13.10676701 12.04123099 11.01752702 10.0902313\n",
            " 23.19843076 16.32985281 16.86561805 21.63544885 29.05278369 16.10820147\n",
            " 26.52445275 10.6141689  25.86992782 19.25769391 22.520198   20.64610417\n",
            " 14.86602155 11.54612494 27.89930491 20.20448068 26.54821139 18.55278925\n",
            " 27.51642542 17.7986928  16.75259379 25.53044885 20.01640932 26.25743676\n",
            " 13.18441427 19.17228836 12.21431027 23.16054895 26.75493622 20.29471934\n",
            " 22.16065783 26.56509531 11.20274796 23.47140175 21.8722845  27.92354547\n",
            " 23.43808065 29.51636506 10.63193609 20.03487993 23.46459079 15.77487399\n",
            " 26.27328376 13.06051615 16.85157922 16.70422666 15.93416623 25.82882224\n",
            " 16.64695473 17.60998447 15.01891717 25.55286053 29.48533759 28.26753029\n",
            " 17.77121991 24.15950369 24.52803158 23.1791574  22.40529973 28.60884405\n",
            " 19.89571703 25.19458815 20.47097073 20.50006173 16.23604199 17.91959114\n",
            " 27.08365979 21.54988658 25.25891138 17.55503009 29.53820281 23.84018779\n",
            " 23.96288027 12.46529993 13.27089469 11.8935145  13.17873426 12.75945847\n",
            " 22.65220248 28.10920646 20.01271618 14.28981992 23.93497786 25.85821139\n",
            " 13.73514834 12.04119516 11.70511095 11.58126914 21.40673986 22.51483431\n",
            " 20.970395   14.13559671 18.45422448 14.94472393 26.38262638 29.32234989\n",
            " 16.6054125  16.85945887 15.95416695 18.369602   23.33609199 19.65601033\n",
            " 22.27636651 21.73885581 24.63068765 11.41766746 23.62005264 24.35490242\n",
            " 26.35664961 22.36794496 20.34494842 14.23775757 10.02031953 23.06688491\n",
            " 15.92755091 27.37863919 18.50964877 27.00928375 24.38976512 23.21177689\n",
            " 13.7838842  24.71837153 22.89987539 12.70473555 29.12355049 23.49869449\n",
            " 16.15878359 10.63949154 10.56852847 13.0979536  16.07251148 13.77180227\n",
            " 11.82343709 12.15119201 16.87528094 23.80883709 18.77577718 26.11409481\n",
            " 25.1234182  12.61252617 27.35352498 10.52541641 19.19708612 28.78746886\n",
            " 22.53382544 27.91868516 10.53162791 28.89717372 21.99744223 18.99399994\n",
            " 12.06956916 16.55914775 23.09225846 11.48159048 28.44216695 16.12956113\n",
            " 16.13080351 20.03688162 27.38915164 13.80670098 18.19527389 27.24487921\n",
            " 14.7023535  12.01977743 17.0163951  29.96906425 24.65269346 15.75522621\n",
            " 29.88692778 23.96267502 12.68716806 18.63756153 22.20837521 20.76826015\n",
            " 18.90840069 13.8827994  24.33638002 14.33876729 18.61635686 23.73009615\n",
            " 28.97155607 17.34177485 25.87489354 14.38855734 13.66735995 22.61587785\n",
            " 10.00607058 25.50462901 19.72637291 18.1277188  12.69113142 11.00427164\n",
            " 27.7415     19.78824041 29.12300559 22.47120276 13.62107245 26.22092711\n",
            " 12.2315837  12.8055218  20.60012581 23.25034366 23.6946682  28.20342386\n",
            " 17.36307829 21.5110173  25.85073818 18.12942556 15.67797036 19.01702125\n",
            " 24.99474808 23.70568903 19.72869038 13.23791715 10.81203972 17.43300163\n",
            " 24.7659554  10.43517713 29.98734371 10.49368349 10.4416824  11.89206716\n",
            " 18.54923491 19.78792735 27.65862851 29.92011927 11.74168911 25.79919424\n",
            " 20.22027699 17.68841162 21.44217104 19.65046465 12.21681016 15.91856203\n",
            " 10.06897951 21.22949751 20.0376566  28.14981065 11.95838831 20.71509996\n",
            " 17.21008195 26.80403379 19.43084366 14.29123922 16.0779337  28.11427418\n",
            " 17.535092   14.08526812 18.20250691 23.38231267 23.12684027 12.12843681\n",
            " 26.43517583 15.60189345 10.79404881 17.00865599 20.87028129 29.11421536\n",
            " 13.48031029 14.94028874 20.51644272 22.61964353 13.05926842 24.67145066\n",
            " 17.07941613 24.17351426 29.20576083 22.50590452 26.01945832 12.20321834\n",
            " 12.35218024 12.42738456 23.01543853 18.48533298 28.52619117 28.01665282\n",
            " 23.83402791 16.06045511 14.57920495 26.69013954 22.66935188 15.55633737\n",
            " 20.37596644 18.47562208 11.51061352 27.99799962 26.40402347 14.95133757\n",
            " 15.68539905 27.89173353 19.65672041 21.24983746 11.87061529 29.22935713\n",
            " 15.65489547 18.71457381 20.01456991 14.41063334 18.53573425 21.04344205\n",
            " 25.38575469 29.25864273 27.4048749  24.02875476 17.33522556 12.6124289\n",
            " 22.78121517 29.5128074  21.34954205 21.9701824  16.93513418 29.11462831\n",
            " 26.17633959 20.42798968 28.41816807 17.51517388 17.98273035 15.07183843\n",
            " 16.94111097 20.88418394 18.72343144 19.35232697 15.3427928  14.81845696\n",
            " 11.75679148 18.40816746 29.55991743 25.24681489 24.79820703 12.28953045\n",
            " 13.19296895 13.00814839 15.90609814 19.62432493 12.30669146 25.27764669\n",
            " 23.5314358  26.3029993  24.13923558 29.87933732 20.90407523 19.19220806\n",
            " 22.29720313 27.52711893 22.54218511 11.8564618  13.69739635 24.06504583\n",
            " 28.66201272 24.27766711 11.24413066 10.75414914 22.8647531  21.75496664\n",
            " 18.32721466 26.89643355 28.83314046 15.30037877 28.2042246  11.11704343\n",
            " 19.92944251 26.74550618 25.27841301 28.33268337 19.14178045 14.18674825\n",
            " 20.20683661 17.65391013 19.73143641 20.52666864 12.48527223 17.13133813\n",
            " 17.30340016 29.1633357  18.84728159 25.34119004 11.91042774 17.73494468\n",
            " 20.02043893 22.8319432  26.99873294 12.20252116 22.0243602  10.04283506\n",
            " 13.35981301 19.3831671  20.85095126 16.06554299 13.67593497 11.8128319\n",
            " 16.3077949  24.99975806 12.72844619 18.87230913 15.72075115 25.49499912\n",
            " 18.96162564 21.3412367  22.90507996 18.98646569 15.94799982 13.74295139\n",
            " 28.72048031 20.3725291  27.88603149 12.22442495]\n"
          ],
          "name": "stdout"
        }
      ]
    },
    {
      "cell_type": "markdown",
      "metadata": {
        "id": "a1Gid-v3jiau"
      },
      "source": [
        "#### Mean and Variance "
      ]
    },
    {
      "cell_type": "code",
      "metadata": {
        "id": "8tscjDNajiau",
        "outputId": "dd97fa09-e0e6-47f9-bcc0-5e5289c4a2a9"
      },
      "source": [
        "print('Mean is ', data_uniform.mean(), '\\n')\n",
        "\n",
        "print('Variance is ', data_uniform.var(), '\\n')"
      ],
      "execution_count": null,
      "outputs": [
        {
          "output_type": "stream",
          "text": [
            "Mean is  20.03862369444051 \n",
            "\n",
            "Variance is  33.812312288095626 \n",
            "\n"
          ],
          "name": "stdout"
        }
      ]
    },
    {
      "cell_type": "markdown",
      "metadata": {
        "id": "UlC25Csfjiav"
      },
      "source": [
        "#### Plotting Uniform Distribution"
      ]
    },
    {
      "cell_type": "code",
      "metadata": {
        "id": "Z5FteKv0jiav",
        "outputId": "a86cb72e-2f01-4f86-84f0-8d7df63d0330"
      },
      "source": [
        "import seaborn as sns\n",
        "\n",
        "ax = sns.distplot(data_uniform,\n",
        "                  bins=100,\n",
        "                  kde=True,\n",
        "                  color='green',\n",
        "                  hist_kws={\"linewidth\": 15,'alpha':0.5})\n",
        "\n",
        "ax.set(xlabel='Random Uniform Numbers ', ylabel='Frequency', title='Uniform Distribution')\n",
        "\n",
        "ax"
      ],
      "execution_count": null,
      "outputs": [
        {
          "output_type": "execute_result",
          "data": {
            "text/plain": [
              "<matplotlib.axes._subplots.AxesSubplot at 0x21317260f60>"
            ]
          },
          "metadata": {
            "tags": []
          },
          "execution_count": 22
        },
        {
          "output_type": "display_data",
          "data": {
            "image/png": "[encoded data removed]",
            "text/plain": [
              "<Figure size 432x288 with 1 Axes>"
            ]
          },
          "metadata": {
            "tags": [],
            "needs_background": "light"
          }
        }
      ]
    }
  ]
}