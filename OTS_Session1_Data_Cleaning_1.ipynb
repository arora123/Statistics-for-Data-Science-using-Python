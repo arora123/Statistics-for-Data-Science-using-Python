{
  "nbformat": 4,
  "nbformat_minor": 0,
  "metadata": {
    "colab": {
      "name": "OTS_Session1_Data_Cleaning_1.ipynb",
      "provenance": [],
      "collapsed_sections": [],
      "include_colab_link": true
    },
    "kernelspec": {
      "name": "python3",
      "display_name": "Python 3"
    }
  },
  "cells": [
    {
      "cell_type": "markdown",
      "metadata": {
        "id": "view-in-github",
        "colab_type": "text"
      },
      "source": [
        "<a href=\"https://colab.research.google.com/github/arora123/Statistics-for-Data-Science-using-Python/blob/main/OTS_Session1_Data_Cleaning_1.ipynb\" target=\"_parent\"><img src=\"https://colab.research.google.com/assets/colab-badge.svg\" alt=\"Open In Colab\"/></a>"
      ]
    },
    {
      "cell_type": "markdown",
      "metadata": {
        "id": "itrdUZVObkFR"
      },
      "source": [
        "# Data Cleaning using pandas\n",
        "##Missing values Treatment\n",
        "\n",
        "dropna()\n",
        "fillna()"
      ]
    },
    {
      "cell_type": "code",
      "metadata": {
        "id": "IMdW7vM23zuN",
        "colab": {
          "base_uri": "https://localhost:8080/",
          "height": 409
        },
        "outputId": "46b4b2c0-6592-40f8-b51f-694f957fe98c"
      },
      "source": [
        "# import data set\n",
        "import pandas as pd\n",
        "bank = pd.read_csv('https://raw.githubusercontent.com/arora123/Data/master/bank.csv')\n",
        "bank"
      ],
      "execution_count": 2,
      "outputs": [
        {
          "output_type": "execute_result",
          "data": {
            "text/html": [
              "<div>\n",
              "<style scoped>\n",
              "    .dataframe tbody tr th:only-of-type {\n",
              "        vertical-align: middle;\n",
              "    }\n",
              "\n",
              "    .dataframe tbody tr th {\n",
              "        vertical-align: top;\n",
              "    }\n",
              "\n",
              "    .dataframe thead th {\n",
              "        text-align: right;\n",
              "    }\n",
              "</style>\n",
              "<table border=\"1\" class=\"dataframe\">\n",
              "  <thead>\n",
              "    <tr style=\"text-align: right;\">\n",
              "      <th></th>\n",
              "      <th>Year</th>\n",
              "      <th>Month</th>\n",
              "      <th>Quarter</th>\n",
              "      <th>Balance</th>\n",
              "      <th>Withdrawal</th>\n",
              "    </tr>\n",
              "  </thead>\n",
              "  <tbody>\n",
              "    <tr>\n",
              "      <th>0</th>\n",
              "      <td>2000.0</td>\n",
              "      <td>1</td>\n",
              "      <td>Q1</td>\n",
              "      <td>10000.0</td>\n",
              "      <td>NaN</td>\n",
              "    </tr>\n",
              "    <tr>\n",
              "      <th>1</th>\n",
              "      <td>NaN</td>\n",
              "      <td>2</td>\n",
              "      <td>NaN</td>\n",
              "      <td>NaN</td>\n",
              "      <td>NaN</td>\n",
              "    </tr>\n",
              "    <tr>\n",
              "      <th>2</th>\n",
              "      <td>NaN</td>\n",
              "      <td>3</td>\n",
              "      <td>NaN</td>\n",
              "      <td>NaN</td>\n",
              "      <td>NaN</td>\n",
              "    </tr>\n",
              "    <tr>\n",
              "      <th>3</th>\n",
              "      <td>NaN</td>\n",
              "      <td>4</td>\n",
              "      <td>Q2</td>\n",
              "      <td>6000.0</td>\n",
              "      <td>4000.0</td>\n",
              "    </tr>\n",
              "    <tr>\n",
              "      <th>4</th>\n",
              "      <td>NaN</td>\n",
              "      <td>5</td>\n",
              "      <td>NaN</td>\n",
              "      <td>NaN</td>\n",
              "      <td>NaN</td>\n",
              "    </tr>\n",
              "    <tr>\n",
              "      <th>5</th>\n",
              "      <td>NaN</td>\n",
              "      <td>6</td>\n",
              "      <td>NaN</td>\n",
              "      <td>NaN</td>\n",
              "      <td>NaN</td>\n",
              "    </tr>\n",
              "    <tr>\n",
              "      <th>6</th>\n",
              "      <td>NaN</td>\n",
              "      <td>7</td>\n",
              "      <td>Q3</td>\n",
              "      <td>NaN</td>\n",
              "      <td>NaN</td>\n",
              "    </tr>\n",
              "    <tr>\n",
              "      <th>7</th>\n",
              "      <td>NaN</td>\n",
              "      <td>8</td>\n",
              "      <td>NaN</td>\n",
              "      <td>3000.0</td>\n",
              "      <td>3000.0</td>\n",
              "    </tr>\n",
              "    <tr>\n",
              "      <th>8</th>\n",
              "      <td>NaN</td>\n",
              "      <td>9</td>\n",
              "      <td>NaN</td>\n",
              "      <td>2000.0</td>\n",
              "      <td>1000.0</td>\n",
              "    </tr>\n",
              "    <tr>\n",
              "      <th>9</th>\n",
              "      <td>NaN</td>\n",
              "      <td>10</td>\n",
              "      <td>Q4</td>\n",
              "      <td>NaN</td>\n",
              "      <td>NaN</td>\n",
              "    </tr>\n",
              "    <tr>\n",
              "      <th>10</th>\n",
              "      <td>NaN</td>\n",
              "      <td>11</td>\n",
              "      <td>NaN</td>\n",
              "      <td>NaN</td>\n",
              "      <td>NaN</td>\n",
              "    </tr>\n",
              "    <tr>\n",
              "      <th>11</th>\n",
              "      <td>NaN</td>\n",
              "      <td>12</td>\n",
              "      <td>NaN</td>\n",
              "      <td>1000.0</td>\n",
              "      <td>1000.0</td>\n",
              "    </tr>\n",
              "  </tbody>\n",
              "</table>\n",
              "</div>"
            ],
            "text/plain": [
              "      Year  Month Quarter  Balance  Withdrawal\n",
              "0   2000.0      1      Q1  10000.0         NaN\n",
              "1      NaN      2     NaN      NaN         NaN\n",
              "2      NaN      3     NaN      NaN         NaN\n",
              "3      NaN      4      Q2   6000.0      4000.0\n",
              "4      NaN      5     NaN      NaN         NaN\n",
              "5      NaN      6     NaN      NaN         NaN\n",
              "6      NaN      7      Q3      NaN         NaN\n",
              "7      NaN      8     NaN   3000.0      3000.0\n",
              "8      NaN      9     NaN   2000.0      1000.0\n",
              "9      NaN     10      Q4      NaN         NaN\n",
              "10     NaN     11     NaN      NaN         NaN\n",
              "11     NaN     12     NaN   1000.0      1000.0"
            ]
          },
          "metadata": {
            "tags": []
          },
          "execution_count": 2
        }
      ]
    },
    {
      "cell_type": "code",
      "metadata": {
        "id": "GG_ce4WWo7sv",
        "colab": {
          "base_uri": "https://localhost:8080/"
        },
        "outputId": "624e314a-aa18-4e25-ce62-e7d3ac9ca0a7"
      },
      "source": [
        "bank.info()"
      ],
      "execution_count": 3,
      "outputs": [
        {
          "output_type": "stream",
          "text": [
            "<class 'pandas.core.frame.DataFrame'>\n",
            "RangeIndex: 12 entries, 0 to 11\n",
            "Data columns (total 5 columns):\n",
            " #   Column      Non-Null Count  Dtype  \n",
            "---  ------      --------------  -----  \n",
            " 0   Year        1 non-null      float64\n",
            " 1   Month       12 non-null     int64  \n",
            " 2   Quarter     4 non-null      object \n",
            " 3   Balance     5 non-null      float64\n",
            " 4   Withdrawal  4 non-null      float64\n",
            "dtypes: float64(3), int64(1), object(1)\n",
            "memory usage: 608.0+ bytes\n"
          ],
          "name": "stdout"
        }
      ]
    },
    {
      "cell_type": "code",
      "metadata": {
        "id": "5TbP6kEco7om",
        "colab": {
          "base_uri": "https://localhost:8080/",
          "height": 379
        },
        "outputId": "51e3daff-33bb-46f4-e2a7-2a65c8b33a48"
      },
      "source": [
        "bank.describe(include='all')"
      ],
      "execution_count": 4,
      "outputs": [
        {
          "output_type": "execute_result",
          "data": {
            "text/html": [
              "<div>\n",
              "<style scoped>\n",
              "    .dataframe tbody tr th:only-of-type {\n",
              "        vertical-align: middle;\n",
              "    }\n",
              "\n",
              "    .dataframe tbody tr th {\n",
              "        vertical-align: top;\n",
              "    }\n",
              "\n",
              "    .dataframe thead th {\n",
              "        text-align: right;\n",
              "    }\n",
              "</style>\n",
              "<table border=\"1\" class=\"dataframe\">\n",
              "  <thead>\n",
              "    <tr style=\"text-align: right;\">\n",
              "      <th></th>\n",
              "      <th>Year</th>\n",
              "      <th>Month</th>\n",
              "      <th>Quarter</th>\n",
              "      <th>Balance</th>\n",
              "      <th>Withdrawal</th>\n",
              "    </tr>\n",
              "  </thead>\n",
              "  <tbody>\n",
              "    <tr>\n",
              "      <th>count</th>\n",
              "      <td>1.0</td>\n",
              "      <td>12.000000</td>\n",
              "      <td>4</td>\n",
              "      <td>5.000000</td>\n",
              "      <td>4.0</td>\n",
              "    </tr>\n",
              "    <tr>\n",
              "      <th>unique</th>\n",
              "      <td>NaN</td>\n",
              "      <td>NaN</td>\n",
              "      <td>4</td>\n",
              "      <td>NaN</td>\n",
              "      <td>NaN</td>\n",
              "    </tr>\n",
              "    <tr>\n",
              "      <th>top</th>\n",
              "      <td>NaN</td>\n",
              "      <td>NaN</td>\n",
              "      <td>Q4</td>\n",
              "      <td>NaN</td>\n",
              "      <td>NaN</td>\n",
              "    </tr>\n",
              "    <tr>\n",
              "      <th>freq</th>\n",
              "      <td>NaN</td>\n",
              "      <td>NaN</td>\n",
              "      <td>1</td>\n",
              "      <td>NaN</td>\n",
              "      <td>NaN</td>\n",
              "    </tr>\n",
              "    <tr>\n",
              "      <th>mean</th>\n",
              "      <td>2000.0</td>\n",
              "      <td>6.500000</td>\n",
              "      <td>NaN</td>\n",
              "      <td>4400.000000</td>\n",
              "      <td>2250.0</td>\n",
              "    </tr>\n",
              "    <tr>\n",
              "      <th>std</th>\n",
              "      <td>NaN</td>\n",
              "      <td>3.605551</td>\n",
              "      <td>NaN</td>\n",
              "      <td>3646.916506</td>\n",
              "      <td>1500.0</td>\n",
              "    </tr>\n",
              "    <tr>\n",
              "      <th>min</th>\n",
              "      <td>2000.0</td>\n",
              "      <td>1.000000</td>\n",
              "      <td>NaN</td>\n",
              "      <td>1000.000000</td>\n",
              "      <td>1000.0</td>\n",
              "    </tr>\n",
              "    <tr>\n",
              "      <th>25%</th>\n",
              "      <td>2000.0</td>\n",
              "      <td>3.750000</td>\n",
              "      <td>NaN</td>\n",
              "      <td>2000.000000</td>\n",
              "      <td>1000.0</td>\n",
              "    </tr>\n",
              "    <tr>\n",
              "      <th>50%</th>\n",
              "      <td>2000.0</td>\n",
              "      <td>6.500000</td>\n",
              "      <td>NaN</td>\n",
              "      <td>3000.000000</td>\n",
              "      <td>2000.0</td>\n",
              "    </tr>\n",
              "    <tr>\n",
              "      <th>75%</th>\n",
              "      <td>2000.0</td>\n",
              "      <td>9.250000</td>\n",
              "      <td>NaN</td>\n",
              "      <td>6000.000000</td>\n",
              "      <td>3250.0</td>\n",
              "    </tr>\n",
              "    <tr>\n",
              "      <th>max</th>\n",
              "      <td>2000.0</td>\n",
              "      <td>12.000000</td>\n",
              "      <td>NaN</td>\n",
              "      <td>10000.000000</td>\n",
              "      <td>4000.0</td>\n",
              "    </tr>\n",
              "  </tbody>\n",
              "</table>\n",
              "</div>"
            ],
            "text/plain": [
              "          Year      Month Quarter       Balance  Withdrawal\n",
              "count      1.0  12.000000       4      5.000000         4.0\n",
              "unique     NaN        NaN       4           NaN         NaN\n",
              "top        NaN        NaN      Q4           NaN         NaN\n",
              "freq       NaN        NaN       1           NaN         NaN\n",
              "mean    2000.0   6.500000     NaN   4400.000000      2250.0\n",
              "std        NaN   3.605551     NaN   3646.916506      1500.0\n",
              "min     2000.0   1.000000     NaN   1000.000000      1000.0\n",
              "25%     2000.0   3.750000     NaN   2000.000000      1000.0\n",
              "50%     2000.0   6.500000     NaN   3000.000000      2000.0\n",
              "75%     2000.0   9.250000     NaN   6000.000000      3250.0\n",
              "max     2000.0  12.000000     NaN  10000.000000      4000.0"
            ]
          },
          "metadata": {
            "tags": []
          },
          "execution_count": 4
        }
      ]
    },
    {
      "cell_type": "code",
      "metadata": {
        "id": "N7IpOyXAo7i3",
        "colab": {
          "base_uri": "https://localhost:8080/",
          "height": 288
        },
        "outputId": "b6bfe620-29f7-4a67-c16b-5875215357c9"
      },
      "source": [
        "bank[['Balance', 'Withdrawal']].describe()"
      ],
      "execution_count": 5,
      "outputs": [
        {
          "output_type": "execute_result",
          "data": {
            "text/html": [
              "<div>\n",
              "<style scoped>\n",
              "    .dataframe tbody tr th:only-of-type {\n",
              "        vertical-align: middle;\n",
              "    }\n",
              "\n",
              "    .dataframe tbody tr th {\n",
              "        vertical-align: top;\n",
              "    }\n",
              "\n",
              "    .dataframe thead th {\n",
              "        text-align: right;\n",
              "    }\n",
              "</style>\n",
              "<table border=\"1\" class=\"dataframe\">\n",
              "  <thead>\n",
              "    <tr style=\"text-align: right;\">\n",
              "      <th></th>\n",
              "      <th>Balance</th>\n",
              "      <th>Withdrawal</th>\n",
              "    </tr>\n",
              "  </thead>\n",
              "  <tbody>\n",
              "    <tr>\n",
              "      <th>count</th>\n",
              "      <td>5.000000</td>\n",
              "      <td>4.0</td>\n",
              "    </tr>\n",
              "    <tr>\n",
              "      <th>mean</th>\n",
              "      <td>4400.000000</td>\n",
              "      <td>2250.0</td>\n",
              "    </tr>\n",
              "    <tr>\n",
              "      <th>std</th>\n",
              "      <td>3646.916506</td>\n",
              "      <td>1500.0</td>\n",
              "    </tr>\n",
              "    <tr>\n",
              "      <th>min</th>\n",
              "      <td>1000.000000</td>\n",
              "      <td>1000.0</td>\n",
              "    </tr>\n",
              "    <tr>\n",
              "      <th>25%</th>\n",
              "      <td>2000.000000</td>\n",
              "      <td>1000.0</td>\n",
              "    </tr>\n",
              "    <tr>\n",
              "      <th>50%</th>\n",
              "      <td>3000.000000</td>\n",
              "      <td>2000.0</td>\n",
              "    </tr>\n",
              "    <tr>\n",
              "      <th>75%</th>\n",
              "      <td>6000.000000</td>\n",
              "      <td>3250.0</td>\n",
              "    </tr>\n",
              "    <tr>\n",
              "      <th>max</th>\n",
              "      <td>10000.000000</td>\n",
              "      <td>4000.0</td>\n",
              "    </tr>\n",
              "  </tbody>\n",
              "</table>\n",
              "</div>"
            ],
            "text/plain": [
              "            Balance  Withdrawal\n",
              "count      5.000000         4.0\n",
              "mean    4400.000000      2250.0\n",
              "std     3646.916506      1500.0\n",
              "min     1000.000000      1000.0\n",
              "25%     2000.000000      1000.0\n",
              "50%     3000.000000      2000.0\n",
              "75%     6000.000000      3250.0\n",
              "max    10000.000000      4000.0"
            ]
          },
          "metadata": {
            "tags": []
          },
          "execution_count": 5
        }
      ]
    },
    {
      "cell_type": "code",
      "metadata": {
        "id": "dr9aeYhCo7er",
        "colab": {
          "base_uri": "https://localhost:8080/"
        },
        "outputId": "86b97953-9137-4ead-8973-62ffb17e8042"
      },
      "source": [
        "# To check missing values\n",
        "# bank.isnull()\n",
        "\n",
        "# To see the count of missing values column wise\n",
        "bank.isnull().sum()\n"
      ],
      "execution_count": 6,
      "outputs": [
        {
          "output_type": "execute_result",
          "data": {
            "text/plain": [
              "Year          11\n",
              "Month          0\n",
              "Quarter        8\n",
              "Balance        7\n",
              "Withdrawal     8\n",
              "dtype: int64"
            ]
          },
          "metadata": {
            "tags": []
          },
          "execution_count": 6
        }
      ]
    },
    {
      "cell_type": "code",
      "metadata": {
        "id": "O8CnotIRqHxa",
        "colab": {
          "base_uri": "https://localhost:8080/"
        },
        "outputId": "29e58a6d-60fa-4d88-bf19-32370b6bea79"
      },
      "source": [
        "# To see the count of missing values row wise    \n",
        "bank.isnull().sum(axis=1)"
      ],
      "execution_count": 7,
      "outputs": [
        {
          "output_type": "execute_result",
          "data": {
            "text/plain": [
              "0     1\n",
              "1     4\n",
              "2     4\n",
              "3     1\n",
              "4     4\n",
              "5     4\n",
              "6     3\n",
              "7     2\n",
              "8     2\n",
              "9     3\n",
              "10    4\n",
              "11    2\n",
              "dtype: int64"
            ]
          },
          "metadata": {
            "tags": []
          },
          "execution_count": 7
        }
      ]
    },
    {
      "cell_type": "code",
      "metadata": {
        "id": "kJQvG34Og57q",
        "colab": {
          "base_uri": "https://localhost:8080/"
        },
        "outputId": "b3f599f4-5319-47dc-a1cc-c8eb6e786efe"
      },
      "source": [
        "bank.isnull().sum().sort_values(ascending=False) # Check missing values in descending order"
      ],
      "execution_count": 8,
      "outputs": [
        {
          "output_type": "execute_result",
          "data": {
            "text/plain": [
              "Year          11\n",
              "Withdrawal     8\n",
              "Quarter        8\n",
              "Balance        7\n",
              "Month          0\n",
              "dtype: int64"
            ]
          },
          "metadata": {
            "tags": []
          },
          "execution_count": 8
        }
      ]
    },
    {
      "cell_type": "code",
      "metadata": {
        "id": "9hMBPcVVo7Xy",
        "colab": {
          "base_uri": "https://localhost:8080/",
          "height": 409
        },
        "outputId": "c09e376f-6c03-4a0f-9892-7a8f5ba4881c"
      },
      "source": [
        "# remove rows with  'any' missing values\n",
        "\n",
        "bank.dropna()\n",
        "\n",
        "# remove columns with  'any' missing values\n",
        "\n",
        "bank.dropna(axis=1)"
      ],
      "execution_count": 9,
      "outputs": [
        {
          "output_type": "execute_result",
          "data": {
            "text/html": [
              "<div>\n",
              "<style scoped>\n",
              "    .dataframe tbody tr th:only-of-type {\n",
              "        vertical-align: middle;\n",
              "    }\n",
              "\n",
              "    .dataframe tbody tr th {\n",
              "        vertical-align: top;\n",
              "    }\n",
              "\n",
              "    .dataframe thead th {\n",
              "        text-align: right;\n",
              "    }\n",
              "</style>\n",
              "<table border=\"1\" class=\"dataframe\">\n",
              "  <thead>\n",
              "    <tr style=\"text-align: right;\">\n",
              "      <th></th>\n",
              "      <th>Month</th>\n",
              "    </tr>\n",
              "  </thead>\n",
              "  <tbody>\n",
              "    <tr>\n",
              "      <th>0</th>\n",
              "      <td>1</td>\n",
              "    </tr>\n",
              "    <tr>\n",
              "      <th>1</th>\n",
              "      <td>2</td>\n",
              "    </tr>\n",
              "    <tr>\n",
              "      <th>2</th>\n",
              "      <td>3</td>\n",
              "    </tr>\n",
              "    <tr>\n",
              "      <th>3</th>\n",
              "      <td>4</td>\n",
              "    </tr>\n",
              "    <tr>\n",
              "      <th>4</th>\n",
              "      <td>5</td>\n",
              "    </tr>\n",
              "    <tr>\n",
              "      <th>5</th>\n",
              "      <td>6</td>\n",
              "    </tr>\n",
              "    <tr>\n",
              "      <th>6</th>\n",
              "      <td>7</td>\n",
              "    </tr>\n",
              "    <tr>\n",
              "      <th>7</th>\n",
              "      <td>8</td>\n",
              "    </tr>\n",
              "    <tr>\n",
              "      <th>8</th>\n",
              "      <td>9</td>\n",
              "    </tr>\n",
              "    <tr>\n",
              "      <th>9</th>\n",
              "      <td>10</td>\n",
              "    </tr>\n",
              "    <tr>\n",
              "      <th>10</th>\n",
              "      <td>11</td>\n",
              "    </tr>\n",
              "    <tr>\n",
              "      <th>11</th>\n",
              "      <td>12</td>\n",
              "    </tr>\n",
              "  </tbody>\n",
              "</table>\n",
              "</div>"
            ],
            "text/plain": [
              "    Month\n",
              "0       1\n",
              "1       2\n",
              "2       3\n",
              "3       4\n",
              "4       5\n",
              "5       6\n",
              "6       7\n",
              "7       8\n",
              "8       9\n",
              "9      10\n",
              "10     11\n",
              "11     12"
            ]
          },
          "metadata": {
            "tags": []
          },
          "execution_count": 9
        }
      ]
    },
    {
      "cell_type": "code",
      "metadata": {
        "id": "mot7rnjlo7Tv",
        "colab": {
          "base_uri": "https://localhost:8080/",
          "height": 409
        },
        "outputId": "abd36d8f-3f3e-434f-f268-d650212214cf"
      },
      "source": [
        "# remove rows with  'all' missing values\n",
        "\n",
        "# bank.dropna(how='all')\n",
        "\n",
        "# remove columns with  'all' missing values\n",
        "\n",
        "bank.dropna(axis=1, how='all')"
      ],
      "execution_count": 10,
      "outputs": [
        {
          "output_type": "execute_result",
          "data": {
            "text/html": [
              "<div>\n",
              "<style scoped>\n",
              "    .dataframe tbody tr th:only-of-type {\n",
              "        vertical-align: middle;\n",
              "    }\n",
              "\n",
              "    .dataframe tbody tr th {\n",
              "        vertical-align: top;\n",
              "    }\n",
              "\n",
              "    .dataframe thead th {\n",
              "        text-align: right;\n",
              "    }\n",
              "</style>\n",
              "<table border=\"1\" class=\"dataframe\">\n",
              "  <thead>\n",
              "    <tr style=\"text-align: right;\">\n",
              "      <th></th>\n",
              "      <th>Year</th>\n",
              "      <th>Month</th>\n",
              "      <th>Quarter</th>\n",
              "      <th>Balance</th>\n",
              "      <th>Withdrawal</th>\n",
              "    </tr>\n",
              "  </thead>\n",
              "  <tbody>\n",
              "    <tr>\n",
              "      <th>0</th>\n",
              "      <td>2000.0</td>\n",
              "      <td>1</td>\n",
              "      <td>Q1</td>\n",
              "      <td>10000.0</td>\n",
              "      <td>NaN</td>\n",
              "    </tr>\n",
              "    <tr>\n",
              "      <th>1</th>\n",
              "      <td>NaN</td>\n",
              "      <td>2</td>\n",
              "      <td>NaN</td>\n",
              "      <td>NaN</td>\n",
              "      <td>NaN</td>\n",
              "    </tr>\n",
              "    <tr>\n",
              "      <th>2</th>\n",
              "      <td>NaN</td>\n",
              "      <td>3</td>\n",
              "      <td>NaN</td>\n",
              "      <td>NaN</td>\n",
              "      <td>NaN</td>\n",
              "    </tr>\n",
              "    <tr>\n",
              "      <th>3</th>\n",
              "      <td>NaN</td>\n",
              "      <td>4</td>\n",
              "      <td>Q2</td>\n",
              "      <td>6000.0</td>\n",
              "      <td>4000.0</td>\n",
              "    </tr>\n",
              "    <tr>\n",
              "      <th>4</th>\n",
              "      <td>NaN</td>\n",
              "      <td>5</td>\n",
              "      <td>NaN</td>\n",
              "      <td>NaN</td>\n",
              "      <td>NaN</td>\n",
              "    </tr>\n",
              "    <tr>\n",
              "      <th>5</th>\n",
              "      <td>NaN</td>\n",
              "      <td>6</td>\n",
              "      <td>NaN</td>\n",
              "      <td>NaN</td>\n",
              "      <td>NaN</td>\n",
              "    </tr>\n",
              "    <tr>\n",
              "      <th>6</th>\n",
              "      <td>NaN</td>\n",
              "      <td>7</td>\n",
              "      <td>Q3</td>\n",
              "      <td>NaN</td>\n",
              "      <td>NaN</td>\n",
              "    </tr>\n",
              "    <tr>\n",
              "      <th>7</th>\n",
              "      <td>NaN</td>\n",
              "      <td>8</td>\n",
              "      <td>NaN</td>\n",
              "      <td>3000.0</td>\n",
              "      <td>3000.0</td>\n",
              "    </tr>\n",
              "    <tr>\n",
              "      <th>8</th>\n",
              "      <td>NaN</td>\n",
              "      <td>9</td>\n",
              "      <td>NaN</td>\n",
              "      <td>2000.0</td>\n",
              "      <td>1000.0</td>\n",
              "    </tr>\n",
              "    <tr>\n",
              "      <th>9</th>\n",
              "      <td>NaN</td>\n",
              "      <td>10</td>\n",
              "      <td>Q4</td>\n",
              "      <td>NaN</td>\n",
              "      <td>NaN</td>\n",
              "    </tr>\n",
              "    <tr>\n",
              "      <th>10</th>\n",
              "      <td>NaN</td>\n",
              "      <td>11</td>\n",
              "      <td>NaN</td>\n",
              "      <td>NaN</td>\n",
              "      <td>NaN</td>\n",
              "    </tr>\n",
              "    <tr>\n",
              "      <th>11</th>\n",
              "      <td>NaN</td>\n",
              "      <td>12</td>\n",
              "      <td>NaN</td>\n",
              "      <td>1000.0</td>\n",
              "      <td>1000.0</td>\n",
              "    </tr>\n",
              "  </tbody>\n",
              "</table>\n",
              "</div>"
            ],
            "text/plain": [
              "      Year  Month Quarter  Balance  Withdrawal\n",
              "0   2000.0      1      Q1  10000.0         NaN\n",
              "1      NaN      2     NaN      NaN         NaN\n",
              "2      NaN      3     NaN      NaN         NaN\n",
              "3      NaN      4      Q2   6000.0      4000.0\n",
              "4      NaN      5     NaN      NaN         NaN\n",
              "5      NaN      6     NaN      NaN         NaN\n",
              "6      NaN      7      Q3      NaN         NaN\n",
              "7      NaN      8     NaN   3000.0      3000.0\n",
              "8      NaN      9     NaN   2000.0      1000.0\n",
              "9      NaN     10      Q4      NaN         NaN\n",
              "10     NaN     11     NaN      NaN         NaN\n",
              "11     NaN     12     NaN   1000.0      1000.0"
            ]
          },
          "metadata": {
            "tags": []
          },
          "execution_count": 10
        }
      ]
    },
    {
      "cell_type": "code",
      "metadata": {
        "id": "TPu2mXIC-MSF",
        "colab": {
          "base_uri": "https://localhost:8080/"
        },
        "outputId": "314bc9dc-c86c-4687-8763-5fd8b6efe831"
      },
      "source": [
        "bank.info()"
      ],
      "execution_count": 11,
      "outputs": [
        {
          "output_type": "stream",
          "text": [
            "<class 'pandas.core.frame.DataFrame'>\n",
            "RangeIndex: 12 entries, 0 to 11\n",
            "Data columns (total 5 columns):\n",
            " #   Column      Non-Null Count  Dtype  \n",
            "---  ------      --------------  -----  \n",
            " 0   Year        1 non-null      float64\n",
            " 1   Month       12 non-null     int64  \n",
            " 2   Quarter     4 non-null      object \n",
            " 3   Balance     5 non-null      float64\n",
            " 4   Withdrawal  4 non-null      float64\n",
            "dtypes: float64(3), int64(1), object(1)\n",
            "memory usage: 608.0+ bytes\n"
          ],
          "name": "stdout"
        }
      ]
    },
    {
      "cell_type": "code",
      "metadata": {
        "id": "lXZ-smXX-VIz",
        "colab": {
          "base_uri": "https://localhost:8080/"
        },
        "outputId": "f8ff23d8-820a-4a12-896a-f3735e9aacae"
      },
      "source": [
        "# print(len(bank)) \n",
        "print(bank.shape)\n",
        "print(bank.dtypes)\n"
      ],
      "execution_count": 12,
      "outputs": [
        {
          "output_type": "stream",
          "text": [
            "(12, 5)\n",
            "Year          float64\n",
            "Month           int64\n",
            "Quarter        object\n",
            "Balance       float64\n",
            "Withdrawal    float64\n",
            "dtype: object\n"
          ],
          "name": "stdout"
        }
      ]
    },
    {
      "cell_type": "markdown",
      "metadata": {
        "id": "wmBUXnOj4MVu"
      },
      "source": [
        "Contains many missing values in all columns except 'Month'"
      ]
    },
    {
      "cell_type": "code",
      "metadata": {
        "id": "j5tOu9Fx4ZRK",
        "colab": {
          "base_uri": "https://localhost:8080/",
          "height": 409
        },
        "outputId": "4283affe-bc78-4b30-efae-772298dba2e2"
      },
      "source": [
        "bank.isnull()"
      ],
      "execution_count": 13,
      "outputs": [
        {
          "output_type": "execute_result",
          "data": {
            "text/html": [
              "<div>\n",
              "<style scoped>\n",
              "    .dataframe tbody tr th:only-of-type {\n",
              "        vertical-align: middle;\n",
              "    }\n",
              "\n",
              "    .dataframe tbody tr th {\n",
              "        vertical-align: top;\n",
              "    }\n",
              "\n",
              "    .dataframe thead th {\n",
              "        text-align: right;\n",
              "    }\n",
              "</style>\n",
              "<table border=\"1\" class=\"dataframe\">\n",
              "  <thead>\n",
              "    <tr style=\"text-align: right;\">\n",
              "      <th></th>\n",
              "      <th>Year</th>\n",
              "      <th>Month</th>\n",
              "      <th>Quarter</th>\n",
              "      <th>Balance</th>\n",
              "      <th>Withdrawal</th>\n",
              "    </tr>\n",
              "  </thead>\n",
              "  <tbody>\n",
              "    <tr>\n",
              "      <th>0</th>\n",
              "      <td>False</td>\n",
              "      <td>False</td>\n",
              "      <td>False</td>\n",
              "      <td>False</td>\n",
              "      <td>True</td>\n",
              "    </tr>\n",
              "    <tr>\n",
              "      <th>1</th>\n",
              "      <td>True</td>\n",
              "      <td>False</td>\n",
              "      <td>True</td>\n",
              "      <td>True</td>\n",
              "      <td>True</td>\n",
              "    </tr>\n",
              "    <tr>\n",
              "      <th>2</th>\n",
              "      <td>True</td>\n",
              "      <td>False</td>\n",
              "      <td>True</td>\n",
              "      <td>True</td>\n",
              "      <td>True</td>\n",
              "    </tr>\n",
              "    <tr>\n",
              "      <th>3</th>\n",
              "      <td>True</td>\n",
              "      <td>False</td>\n",
              "      <td>False</td>\n",
              "      <td>False</td>\n",
              "      <td>False</td>\n",
              "    </tr>\n",
              "    <tr>\n",
              "      <th>4</th>\n",
              "      <td>True</td>\n",
              "      <td>False</td>\n",
              "      <td>True</td>\n",
              "      <td>True</td>\n",
              "      <td>True</td>\n",
              "    </tr>\n",
              "    <tr>\n",
              "      <th>5</th>\n",
              "      <td>True</td>\n",
              "      <td>False</td>\n",
              "      <td>True</td>\n",
              "      <td>True</td>\n",
              "      <td>True</td>\n",
              "    </tr>\n",
              "    <tr>\n",
              "      <th>6</th>\n",
              "      <td>True</td>\n",
              "      <td>False</td>\n",
              "      <td>False</td>\n",
              "      <td>True</td>\n",
              "      <td>True</td>\n",
              "    </tr>\n",
              "    <tr>\n",
              "      <th>7</th>\n",
              "      <td>True</td>\n",
              "      <td>False</td>\n",
              "      <td>True</td>\n",
              "      <td>False</td>\n",
              "      <td>False</td>\n",
              "    </tr>\n",
              "    <tr>\n",
              "      <th>8</th>\n",
              "      <td>True</td>\n",
              "      <td>False</td>\n",
              "      <td>True</td>\n",
              "      <td>False</td>\n",
              "      <td>False</td>\n",
              "    </tr>\n",
              "    <tr>\n",
              "      <th>9</th>\n",
              "      <td>True</td>\n",
              "      <td>False</td>\n",
              "      <td>False</td>\n",
              "      <td>True</td>\n",
              "      <td>True</td>\n",
              "    </tr>\n",
              "    <tr>\n",
              "      <th>10</th>\n",
              "      <td>True</td>\n",
              "      <td>False</td>\n",
              "      <td>True</td>\n",
              "      <td>True</td>\n",
              "      <td>True</td>\n",
              "    </tr>\n",
              "    <tr>\n",
              "      <th>11</th>\n",
              "      <td>True</td>\n",
              "      <td>False</td>\n",
              "      <td>True</td>\n",
              "      <td>False</td>\n",
              "      <td>False</td>\n",
              "    </tr>\n",
              "  </tbody>\n",
              "</table>\n",
              "</div>"
            ],
            "text/plain": [
              "     Year  Month  Quarter  Balance  Withdrawal\n",
              "0   False  False    False    False        True\n",
              "1    True  False     True     True        True\n",
              "2    True  False     True     True        True\n",
              "3    True  False    False    False       False\n",
              "4    True  False     True     True        True\n",
              "5    True  False     True     True        True\n",
              "6    True  False    False     True        True\n",
              "7    True  False     True    False       False\n",
              "8    True  False     True    False       False\n",
              "9    True  False    False     True        True\n",
              "10   True  False     True     True        True\n",
              "11   True  False     True    False       False"
            ]
          },
          "metadata": {
            "tags": []
          },
          "execution_count": 13
        }
      ]
    },
    {
      "cell_type": "code",
      "metadata": {
        "id": "cKRxN2D3odlY",
        "colab": {
          "base_uri": "https://localhost:8080/"
        },
        "outputId": "84ccf121-511c-4cd6-bc98-e19be601639c"
      },
      "source": [
        "# Check if missing values in one column\n",
        "print(bank['Year'].isnull())\n",
        "# check summary of all numeric columns of data frame\n",
        "print(bank.describe())"
      ],
      "execution_count": 14,
      "outputs": [
        {
          "output_type": "stream",
          "text": [
            "0     False\n",
            "1      True\n",
            "2      True\n",
            "3      True\n",
            "4      True\n",
            "5      True\n",
            "6      True\n",
            "7      True\n",
            "8      True\n",
            "9      True\n",
            "10     True\n",
            "11     True\n",
            "Name: Year, dtype: bool\n",
            "         Year      Month       Balance  Withdrawal\n",
            "count     1.0  12.000000      5.000000         4.0\n",
            "mean   2000.0   6.500000   4400.000000      2250.0\n",
            "std       NaN   3.605551   3646.916506      1500.0\n",
            "min    2000.0   1.000000   1000.000000      1000.0\n",
            "25%    2000.0   3.750000   2000.000000      1000.0\n",
            "50%    2000.0   6.500000   3000.000000      2000.0\n",
            "75%    2000.0   9.250000   6000.000000      3250.0\n",
            "max    2000.0  12.000000  10000.000000      4000.0\n"
          ],
          "name": "stdout"
        }
      ]
    },
    {
      "cell_type": "code",
      "metadata": {
        "id": "nAbGjXgM-lyP",
        "colab": {
          "base_uri": "https://localhost:8080/"
        },
        "outputId": "30fb257c-d2c8-4d15-8a8f-4a28beb18850"
      },
      "source": [
        "print('Some of the important summary numbers for column named Balance are : \\n')\n",
        "print('Data Type is ', bank['Balance'].dtypes)\n",
        "print('Mean is ', bank['Balance'].mean())\n",
        "print('median is ', bank['Balance'].median())\n",
        "print('std is ', bank['Balance'].std())\n",
        "print('skewness is ',  bank['Balance'].skew(), '\\n')\n",
        "\n",
        "print('7 point summary is here: \\n\\n\\n',  bank['Balance'].describe())"
      ],
      "execution_count": 15,
      "outputs": [
        {
          "output_type": "stream",
          "text": [
            "Some of the important summary numbers for column named Balance are : \n",
            "\n",
            "Data Type is  float64\n",
            "Mean is  4400.0\n",
            "median is  3000.0\n",
            "std is  3646.916505762094\n",
            "skewness is  1.0638300169445647 \n",
            "\n",
            "7 point summary is here: \n",
            "\n",
            "\n",
            " count        5.000000\n",
            "mean      4400.000000\n",
            "std       3646.916506\n",
            "min       1000.000000\n",
            "25%       2000.000000\n",
            "50%       3000.000000\n",
            "75%       6000.000000\n",
            "max      10000.000000\n",
            "Name: Balance, dtype: float64\n"
          ],
          "name": "stdout"
        }
      ]
    },
    {
      "cell_type": "code",
      "metadata": {
        "id": "0UIKf5Z-el3Z",
        "colab": {
          "base_uri": "https://localhost:8080/",
          "height": 379
        },
        "outputId": "4ead4581-d662-4e9b-d455-5698cc820a58"
      },
      "source": [
        "# Get summary of all columns \n",
        "# bank.describe(include='all')\n",
        "bank.describe(include='all').round(2)"
      ],
      "execution_count": 16,
      "outputs": [
        {
          "output_type": "execute_result",
          "data": {
            "text/html": [
              "<div>\n",
              "<style scoped>\n",
              "    .dataframe tbody tr th:only-of-type {\n",
              "        vertical-align: middle;\n",
              "    }\n",
              "\n",
              "    .dataframe tbody tr th {\n",
              "        vertical-align: top;\n",
              "    }\n",
              "\n",
              "    .dataframe thead th {\n",
              "        text-align: right;\n",
              "    }\n",
              "</style>\n",
              "<table border=\"1\" class=\"dataframe\">\n",
              "  <thead>\n",
              "    <tr style=\"text-align: right;\">\n",
              "      <th></th>\n",
              "      <th>Year</th>\n",
              "      <th>Month</th>\n",
              "      <th>Quarter</th>\n",
              "      <th>Balance</th>\n",
              "      <th>Withdrawal</th>\n",
              "    </tr>\n",
              "  </thead>\n",
              "  <tbody>\n",
              "    <tr>\n",
              "      <th>count</th>\n",
              "      <td>1.0</td>\n",
              "      <td>12.00</td>\n",
              "      <td>4</td>\n",
              "      <td>5.00</td>\n",
              "      <td>4.0</td>\n",
              "    </tr>\n",
              "    <tr>\n",
              "      <th>unique</th>\n",
              "      <td>NaN</td>\n",
              "      <td>NaN</td>\n",
              "      <td>4</td>\n",
              "      <td>NaN</td>\n",
              "      <td>NaN</td>\n",
              "    </tr>\n",
              "    <tr>\n",
              "      <th>top</th>\n",
              "      <td>NaN</td>\n",
              "      <td>NaN</td>\n",
              "      <td>Q4</td>\n",
              "      <td>NaN</td>\n",
              "      <td>NaN</td>\n",
              "    </tr>\n",
              "    <tr>\n",
              "      <th>freq</th>\n",
              "      <td>NaN</td>\n",
              "      <td>NaN</td>\n",
              "      <td>1</td>\n",
              "      <td>NaN</td>\n",
              "      <td>NaN</td>\n",
              "    </tr>\n",
              "    <tr>\n",
              "      <th>mean</th>\n",
              "      <td>2000.0</td>\n",
              "      <td>6.50</td>\n",
              "      <td>NaN</td>\n",
              "      <td>4400.00</td>\n",
              "      <td>2250.0</td>\n",
              "    </tr>\n",
              "    <tr>\n",
              "      <th>std</th>\n",
              "      <td>NaN</td>\n",
              "      <td>3.61</td>\n",
              "      <td>NaN</td>\n",
              "      <td>3646.92</td>\n",
              "      <td>1500.0</td>\n",
              "    </tr>\n",
              "    <tr>\n",
              "      <th>min</th>\n",
              "      <td>2000.0</td>\n",
              "      <td>1.00</td>\n",
              "      <td>NaN</td>\n",
              "      <td>1000.00</td>\n",
              "      <td>1000.0</td>\n",
              "    </tr>\n",
              "    <tr>\n",
              "      <th>25%</th>\n",
              "      <td>2000.0</td>\n",
              "      <td>3.75</td>\n",
              "      <td>NaN</td>\n",
              "      <td>2000.00</td>\n",
              "      <td>1000.0</td>\n",
              "    </tr>\n",
              "    <tr>\n",
              "      <th>50%</th>\n",
              "      <td>2000.0</td>\n",
              "      <td>6.50</td>\n",
              "      <td>NaN</td>\n",
              "      <td>3000.00</td>\n",
              "      <td>2000.0</td>\n",
              "    </tr>\n",
              "    <tr>\n",
              "      <th>75%</th>\n",
              "      <td>2000.0</td>\n",
              "      <td>9.25</td>\n",
              "      <td>NaN</td>\n",
              "      <td>6000.00</td>\n",
              "      <td>3250.0</td>\n",
              "    </tr>\n",
              "    <tr>\n",
              "      <th>max</th>\n",
              "      <td>2000.0</td>\n",
              "      <td>12.00</td>\n",
              "      <td>NaN</td>\n",
              "      <td>10000.00</td>\n",
              "      <td>4000.0</td>\n",
              "    </tr>\n",
              "  </tbody>\n",
              "</table>\n",
              "</div>"
            ],
            "text/plain": [
              "          Year  Month Quarter   Balance  Withdrawal\n",
              "count      1.0  12.00       4      5.00         4.0\n",
              "unique     NaN    NaN       4       NaN         NaN\n",
              "top        NaN    NaN      Q4       NaN         NaN\n",
              "freq       NaN    NaN       1       NaN         NaN\n",
              "mean    2000.0   6.50     NaN   4400.00      2250.0\n",
              "std        NaN   3.61     NaN   3646.92      1500.0\n",
              "min     2000.0   1.00     NaN   1000.00      1000.0\n",
              "25%     2000.0   3.75     NaN   2000.00      1000.0\n",
              "50%     2000.0   6.50     NaN   3000.00      2000.0\n",
              "75%     2000.0   9.25     NaN   6000.00      3250.0\n",
              "max     2000.0  12.00     NaN  10000.00      4000.0"
            ]
          },
          "metadata": {
            "tags": []
          },
          "execution_count": 16
        }
      ]
    },
    {
      "cell_type": "code",
      "metadata": {
        "id": "1paPzlJfbA5x",
        "colab": {
          "base_uri": "https://localhost:8080/",
          "height": 198
        },
        "outputId": "01af4d1a-a0ba-49db-e0e0-5cd104ca1c09"
      },
      "source": [
        "#@title\n",
        "bank.groupby('Quarter').mean()\n",
        "# bank.hist()"
      ],
      "execution_count": 17,
      "outputs": [
        {
          "output_type": "execute_result",
          "data": {
            "text/html": [
              "<div>\n",
              "<style scoped>\n",
              "    .dataframe tbody tr th:only-of-type {\n",
              "        vertical-align: middle;\n",
              "    }\n",
              "\n",
              "    .dataframe tbody tr th {\n",
              "        vertical-align: top;\n",
              "    }\n",
              "\n",
              "    .dataframe thead th {\n",
              "        text-align: right;\n",
              "    }\n",
              "</style>\n",
              "<table border=\"1\" class=\"dataframe\">\n",
              "  <thead>\n",
              "    <tr style=\"text-align: right;\">\n",
              "      <th></th>\n",
              "      <th>Year</th>\n",
              "      <th>Month</th>\n",
              "      <th>Balance</th>\n",
              "      <th>Withdrawal</th>\n",
              "    </tr>\n",
              "    <tr>\n",
              "      <th>Quarter</th>\n",
              "      <th></th>\n",
              "      <th></th>\n",
              "      <th></th>\n",
              "      <th></th>\n",
              "    </tr>\n",
              "  </thead>\n",
              "  <tbody>\n",
              "    <tr>\n",
              "      <th>Q1</th>\n",
              "      <td>2000.0</td>\n",
              "      <td>1</td>\n",
              "      <td>10000.0</td>\n",
              "      <td>NaN</td>\n",
              "    </tr>\n",
              "    <tr>\n",
              "      <th>Q2</th>\n",
              "      <td>NaN</td>\n",
              "      <td>4</td>\n",
              "      <td>6000.0</td>\n",
              "      <td>4000.0</td>\n",
              "    </tr>\n",
              "    <tr>\n",
              "      <th>Q3</th>\n",
              "      <td>NaN</td>\n",
              "      <td>7</td>\n",
              "      <td>NaN</td>\n",
              "      <td>NaN</td>\n",
              "    </tr>\n",
              "    <tr>\n",
              "      <th>Q4</th>\n",
              "      <td>NaN</td>\n",
              "      <td>10</td>\n",
              "      <td>NaN</td>\n",
              "      <td>NaN</td>\n",
              "    </tr>\n",
              "  </tbody>\n",
              "</table>\n",
              "</div>"
            ],
            "text/plain": [
              "           Year  Month  Balance  Withdrawal\n",
              "Quarter                                    \n",
              "Q1       2000.0      1  10000.0         NaN\n",
              "Q2          NaN      4   6000.0      4000.0\n",
              "Q3          NaN      7      NaN         NaN\n",
              "Q4          NaN     10      NaN         NaN"
            ]
          },
          "metadata": {
            "tags": []
          },
          "execution_count": 17
        }
      ]
    },
    {
      "cell_type": "code",
      "metadata": {
        "id": "ya5g6hpOA8XE",
        "colab": {
          "base_uri": "https://localhost:8080/"
        },
        "outputId": "36e08a66-0e51-4b0d-9f9c-e5dd86d6df97"
      },
      "source": [
        "# Get column names\n",
        "print(bank.columns)\n"
      ],
      "execution_count": 18,
      "outputs": [
        {
          "output_type": "stream",
          "text": [
            "Index(['Year', 'Month', 'Quarter', 'Balance', 'Withdrawal'], dtype='object')\n"
          ],
          "name": "stdout"
        }
      ]
    },
    {
      "cell_type": "code",
      "metadata": {
        "id": "BF6nGFQGB7Ae",
        "colab": {
          "base_uri": "https://localhost:8080/"
        },
        "outputId": "4d9d6264-3422-4cde-b8ba-16021b643f72"
      },
      "source": [
        "# select one column\n",
        "print(bank['Year'])\n",
        "# print(bank[['Year']])\n",
        "# print(bank.Year)\n",
        "\n",
        "# select multiple columns\n",
        "# print(bank[['Balance', 'Year']])\n",
        "\n",
        "\n",
        "# select second to fourth columns\n",
        "# bank[bank.columns[1:4]]"
      ],
      "execution_count": 19,
      "outputs": [
        {
          "output_type": "stream",
          "text": [
            "0     2000.0\n",
            "1        NaN\n",
            "2        NaN\n",
            "3        NaN\n",
            "4        NaN\n",
            "5        NaN\n",
            "6        NaN\n",
            "7        NaN\n",
            "8        NaN\n",
            "9        NaN\n",
            "10       NaN\n",
            "11       NaN\n",
            "Name: Year, dtype: float64\n"
          ],
          "name": "stdout"
        }
      ]
    },
    {
      "cell_type": "code",
      "metadata": {
        "id": "B3ZAVdOkCp-M",
        "colab": {
          "base_uri": "https://localhost:8080/",
          "height": 228
        },
        "outputId": "6b53218e-5f58-4472-80b3-9396088237b8"
      },
      "source": [
        "# select few rows and few columns\n",
        "bank.loc[0:3, ['Month', 'Balance']]\n",
        "\n",
        "\n",
        "# select all rows, and few columns\n",
        "# bank.loc[:, 'Month']\n",
        "bank.iloc[:, 2:3]  \n",
        "\n",
        "\n",
        "# select few rows and all column\n",
        "bank.loc[0:5, :]"
      ],
      "execution_count": 20,
      "outputs": [
        {
          "output_type": "execute_result",
          "data": {
            "text/html": [
              "<div>\n",
              "<style scoped>\n",
              "    .dataframe tbody tr th:only-of-type {\n",
              "        vertical-align: middle;\n",
              "    }\n",
              "\n",
              "    .dataframe tbody tr th {\n",
              "        vertical-align: top;\n",
              "    }\n",
              "\n",
              "    .dataframe thead th {\n",
              "        text-align: right;\n",
              "    }\n",
              "</style>\n",
              "<table border=\"1\" class=\"dataframe\">\n",
              "  <thead>\n",
              "    <tr style=\"text-align: right;\">\n",
              "      <th></th>\n",
              "      <th>Year</th>\n",
              "      <th>Month</th>\n",
              "      <th>Quarter</th>\n",
              "      <th>Balance</th>\n",
              "      <th>Withdrawal</th>\n",
              "    </tr>\n",
              "  </thead>\n",
              "  <tbody>\n",
              "    <tr>\n",
              "      <th>0</th>\n",
              "      <td>2000.0</td>\n",
              "      <td>1</td>\n",
              "      <td>Q1</td>\n",
              "      <td>10000.0</td>\n",
              "      <td>NaN</td>\n",
              "    </tr>\n",
              "    <tr>\n",
              "      <th>1</th>\n",
              "      <td>NaN</td>\n",
              "      <td>2</td>\n",
              "      <td>NaN</td>\n",
              "      <td>NaN</td>\n",
              "      <td>NaN</td>\n",
              "    </tr>\n",
              "    <tr>\n",
              "      <th>2</th>\n",
              "      <td>NaN</td>\n",
              "      <td>3</td>\n",
              "      <td>NaN</td>\n",
              "      <td>NaN</td>\n",
              "      <td>NaN</td>\n",
              "    </tr>\n",
              "    <tr>\n",
              "      <th>3</th>\n",
              "      <td>NaN</td>\n",
              "      <td>4</td>\n",
              "      <td>Q2</td>\n",
              "      <td>6000.0</td>\n",
              "      <td>4000.0</td>\n",
              "    </tr>\n",
              "    <tr>\n",
              "      <th>4</th>\n",
              "      <td>NaN</td>\n",
              "      <td>5</td>\n",
              "      <td>NaN</td>\n",
              "      <td>NaN</td>\n",
              "      <td>NaN</td>\n",
              "    </tr>\n",
              "    <tr>\n",
              "      <th>5</th>\n",
              "      <td>NaN</td>\n",
              "      <td>6</td>\n",
              "      <td>NaN</td>\n",
              "      <td>NaN</td>\n",
              "      <td>NaN</td>\n",
              "    </tr>\n",
              "  </tbody>\n",
              "</table>\n",
              "</div>"
            ],
            "text/plain": [
              "     Year  Month Quarter  Balance  Withdrawal\n",
              "0  2000.0      1      Q1  10000.0         NaN\n",
              "1     NaN      2     NaN      NaN         NaN\n",
              "2     NaN      3     NaN      NaN         NaN\n",
              "3     NaN      4      Q2   6000.0      4000.0\n",
              "4     NaN      5     NaN      NaN         NaN\n",
              "5     NaN      6     NaN      NaN         NaN"
            ]
          },
          "metadata": {
            "tags": []
          },
          "execution_count": 20
        }
      ]
    },
    {
      "cell_type": "markdown",
      "metadata": {
        "id": "Db_U5V-LEebX"
      },
      "source": [
        "## Checking for missing values\n",
        "\n",
        "1. Column wise missing values\n",
        "2. Row wise missing values"
      ]
    },
    {
      "cell_type": "code",
      "metadata": {
        "id": "uCznH6wtDAmz",
        "colab": {
          "base_uri": "https://localhost:8080/"
        },
        "outputId": "cac5248b-a564-486a-ca59-0c371bc7bcbb"
      },
      "source": [
        "# 1. Column wise\n",
        "print(bank.isnull())\n",
        "\n",
        "print(bank.isnull().sum())\n",
        "\n",
        "print(bank.notnull().sum())  # non null value counts\n"
      ],
      "execution_count": 21,
      "outputs": [
        {
          "output_type": "stream",
          "text": [
            "     Year  Month  Quarter  Balance  Withdrawal\n",
            "0   False  False    False    False        True\n",
            "1    True  False     True     True        True\n",
            "2    True  False     True     True        True\n",
            "3    True  False    False    False       False\n",
            "4    True  False     True     True        True\n",
            "5    True  False     True     True        True\n",
            "6    True  False    False     True        True\n",
            "7    True  False     True    False       False\n",
            "8    True  False     True    False       False\n",
            "9    True  False    False     True        True\n",
            "10   True  False     True     True        True\n",
            "11   True  False     True    False       False\n",
            "Year          11\n",
            "Month          0\n",
            "Quarter        8\n",
            "Balance        7\n",
            "Withdrawal     8\n",
            "dtype: int64\n",
            "Year           1\n",
            "Month         12\n",
            "Quarter        4\n",
            "Balance        5\n",
            "Withdrawal     4\n",
            "dtype: int64\n"
          ],
          "name": "stdout"
        }
      ]
    },
    {
      "cell_type": "code",
      "metadata": {
        "id": "wRvvnZZtEkX-",
        "colab": {
          "base_uri": "https://localhost:8080/"
        },
        "outputId": "72d234bd-8abb-4af0-d728-b3a9c03b44b1"
      },
      "source": [
        "print('Is there any missing value in year column? ', bank['Year'].isnull(), '\\n')\n",
        "\n",
        "print('How many missing in year column? ', bank['Year'].isnull().sum())"
      ],
      "execution_count": 22,
      "outputs": [
        {
          "output_type": "stream",
          "text": [
            "Is there any missing value in year column?  0     False\n",
            "1      True\n",
            "2      True\n",
            "3      True\n",
            "4      True\n",
            "5      True\n",
            "6      True\n",
            "7      True\n",
            "8      True\n",
            "9      True\n",
            "10     True\n",
            "11     True\n",
            "Name: Year, dtype: bool \n",
            "\n",
            "How many missing in year column?  11\n"
          ],
          "name": "stdout"
        }
      ]
    },
    {
      "cell_type": "code",
      "metadata": {
        "id": "whUVycscEntZ",
        "colab": {
          "base_uri": "https://localhost:8080/"
        },
        "outputId": "c3e490d7-55da-46f7-f949-08646e6ddd5d"
      },
      "source": [
        "# 2. Row wise\n",
        "\n",
        "bank.isnull().sum(axis=1) # axis = 1 for rowwise sum, default is axis=0"
      ],
      "execution_count": 23,
      "outputs": [
        {
          "output_type": "execute_result",
          "data": {
            "text/plain": [
              "0     1\n",
              "1     4\n",
              "2     4\n",
              "3     1\n",
              "4     4\n",
              "5     4\n",
              "6     3\n",
              "7     2\n",
              "8     2\n",
              "9     3\n",
              "10    4\n",
              "11    2\n",
              "dtype: int64"
            ]
          },
          "metadata": {
            "tags": []
          },
          "execution_count": 23
        }
      ]
    },
    {
      "cell_type": "markdown",
      "metadata": {
        "id": "U7lLVQU6HiW2"
      },
      "source": [
        "## Drop Missing values\n",
        "1. drop column\n",
        "2. drop rows\n",
        "\n",
        "If you want to simply exclude the missing values, then use the dropna function along with the axis argument. \n",
        "\n",
        "By default, axis=0, i.e., along row, which means that if any value within a row is NA then the whole row is excluded."
      ]
    },
    {
      "cell_type": "code",
      "metadata": {
        "id": "6UPk-2HnEt6c",
        "colab": {
          "base_uri": "https://localhost:8080/",
          "height": 48
        },
        "outputId": "04f21b0f-2057-4385-af8f-160cbac059bb"
      },
      "source": [
        "bank.dropna()\n",
        "#By default, axis=0, i.e., along row, which means that if any value within a row is NA then the whole row is excluded."
      ],
      "execution_count": 24,
      "outputs": [
        {
          "output_type": "execute_result",
          "data": {
            "text/html": [
              "<div>\n",
              "<style scoped>\n",
              "    .dataframe tbody tr th:only-of-type {\n",
              "        vertical-align: middle;\n",
              "    }\n",
              "\n",
              "    .dataframe tbody tr th {\n",
              "        vertical-align: top;\n",
              "    }\n",
              "\n",
              "    .dataframe thead th {\n",
              "        text-align: right;\n",
              "    }\n",
              "</style>\n",
              "<table border=\"1\" class=\"dataframe\">\n",
              "  <thead>\n",
              "    <tr style=\"text-align: right;\">\n",
              "      <th></th>\n",
              "      <th>Year</th>\n",
              "      <th>Month</th>\n",
              "      <th>Quarter</th>\n",
              "      <th>Balance</th>\n",
              "      <th>Withdrawal</th>\n",
              "    </tr>\n",
              "  </thead>\n",
              "  <tbody>\n",
              "  </tbody>\n",
              "</table>\n",
              "</div>"
            ],
            "text/plain": [
              "Empty DataFrame\n",
              "Columns: [Year, Month, Quarter, Balance, Withdrawal]\n",
              "Index: []"
            ]
          },
          "metadata": {
            "tags": []
          },
          "execution_count": 24
        }
      ]
    },
    {
      "cell_type": "code",
      "metadata": {
        "id": "eeipXfhQH6wb",
        "colab": {
          "base_uri": "https://localhost:8080/",
          "height": 409
        },
        "outputId": "26dc95ed-9780-4722-f76b-6c98ae1a89e0"
      },
      "source": [
        "bank.dropna(axis=1)\n",
        "# By setting, axis=1, i.e., along column, which means that if any value within a column is NA then the whole column is excluded."
      ],
      "execution_count": 25,
      "outputs": [
        {
          "output_type": "execute_result",
          "data": {
            "text/html": [
              "<div>\n",
              "<style scoped>\n",
              "    .dataframe tbody tr th:only-of-type {\n",
              "        vertical-align: middle;\n",
              "    }\n",
              "\n",
              "    .dataframe tbody tr th {\n",
              "        vertical-align: top;\n",
              "    }\n",
              "\n",
              "    .dataframe thead th {\n",
              "        text-align: right;\n",
              "    }\n",
              "</style>\n",
              "<table border=\"1\" class=\"dataframe\">\n",
              "  <thead>\n",
              "    <tr style=\"text-align: right;\">\n",
              "      <th></th>\n",
              "      <th>Month</th>\n",
              "    </tr>\n",
              "  </thead>\n",
              "  <tbody>\n",
              "    <tr>\n",
              "      <th>0</th>\n",
              "      <td>1</td>\n",
              "    </tr>\n",
              "    <tr>\n",
              "      <th>1</th>\n",
              "      <td>2</td>\n",
              "    </tr>\n",
              "    <tr>\n",
              "      <th>2</th>\n",
              "      <td>3</td>\n",
              "    </tr>\n",
              "    <tr>\n",
              "      <th>3</th>\n",
              "      <td>4</td>\n",
              "    </tr>\n",
              "    <tr>\n",
              "      <th>4</th>\n",
              "      <td>5</td>\n",
              "    </tr>\n",
              "    <tr>\n",
              "      <th>5</th>\n",
              "      <td>6</td>\n",
              "    </tr>\n",
              "    <tr>\n",
              "      <th>6</th>\n",
              "      <td>7</td>\n",
              "    </tr>\n",
              "    <tr>\n",
              "      <th>7</th>\n",
              "      <td>8</td>\n",
              "    </tr>\n",
              "    <tr>\n",
              "      <th>8</th>\n",
              "      <td>9</td>\n",
              "    </tr>\n",
              "    <tr>\n",
              "      <th>9</th>\n",
              "      <td>10</td>\n",
              "    </tr>\n",
              "    <tr>\n",
              "      <th>10</th>\n",
              "      <td>11</td>\n",
              "    </tr>\n",
              "    <tr>\n",
              "      <th>11</th>\n",
              "      <td>12</td>\n",
              "    </tr>\n",
              "  </tbody>\n",
              "</table>\n",
              "</div>"
            ],
            "text/plain": [
              "    Month\n",
              "0       1\n",
              "1       2\n",
              "2       3\n",
              "3       4\n",
              "4       5\n",
              "5       6\n",
              "6       7\n",
              "7       8\n",
              "8       9\n",
              "9      10\n",
              "10     11\n",
              "11     12"
            ]
          },
          "metadata": {
            "tags": []
          },
          "execution_count": 25
        }
      ]
    },
    {
      "cell_type": "code",
      "metadata": {
        "id": "OmD-cDn4H_gX",
        "colab": {
          "base_uri": "https://localhost:8080/",
          "height": 409
        },
        "outputId": "4a158574-ba62-4ed8-d138-e93757f85701"
      },
      "source": [
        "bank.dropna(axis=1, how='all')\n",
        "bank.dropna(axis=0, how='all')"
      ],
      "execution_count": 26,
      "outputs": [
        {
          "output_type": "execute_result",
          "data": {
            "text/html": [
              "<div>\n",
              "<style scoped>\n",
              "    .dataframe tbody tr th:only-of-type {\n",
              "        vertical-align: middle;\n",
              "    }\n",
              "\n",
              "    .dataframe tbody tr th {\n",
              "        vertical-align: top;\n",
              "    }\n",
              "\n",
              "    .dataframe thead th {\n",
              "        text-align: right;\n",
              "    }\n",
              "</style>\n",
              "<table border=\"1\" class=\"dataframe\">\n",
              "  <thead>\n",
              "    <tr style=\"text-align: right;\">\n",
              "      <th></th>\n",
              "      <th>Year</th>\n",
              "      <th>Month</th>\n",
              "      <th>Quarter</th>\n",
              "      <th>Balance</th>\n",
              "      <th>Withdrawal</th>\n",
              "    </tr>\n",
              "  </thead>\n",
              "  <tbody>\n",
              "    <tr>\n",
              "      <th>0</th>\n",
              "      <td>2000.0</td>\n",
              "      <td>1</td>\n",
              "      <td>Q1</td>\n",
              "      <td>10000.0</td>\n",
              "      <td>NaN</td>\n",
              "    </tr>\n",
              "    <tr>\n",
              "      <th>1</th>\n",
              "      <td>NaN</td>\n",
              "      <td>2</td>\n",
              "      <td>NaN</td>\n",
              "      <td>NaN</td>\n",
              "      <td>NaN</td>\n",
              "    </tr>\n",
              "    <tr>\n",
              "      <th>2</th>\n",
              "      <td>NaN</td>\n",
              "      <td>3</td>\n",
              "      <td>NaN</td>\n",
              "      <td>NaN</td>\n",
              "      <td>NaN</td>\n",
              "    </tr>\n",
              "    <tr>\n",
              "      <th>3</th>\n",
              "      <td>NaN</td>\n",
              "      <td>4</td>\n",
              "      <td>Q2</td>\n",
              "      <td>6000.0</td>\n",
              "      <td>4000.0</td>\n",
              "    </tr>\n",
              "    <tr>\n",
              "      <th>4</th>\n",
              "      <td>NaN</td>\n",
              "      <td>5</td>\n",
              "      <td>NaN</td>\n",
              "      <td>NaN</td>\n",
              "      <td>NaN</td>\n",
              "    </tr>\n",
              "    <tr>\n",
              "      <th>5</th>\n",
              "      <td>NaN</td>\n",
              "      <td>6</td>\n",
              "      <td>NaN</td>\n",
              "      <td>NaN</td>\n",
              "      <td>NaN</td>\n",
              "    </tr>\n",
              "    <tr>\n",
              "      <th>6</th>\n",
              "      <td>NaN</td>\n",
              "      <td>7</td>\n",
              "      <td>Q3</td>\n",
              "      <td>NaN</td>\n",
              "      <td>NaN</td>\n",
              "    </tr>\n",
              "    <tr>\n",
              "      <th>7</th>\n",
              "      <td>NaN</td>\n",
              "      <td>8</td>\n",
              "      <td>NaN</td>\n",
              "      <td>3000.0</td>\n",
              "      <td>3000.0</td>\n",
              "    </tr>\n",
              "    <tr>\n",
              "      <th>8</th>\n",
              "      <td>NaN</td>\n",
              "      <td>9</td>\n",
              "      <td>NaN</td>\n",
              "      <td>2000.0</td>\n",
              "      <td>1000.0</td>\n",
              "    </tr>\n",
              "    <tr>\n",
              "      <th>9</th>\n",
              "      <td>NaN</td>\n",
              "      <td>10</td>\n",
              "      <td>Q4</td>\n",
              "      <td>NaN</td>\n",
              "      <td>NaN</td>\n",
              "    </tr>\n",
              "    <tr>\n",
              "      <th>10</th>\n",
              "      <td>NaN</td>\n",
              "      <td>11</td>\n",
              "      <td>NaN</td>\n",
              "      <td>NaN</td>\n",
              "      <td>NaN</td>\n",
              "    </tr>\n",
              "    <tr>\n",
              "      <th>11</th>\n",
              "      <td>NaN</td>\n",
              "      <td>12</td>\n",
              "      <td>NaN</td>\n",
              "      <td>1000.0</td>\n",
              "      <td>1000.0</td>\n",
              "    </tr>\n",
              "  </tbody>\n",
              "</table>\n",
              "</div>"
            ],
            "text/plain": [
              "      Year  Month Quarter  Balance  Withdrawal\n",
              "0   2000.0      1      Q1  10000.0         NaN\n",
              "1      NaN      2     NaN      NaN         NaN\n",
              "2      NaN      3     NaN      NaN         NaN\n",
              "3      NaN      4      Q2   6000.0      4000.0\n",
              "4      NaN      5     NaN      NaN         NaN\n",
              "5      NaN      6     NaN      NaN         NaN\n",
              "6      NaN      7      Q3      NaN         NaN\n",
              "7      NaN      8     NaN   3000.0      3000.0\n",
              "8      NaN      9     NaN   2000.0      1000.0\n",
              "9      NaN     10      Q4      NaN         NaN\n",
              "10     NaN     11     NaN      NaN         NaN\n",
              "11     NaN     12     NaN   1000.0      1000.0"
            ]
          },
          "metadata": {
            "tags": []
          },
          "execution_count": 26
        }
      ]
    },
    {
      "cell_type": "markdown",
      "metadata": {
        "id": "wGn_Cw-0J8lO"
      },
      "source": [
        "## Filling missing values\n",
        "\n",
        "1. For Year, Quarter, Balance; logically we need to fill value from previous record\n",
        "\n",
        "fillna(method='ffill') or  fillna(method='pad') will do the job\n",
        "\n",
        "[In R, we use fill()]\n",
        "\n",
        "2. For Withdrawl column, we belive missing value represent no withdrawl.\n",
        "\n",
        "so we can replace those by '0'\n",
        "\n",
        "fillna(0) will do the job\n",
        "\n",
        "[In R, we use replace_na()]\n"
      ]
    },
    {
      "cell_type": "code",
      "metadata": {
        "id": "MXIFTW3cIRq1",
        "colab": {
          "base_uri": "https://localhost:8080/",
          "height": 409
        },
        "outputId": "05ecebca-8f9f-4905-ea56-59e120d7d7db"
      },
      "source": [
        "bank[['Year', 'Quarter', 'Balance']]= bank[['Year', 'Quarter', 'Balance']].fillna(method='ffill')\n",
        "bank\n"
      ],
      "execution_count": 27,
      "outputs": [
        {
          "output_type": "execute_result",
          "data": {
            "text/html": [
              "<div>\n",
              "<style scoped>\n",
              "    .dataframe tbody tr th:only-of-type {\n",
              "        vertical-align: middle;\n",
              "    }\n",
              "\n",
              "    .dataframe tbody tr th {\n",
              "        vertical-align: top;\n",
              "    }\n",
              "\n",
              "    .dataframe thead th {\n",
              "        text-align: right;\n",
              "    }\n",
              "</style>\n",
              "<table border=\"1\" class=\"dataframe\">\n",
              "  <thead>\n",
              "    <tr style=\"text-align: right;\">\n",
              "      <th></th>\n",
              "      <th>Year</th>\n",
              "      <th>Month</th>\n",
              "      <th>Quarter</th>\n",
              "      <th>Balance</th>\n",
              "      <th>Withdrawal</th>\n",
              "    </tr>\n",
              "  </thead>\n",
              "  <tbody>\n",
              "    <tr>\n",
              "      <th>0</th>\n",
              "      <td>2000.0</td>\n",
              "      <td>1</td>\n",
              "      <td>Q1</td>\n",
              "      <td>10000.0</td>\n",
              "      <td>NaN</td>\n",
              "    </tr>\n",
              "    <tr>\n",
              "      <th>1</th>\n",
              "      <td>2000.0</td>\n",
              "      <td>2</td>\n",
              "      <td>Q1</td>\n",
              "      <td>10000.0</td>\n",
              "      <td>NaN</td>\n",
              "    </tr>\n",
              "    <tr>\n",
              "      <th>2</th>\n",
              "      <td>2000.0</td>\n",
              "      <td>3</td>\n",
              "      <td>Q1</td>\n",
              "      <td>10000.0</td>\n",
              "      <td>NaN</td>\n",
              "    </tr>\n",
              "    <tr>\n",
              "      <th>3</th>\n",
              "      <td>2000.0</td>\n",
              "      <td>4</td>\n",
              "      <td>Q2</td>\n",
              "      <td>6000.0</td>\n",
              "      <td>4000.0</td>\n",
              "    </tr>\n",
              "    <tr>\n",
              "      <th>4</th>\n",
              "      <td>2000.0</td>\n",
              "      <td>5</td>\n",
              "      <td>Q2</td>\n",
              "      <td>6000.0</td>\n",
              "      <td>NaN</td>\n",
              "    </tr>\n",
              "    <tr>\n",
              "      <th>5</th>\n",
              "      <td>2000.0</td>\n",
              "      <td>6</td>\n",
              "      <td>Q2</td>\n",
              "      <td>6000.0</td>\n",
              "      <td>NaN</td>\n",
              "    </tr>\n",
              "    <tr>\n",
              "      <th>6</th>\n",
              "      <td>2000.0</td>\n",
              "      <td>7</td>\n",
              "      <td>Q3</td>\n",
              "      <td>6000.0</td>\n",
              "      <td>NaN</td>\n",
              "    </tr>\n",
              "    <tr>\n",
              "      <th>7</th>\n",
              "      <td>2000.0</td>\n",
              "      <td>8</td>\n",
              "      <td>Q3</td>\n",
              "      <td>3000.0</td>\n",
              "      <td>3000.0</td>\n",
              "    </tr>\n",
              "    <tr>\n",
              "      <th>8</th>\n",
              "      <td>2000.0</td>\n",
              "      <td>9</td>\n",
              "      <td>Q3</td>\n",
              "      <td>2000.0</td>\n",
              "      <td>1000.0</td>\n",
              "    </tr>\n",
              "    <tr>\n",
              "      <th>9</th>\n",
              "      <td>2000.0</td>\n",
              "      <td>10</td>\n",
              "      <td>Q4</td>\n",
              "      <td>2000.0</td>\n",
              "      <td>NaN</td>\n",
              "    </tr>\n",
              "    <tr>\n",
              "      <th>10</th>\n",
              "      <td>2000.0</td>\n",
              "      <td>11</td>\n",
              "      <td>Q4</td>\n",
              "      <td>2000.0</td>\n",
              "      <td>NaN</td>\n",
              "    </tr>\n",
              "    <tr>\n",
              "      <th>11</th>\n",
              "      <td>2000.0</td>\n",
              "      <td>12</td>\n",
              "      <td>Q4</td>\n",
              "      <td>1000.0</td>\n",
              "      <td>1000.0</td>\n",
              "    </tr>\n",
              "  </tbody>\n",
              "</table>\n",
              "</div>"
            ],
            "text/plain": [
              "      Year  Month Quarter  Balance  Withdrawal\n",
              "0   2000.0      1      Q1  10000.0         NaN\n",
              "1   2000.0      2      Q1  10000.0         NaN\n",
              "2   2000.0      3      Q1  10000.0         NaN\n",
              "3   2000.0      4      Q2   6000.0      4000.0\n",
              "4   2000.0      5      Q2   6000.0         NaN\n",
              "5   2000.0      6      Q2   6000.0         NaN\n",
              "6   2000.0      7      Q3   6000.0         NaN\n",
              "7   2000.0      8      Q3   3000.0      3000.0\n",
              "8   2000.0      9      Q3   2000.0      1000.0\n",
              "9   2000.0     10      Q4   2000.0         NaN\n",
              "10  2000.0     11      Q4   2000.0         NaN\n",
              "11  2000.0     12      Q4   1000.0      1000.0"
            ]
          },
          "metadata": {
            "tags": []
          },
          "execution_count": 27
        }
      ]
    },
    {
      "cell_type": "code",
      "metadata": {
        "id": "ogjnYiaNLsE8",
        "colab": {
          "base_uri": "https://localhost:8080/",
          "height": 409
        },
        "outputId": "1c01a371-9ac4-49bc-941c-ca70a3baee12"
      },
      "source": [
        "# 2. Replacing missing values in Withdrawl column by '0'\n",
        "\n",
        "bank[['Withdrawal']]= bank[['Withdrawal']].fillna(0)\n",
        "bank"
      ],
      "execution_count": 28,
      "outputs": [
        {
          "output_type": "execute_result",
          "data": {
            "text/html": [
              "<div>\n",
              "<style scoped>\n",
              "    .dataframe tbody tr th:only-of-type {\n",
              "        vertical-align: middle;\n",
              "    }\n",
              "\n",
              "    .dataframe tbody tr th {\n",
              "        vertical-align: top;\n",
              "    }\n",
              "\n",
              "    .dataframe thead th {\n",
              "        text-align: right;\n",
              "    }\n",
              "</style>\n",
              "<table border=\"1\" class=\"dataframe\">\n",
              "  <thead>\n",
              "    <tr style=\"text-align: right;\">\n",
              "      <th></th>\n",
              "      <th>Year</th>\n",
              "      <th>Month</th>\n",
              "      <th>Quarter</th>\n",
              "      <th>Balance</th>\n",
              "      <th>Withdrawal</th>\n",
              "    </tr>\n",
              "  </thead>\n",
              "  <tbody>\n",
              "    <tr>\n",
              "      <th>0</th>\n",
              "      <td>2000.0</td>\n",
              "      <td>1</td>\n",
              "      <td>Q1</td>\n",
              "      <td>10000.0</td>\n",
              "      <td>0.0</td>\n",
              "    </tr>\n",
              "    <tr>\n",
              "      <th>1</th>\n",
              "      <td>2000.0</td>\n",
              "      <td>2</td>\n",
              "      <td>Q1</td>\n",
              "      <td>10000.0</td>\n",
              "      <td>0.0</td>\n",
              "    </tr>\n",
              "    <tr>\n",
              "      <th>2</th>\n",
              "      <td>2000.0</td>\n",
              "      <td>3</td>\n",
              "      <td>Q1</td>\n",
              "      <td>10000.0</td>\n",
              "      <td>0.0</td>\n",
              "    </tr>\n",
              "    <tr>\n",
              "      <th>3</th>\n",
              "      <td>2000.0</td>\n",
              "      <td>4</td>\n",
              "      <td>Q2</td>\n",
              "      <td>6000.0</td>\n",
              "      <td>4000.0</td>\n",
              "    </tr>\n",
              "    <tr>\n",
              "      <th>4</th>\n",
              "      <td>2000.0</td>\n",
              "      <td>5</td>\n",
              "      <td>Q2</td>\n",
              "      <td>6000.0</td>\n",
              "      <td>0.0</td>\n",
              "    </tr>\n",
              "    <tr>\n",
              "      <th>5</th>\n",
              "      <td>2000.0</td>\n",
              "      <td>6</td>\n",
              "      <td>Q2</td>\n",
              "      <td>6000.0</td>\n",
              "      <td>0.0</td>\n",
              "    </tr>\n",
              "    <tr>\n",
              "      <th>6</th>\n",
              "      <td>2000.0</td>\n",
              "      <td>7</td>\n",
              "      <td>Q3</td>\n",
              "      <td>6000.0</td>\n",
              "      <td>0.0</td>\n",
              "    </tr>\n",
              "    <tr>\n",
              "      <th>7</th>\n",
              "      <td>2000.0</td>\n",
              "      <td>8</td>\n",
              "      <td>Q3</td>\n",
              "      <td>3000.0</td>\n",
              "      <td>3000.0</td>\n",
              "    </tr>\n",
              "    <tr>\n",
              "      <th>8</th>\n",
              "      <td>2000.0</td>\n",
              "      <td>9</td>\n",
              "      <td>Q3</td>\n",
              "      <td>2000.0</td>\n",
              "      <td>1000.0</td>\n",
              "    </tr>\n",
              "    <tr>\n",
              "      <th>9</th>\n",
              "      <td>2000.0</td>\n",
              "      <td>10</td>\n",
              "      <td>Q4</td>\n",
              "      <td>2000.0</td>\n",
              "      <td>0.0</td>\n",
              "    </tr>\n",
              "    <tr>\n",
              "      <th>10</th>\n",
              "      <td>2000.0</td>\n",
              "      <td>11</td>\n",
              "      <td>Q4</td>\n",
              "      <td>2000.0</td>\n",
              "      <td>0.0</td>\n",
              "    </tr>\n",
              "    <tr>\n",
              "      <th>11</th>\n",
              "      <td>2000.0</td>\n",
              "      <td>12</td>\n",
              "      <td>Q4</td>\n",
              "      <td>1000.0</td>\n",
              "      <td>1000.0</td>\n",
              "    </tr>\n",
              "  </tbody>\n",
              "</table>\n",
              "</div>"
            ],
            "text/plain": [
              "      Year  Month Quarter  Balance  Withdrawal\n",
              "0   2000.0      1      Q1  10000.0         0.0\n",
              "1   2000.0      2      Q1  10000.0         0.0\n",
              "2   2000.0      3      Q1  10000.0         0.0\n",
              "3   2000.0      4      Q2   6000.0      4000.0\n",
              "4   2000.0      5      Q2   6000.0         0.0\n",
              "5   2000.0      6      Q2   6000.0         0.0\n",
              "6   2000.0      7      Q3   6000.0         0.0\n",
              "7   2000.0      8      Q3   3000.0      3000.0\n",
              "8   2000.0      9      Q3   2000.0      1000.0\n",
              "9   2000.0     10      Q4   2000.0         0.0\n",
              "10  2000.0     11      Q4   2000.0         0.0\n",
              "11  2000.0     12      Q4   1000.0      1000.0"
            ]
          },
          "metadata": {
            "tags": []
          },
          "execution_count": 28
        }
      ]
    },
    {
      "cell_type": "code",
      "metadata": {
        "id": "7h1UPvAGOuJH",
        "colab": {
          "base_uri": "https://localhost:8080/"
        },
        "outputId": "3aa0c935-332e-43ac-a372-dabce8f8ebfb"
      },
      "source": [
        "bank.isnull().sum()"
      ],
      "execution_count": 29,
      "outputs": [
        {
          "output_type": "execute_result",
          "data": {
            "text/plain": [
              "Year          0\n",
              "Month         0\n",
              "Quarter       0\n",
              "Balance       0\n",
              "Withdrawal    0\n",
              "dtype: int64"
            ]
          },
          "metadata": {
            "tags": []
          },
          "execution_count": 29
        }
      ]
    }
  ]
}