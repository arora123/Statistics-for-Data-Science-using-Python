{
  "nbformat": 4,
  "nbformat_minor": 0,
  "metadata": {
    "kernelspec": {
      "display_name": "Python 3",
      "language": "python",
      "name": "python3"
    },
    "language_info": {
      "codemirror_mode": {
        "name": "ipython",
        "version": 3
      },
      "file_extension": ".py",
      "mimetype": "text/x-python",
      "name": "python",
      "nbconvert_exporter": "python",
      "pygments_lexer": "ipython3",
      "version": "3.7.3"
    },
    "colab": {
      "name": "Categorical Data Analysis_1.ipynb",
      "provenance": [],
      "include_colab_link": true
    }
  },
  "cells": [
    {
      "cell_type": "markdown",
      "metadata": {
        "id": "view-in-github",
        "colab_type": "text"
      },
      "source": [
        "<a href=\"https://colab.research.google.com/github/arora123/Statistics-for-Data-Science-using-Python/blob/main/Categorical_Data_Analysis_1.ipynb\" target=\"_parent\"><img src=\"https://colab.research.google.com/assets/colab-badge.svg\" alt=\"Open In Colab\"/></a>"
      ]
    },
    {
      "cell_type": "markdown",
      "metadata": {
        "id": "z-s7V-hDdt0d"
      },
      "source": [
        "# Tabulation & Categorical Data Analysis\n",
        "\n",
        "* One way, two way & three way tables\n",
        "* Margin & percentage tables\n",
        "* Chi-Square Test of Association\n",
        "* Fisher’s Exact Test of Association\n",
        "\n"
      ]
    },
    {
      "cell_type": "code",
      "metadata": {
        "id": "8YNgn1Lifv2g",
        "cellView": "form"
      },
      "source": [
        "#@title\n",
        "# To import data from Google Drive\n",
        "# from google.colab import drive\n",
        "# drive.mount('/content/drive')"
      ],
      "execution_count": null,
      "outputs": []
    },
    {
      "cell_type": "code",
      "metadata": {
        "id": "prwQcQXVdt0e"
      },
      "source": [
        "#@title\n",
        "# When you import from local machine in Jupyter/Spyder\n",
        "# Setting working Directory\n",
        "# import os\n",
        "# os.getcwd()\n",
        "# os.chdir('D:\\\\Learning\\\\Learn R\\\\R_programming data and codes')\n",
        "# os.getcwd()\n"
      ],
      "execution_count": null,
      "outputs": []
    },
    {
      "cell_type": "markdown",
      "metadata": {
        "id": "OvC-PI-Wdt0i"
      },
      "source": [
        "## Import Library \n",
        "## Import Data"
      ]
    },
    {
      "cell_type": "code",
      "metadata": {
        "id": "30cw6z-Vdt0i"
      },
      "source": [
        "import pandas as pd"
      ],
      "execution_count": null,
      "outputs": []
    },
    {
      "cell_type": "code",
      "metadata": {
        "id": "zO1t_NEQdt0l"
      },
      "source": [
        "people=pd.read_csv('https://raw.githubusercontent.com/arora123/Data/master/people2.csv')"
      ],
      "execution_count": null,
      "outputs": []
    },
    {
      "cell_type": "markdown",
      "metadata": {
        "id": "f7A2w0V5dt0n"
      },
      "source": [
        "### Understand the data"
      ]
    },
    {
      "cell_type": "code",
      "metadata": {
        "id": "iMoj6T2Ydt0n",
        "colab": {
          "base_uri": "https://localhost:8080/",
          "height": 194
        },
        "outputId": "5fd12200-30ec-48d8-fb92-4ec7b9118994"
      },
      "source": [
        "people.head()"
      ],
      "execution_count": null,
      "outputs": [
        {
          "output_type": "execute_result",
          "data": {
            "text/html": [
              "<div>\n",
              "<style scoped>\n",
              "    .dataframe tbody tr th:only-of-type {\n",
              "        vertical-align: middle;\n",
              "    }\n",
              "\n",
              "    .dataframe tbody tr th {\n",
              "        vertical-align: top;\n",
              "    }\n",
              "\n",
              "    .dataframe thead th {\n",
              "        text-align: right;\n",
              "    }\n",
              "</style>\n",
              "<table border=\"1\" class=\"dataframe\">\n",
              "  <thead>\n",
              "    <tr style=\"text-align: right;\">\n",
              "      <th></th>\n",
              "      <th>Subject</th>\n",
              "      <th>Eye Color</th>\n",
              "      <th>Height</th>\n",
              "      <th>Hand Span</th>\n",
              "      <th>Sex</th>\n",
              "      <th>Handedness</th>\n",
              "      <th>Height Cat</th>\n",
              "    </tr>\n",
              "  </thead>\n",
              "  <tbody>\n",
              "    <tr>\n",
              "      <th>0</th>\n",
              "      <td>1</td>\n",
              "      <td>Brown</td>\n",
              "      <td>186</td>\n",
              "      <td>210</td>\n",
              "      <td>Male</td>\n",
              "      <td>R</td>\n",
              "      <td>Tall</td>\n",
              "    </tr>\n",
              "    <tr>\n",
              "      <th>1</th>\n",
              "      <td>2</td>\n",
              "      <td>Green</td>\n",
              "      <td>182</td>\n",
              "      <td>220</td>\n",
              "      <td>Male</td>\n",
              "      <td>R</td>\n",
              "      <td>Tall</td>\n",
              "    </tr>\n",
              "    <tr>\n",
              "      <th>2</th>\n",
              "      <td>3</td>\n",
              "      <td>Brown</td>\n",
              "      <td>147</td>\n",
              "      <td>167</td>\n",
              "      <td>Female</td>\n",
              "      <td>NaN</td>\n",
              "      <td>NaN</td>\n",
              "    </tr>\n",
              "    <tr>\n",
              "      <th>3</th>\n",
              "      <td>4</td>\n",
              "      <td>Green</td>\n",
              "      <td>157</td>\n",
              "      <td>180</td>\n",
              "      <td>Female</td>\n",
              "      <td>L</td>\n",
              "      <td>Short</td>\n",
              "    </tr>\n",
              "    <tr>\n",
              "      <th>4</th>\n",
              "      <td>5</td>\n",
              "      <td>Brown</td>\n",
              "      <td>170</td>\n",
              "      <td>193</td>\n",
              "      <td>Male</td>\n",
              "      <td>R</td>\n",
              "      <td>Medium</td>\n",
              "    </tr>\n",
              "  </tbody>\n",
              "</table>\n",
              "</div>"
            ],
            "text/plain": [
              "   Subject Eye Color  Height  Hand Span     Sex Handedness Height Cat\n",
              "0        1     Brown     186        210    Male          R       Tall\n",
              "1        2     Green     182        220    Male          R       Tall\n",
              "2        3     Brown     147        167  Female        NaN        NaN\n",
              "3        4     Green     157        180  Female          L      Short\n",
              "4        5     Brown     170        193    Male          R     Medium"
            ]
          },
          "metadata": {
            "tags": []
          },
          "execution_count": 4
        }
      ]
    },
    {
      "cell_type": "code",
      "metadata": {
        "id": "cAfxGZWpdt0p",
        "colab": {
          "base_uri": "https://localhost:8080/",
          "height": 159
        },
        "outputId": "0dc29346-b2bb-4aef-c46b-f731ac18627c"
      },
      "source": [
        "people.shape\n",
        "people.dtypes"
      ],
      "execution_count": null,
      "outputs": [
        {
          "output_type": "execute_result",
          "data": {
            "text/plain": [
              "Subject        int64\n",
              "Eye Color     object\n",
              "Height         int64\n",
              "Hand Span      int64\n",
              "Sex           object\n",
              "Handedness    object\n",
              "Height Cat    object\n",
              "dtype: object"
            ]
          },
          "metadata": {
            "tags": []
          },
          "execution_count": 5
        }
      ]
    },
    {
      "cell_type": "code",
      "metadata": {
        "id": "ycT3vpWvdt0r",
        "colab": {
          "base_uri": "https://localhost:8080/",
          "height": 266
        },
        "outputId": "485d7301-45a0-4b94-97c0-e98d001d038b"
      },
      "source": [
        "people.info()"
      ],
      "execution_count": null,
      "outputs": [
        {
          "output_type": "stream",
          "text": [
            "<class 'pandas.core.frame.DataFrame'>\n",
            "RangeIndex: 16 entries, 0 to 15\n",
            "Data columns (total 7 columns):\n",
            " #   Column      Non-Null Count  Dtype \n",
            "---  ------      --------------  ----- \n",
            " 0   Subject     16 non-null     int64 \n",
            " 1   Eye Color   16 non-null     object\n",
            " 2   Height      16 non-null     int64 \n",
            " 3   Hand Span   16 non-null     int64 \n",
            " 4   Sex         16 non-null     object\n",
            " 5   Handedness  13 non-null     object\n",
            " 6   Height Cat  15 non-null     object\n",
            "dtypes: int64(3), object(4)\n",
            "memory usage: 1.0+ KB\n"
          ],
          "name": "stdout"
        }
      ]
    },
    {
      "cell_type": "code",
      "metadata": {
        "scrolled": true,
        "id": "DAFrNF5Pdt0u",
        "colab": {
          "base_uri": "https://localhost:8080/",
          "height": 159
        },
        "outputId": "8fc57a2c-1d69-48f0-d5be-483bcb68d698"
      },
      "source": [
        "people.dtypes"
      ],
      "execution_count": null,
      "outputs": [
        {
          "output_type": "execute_result",
          "data": {
            "text/plain": [
              "Subject        int64\n",
              "Eye Color     object\n",
              "Height         int64\n",
              "Hand Span      int64\n",
              "Sex           object\n",
              "Handedness    object\n",
              "Height Cat    object\n",
              "dtype: object"
            ]
          },
          "metadata": {
            "tags": []
          },
          "execution_count": 7
        }
      ]
    },
    {
      "cell_type": "markdown",
      "metadata": {
        "id": "aGsllUH0dt0w"
      },
      "source": [
        "Subject column is like id number/index of respondents.\n",
        "we can either delete this column\n",
        "or make it as row index"
      ]
    },
    {
      "cell_type": "code",
      "metadata": {
        "id": "tBIolZmtdt0x"
      },
      "source": [
        "# To delete column 'Subject'\n",
        "\n",
        "# Approach_1\n",
        "\n",
        "# del people['Subject']\n",
        "\n",
        "# however, del people.Subject does not work. Please refer: https://stackoverflow.com/questions/13411544/delete-column-from-pandas-dataframe\n",
        "        \n",
        "        \n",
        "# Approach_2\n",
        "# people = people.drop('Subject', 1)\n",
        "# #better way\n",
        "# people.drop('Subject', 1, inplace=True)\n",
        "\n",
        "# More tips\n",
        "# https://stackoverflow.com/questions/13411544/delete-column-from-pandas-dataframe\n",
        "        "
      ],
      "execution_count": null,
      "outputs": []
    },
    {
      "cell_type": "code",
      "metadata": {
        "id": "3tl3VjPUdt0z",
        "colab": {
          "base_uri": "https://localhost:8080/",
          "height": 223
        },
        "outputId": "800fd266-f7dd-47a6-e34d-211ab559b52b"
      },
      "source": [
        "# To set 'Subject' column as row index\n",
        "\n",
        "people.set_index(['Subject'], inplace = True)\n",
        "people.head()"
      ],
      "execution_count": null,
      "outputs": [
        {
          "output_type": "execute_result",
          "data": {
            "text/html": [
              "<div>\n",
              "<style scoped>\n",
              "    .dataframe tbody tr th:only-of-type {\n",
              "        vertical-align: middle;\n",
              "    }\n",
              "\n",
              "    .dataframe tbody tr th {\n",
              "        vertical-align: top;\n",
              "    }\n",
              "\n",
              "    .dataframe thead th {\n",
              "        text-align: right;\n",
              "    }\n",
              "</style>\n",
              "<table border=\"1\" class=\"dataframe\">\n",
              "  <thead>\n",
              "    <tr style=\"text-align: right;\">\n",
              "      <th></th>\n",
              "      <th>Eye Color</th>\n",
              "      <th>Height</th>\n",
              "      <th>Hand Span</th>\n",
              "      <th>Sex</th>\n",
              "      <th>Handedness</th>\n",
              "      <th>Height Cat</th>\n",
              "    </tr>\n",
              "    <tr>\n",
              "      <th>Subject</th>\n",
              "      <th></th>\n",
              "      <th></th>\n",
              "      <th></th>\n",
              "      <th></th>\n",
              "      <th></th>\n",
              "      <th></th>\n",
              "    </tr>\n",
              "  </thead>\n",
              "  <tbody>\n",
              "    <tr>\n",
              "      <th>1</th>\n",
              "      <td>Brown</td>\n",
              "      <td>186</td>\n",
              "      <td>210</td>\n",
              "      <td>Male</td>\n",
              "      <td>R</td>\n",
              "      <td>Tall</td>\n",
              "    </tr>\n",
              "    <tr>\n",
              "      <th>2</th>\n",
              "      <td>Green</td>\n",
              "      <td>182</td>\n",
              "      <td>220</td>\n",
              "      <td>Male</td>\n",
              "      <td>R</td>\n",
              "      <td>Tall</td>\n",
              "    </tr>\n",
              "    <tr>\n",
              "      <th>3</th>\n",
              "      <td>Brown</td>\n",
              "      <td>147</td>\n",
              "      <td>167</td>\n",
              "      <td>Female</td>\n",
              "      <td>NaN</td>\n",
              "      <td>NaN</td>\n",
              "    </tr>\n",
              "    <tr>\n",
              "      <th>4</th>\n",
              "      <td>Green</td>\n",
              "      <td>157</td>\n",
              "      <td>180</td>\n",
              "      <td>Female</td>\n",
              "      <td>L</td>\n",
              "      <td>Short</td>\n",
              "    </tr>\n",
              "    <tr>\n",
              "      <th>5</th>\n",
              "      <td>Brown</td>\n",
              "      <td>170</td>\n",
              "      <td>193</td>\n",
              "      <td>Male</td>\n",
              "      <td>R</td>\n",
              "      <td>Medium</td>\n",
              "    </tr>\n",
              "  </tbody>\n",
              "</table>\n",
              "</div>"
            ],
            "text/plain": [
              "        Eye Color  Height  Hand Span     Sex Handedness Height Cat\n",
              "Subject                                                           \n",
              "1           Brown     186        210    Male          R       Tall\n",
              "2           Green     182        220    Male          R       Tall\n",
              "3           Brown     147        167  Female        NaN        NaN\n",
              "4           Green     157        180  Female          L      Short\n",
              "5           Brown     170        193    Male          R     Medium"
            ]
          },
          "metadata": {
            "tags": []
          },
          "execution_count": 9
        }
      ]
    },
    {
      "cell_type": "code",
      "metadata": {
        "scrolled": false,
        "id": "26NYKex9dt00",
        "colab": {
          "base_uri": "https://localhost:8080/",
          "height": 282
        },
        "outputId": "c708fd7a-939a-4a2f-f455-c2dd45276613"
      },
      "source": [
        "people.describe()\n",
        "\n",
        "# height\n",
        "# mean < median; it mean left skewed\n",
        "\n",
        "# import seaborn as sns\n",
        "# sns.distplot(people['Height'])"
      ],
      "execution_count": null,
      "outputs": [
        {
          "output_type": "execute_result",
          "data": {
            "text/html": [
              "<div>\n",
              "<style scoped>\n",
              "    .dataframe tbody tr th:only-of-type {\n",
              "        vertical-align: middle;\n",
              "    }\n",
              "\n",
              "    .dataframe tbody tr th {\n",
              "        vertical-align: top;\n",
              "    }\n",
              "\n",
              "    .dataframe thead th {\n",
              "        text-align: right;\n",
              "    }\n",
              "</style>\n",
              "<table border=\"1\" class=\"dataframe\">\n",
              "  <thead>\n",
              "    <tr style=\"text-align: right;\">\n",
              "      <th></th>\n",
              "      <th>Height</th>\n",
              "      <th>Hand Span</th>\n",
              "    </tr>\n",
              "  </thead>\n",
              "  <tbody>\n",
              "    <tr>\n",
              "      <th>count</th>\n",
              "      <td>16.000000</td>\n",
              "      <td>16.000000</td>\n",
              "    </tr>\n",
              "    <tr>\n",
              "      <th>mean</th>\n",
              "      <td>170.562500</td>\n",
              "      <td>201.562500</td>\n",
              "    </tr>\n",
              "    <tr>\n",
              "      <th>std</th>\n",
              "      <td>10.676883</td>\n",
              "      <td>17.947957</td>\n",
              "    </tr>\n",
              "    <tr>\n",
              "      <th>min</th>\n",
              "      <td>147.000000</td>\n",
              "      <td>167.000000</td>\n",
              "    </tr>\n",
              "    <tr>\n",
              "      <th>25%</th>\n",
              "      <td>165.250000</td>\n",
              "      <td>190.000000</td>\n",
              "    </tr>\n",
              "    <tr>\n",
              "      <th>50%</th>\n",
              "      <td>171.500000</td>\n",
              "      <td>203.000000</td>\n",
              "    </tr>\n",
              "    <tr>\n",
              "      <th>75%</th>\n",
              "      <td>177.500000</td>\n",
              "      <td>217.250000</td>\n",
              "    </tr>\n",
              "    <tr>\n",
              "      <th>max</th>\n",
              "      <td>186.000000</td>\n",
              "      <td>225.000000</td>\n",
              "    </tr>\n",
              "  </tbody>\n",
              "</table>\n",
              "</div>"
            ],
            "text/plain": [
              "           Height   Hand Span\n",
              "count   16.000000   16.000000\n",
              "mean   170.562500  201.562500\n",
              "std     10.676883   17.947957\n",
              "min    147.000000  167.000000\n",
              "25%    165.250000  190.000000\n",
              "50%    171.500000  203.000000\n",
              "75%    177.500000  217.250000\n",
              "max    186.000000  225.000000"
            ]
          },
          "metadata": {
            "tags": []
          },
          "execution_count": 10
        }
      ]
    },
    {
      "cell_type": "code",
      "metadata": {
        "scrolled": true,
        "id": "4WESHj7kdt03",
        "colab": {
          "base_uri": "https://localhost:8080/",
          "height": 370
        },
        "outputId": "e1b2729f-32d2-423b-ff69-df7fea9330e6"
      },
      "source": [
        "people.describe(include='all')\n"
      ],
      "execution_count": null,
      "outputs": [
        {
          "output_type": "execute_result",
          "data": {
            "text/html": [
              "<div>\n",
              "<style scoped>\n",
              "    .dataframe tbody tr th:only-of-type {\n",
              "        vertical-align: middle;\n",
              "    }\n",
              "\n",
              "    .dataframe tbody tr th {\n",
              "        vertical-align: top;\n",
              "    }\n",
              "\n",
              "    .dataframe thead th {\n",
              "        text-align: right;\n",
              "    }\n",
              "</style>\n",
              "<table border=\"1\" class=\"dataframe\">\n",
              "  <thead>\n",
              "    <tr style=\"text-align: right;\">\n",
              "      <th></th>\n",
              "      <th>Eye Color</th>\n",
              "      <th>Height</th>\n",
              "      <th>Hand Span</th>\n",
              "      <th>Sex</th>\n",
              "      <th>Handedness</th>\n",
              "      <th>Height Cat</th>\n",
              "    </tr>\n",
              "  </thead>\n",
              "  <tbody>\n",
              "    <tr>\n",
              "      <th>count</th>\n",
              "      <td>16</td>\n",
              "      <td>16.000000</td>\n",
              "      <td>16.000000</td>\n",
              "      <td>16</td>\n",
              "      <td>13</td>\n",
              "      <td>15</td>\n",
              "    </tr>\n",
              "    <tr>\n",
              "      <th>unique</th>\n",
              "      <td>3</td>\n",
              "      <td>NaN</td>\n",
              "      <td>NaN</td>\n",
              "      <td>2</td>\n",
              "      <td>2</td>\n",
              "      <td>3</td>\n",
              "    </tr>\n",
              "    <tr>\n",
              "      <th>top</th>\n",
              "      <td>Blue</td>\n",
              "      <td>NaN</td>\n",
              "      <td>NaN</td>\n",
              "      <td>Male</td>\n",
              "      <td>R</td>\n",
              "      <td>Medium</td>\n",
              "    </tr>\n",
              "    <tr>\n",
              "      <th>freq</th>\n",
              "      <td>7</td>\n",
              "      <td>NaN</td>\n",
              "      <td>NaN</td>\n",
              "      <td>10</td>\n",
              "      <td>11</td>\n",
              "      <td>9</td>\n",
              "    </tr>\n",
              "    <tr>\n",
              "      <th>mean</th>\n",
              "      <td>NaN</td>\n",
              "      <td>170.562500</td>\n",
              "      <td>201.562500</td>\n",
              "      <td>NaN</td>\n",
              "      <td>NaN</td>\n",
              "      <td>NaN</td>\n",
              "    </tr>\n",
              "    <tr>\n",
              "      <th>std</th>\n",
              "      <td>NaN</td>\n",
              "      <td>10.676883</td>\n",
              "      <td>17.947957</td>\n",
              "      <td>NaN</td>\n",
              "      <td>NaN</td>\n",
              "      <td>NaN</td>\n",
              "    </tr>\n",
              "    <tr>\n",
              "      <th>min</th>\n",
              "      <td>NaN</td>\n",
              "      <td>147.000000</td>\n",
              "      <td>167.000000</td>\n",
              "      <td>NaN</td>\n",
              "      <td>NaN</td>\n",
              "      <td>NaN</td>\n",
              "    </tr>\n",
              "    <tr>\n",
              "      <th>25%</th>\n",
              "      <td>NaN</td>\n",
              "      <td>165.250000</td>\n",
              "      <td>190.000000</td>\n",
              "      <td>NaN</td>\n",
              "      <td>NaN</td>\n",
              "      <td>NaN</td>\n",
              "    </tr>\n",
              "    <tr>\n",
              "      <th>50%</th>\n",
              "      <td>NaN</td>\n",
              "      <td>171.500000</td>\n",
              "      <td>203.000000</td>\n",
              "      <td>NaN</td>\n",
              "      <td>NaN</td>\n",
              "      <td>NaN</td>\n",
              "    </tr>\n",
              "    <tr>\n",
              "      <th>75%</th>\n",
              "      <td>NaN</td>\n",
              "      <td>177.500000</td>\n",
              "      <td>217.250000</td>\n",
              "      <td>NaN</td>\n",
              "      <td>NaN</td>\n",
              "      <td>NaN</td>\n",
              "    </tr>\n",
              "    <tr>\n",
              "      <th>max</th>\n",
              "      <td>NaN</td>\n",
              "      <td>186.000000</td>\n",
              "      <td>225.000000</td>\n",
              "      <td>NaN</td>\n",
              "      <td>NaN</td>\n",
              "      <td>NaN</td>\n",
              "    </tr>\n",
              "  </tbody>\n",
              "</table>\n",
              "</div>"
            ],
            "text/plain": [
              "       Eye Color      Height   Hand Span   Sex Handedness Height Cat\n",
              "count         16   16.000000   16.000000    16         13         15\n",
              "unique         3         NaN         NaN     2          2          3\n",
              "top         Blue         NaN         NaN  Male          R     Medium\n",
              "freq           7         NaN         NaN    10         11          9\n",
              "mean         NaN  170.562500  201.562500   NaN        NaN        NaN\n",
              "std          NaN   10.676883   17.947957   NaN        NaN        NaN\n",
              "min          NaN  147.000000  167.000000   NaN        NaN        NaN\n",
              "25%          NaN  165.250000  190.000000   NaN        NaN        NaN\n",
              "50%          NaN  171.500000  203.000000   NaN        NaN        NaN\n",
              "75%          NaN  177.500000  217.250000   NaN        NaN        NaN\n",
              "max          NaN  186.000000  225.000000   NaN        NaN        NaN"
            ]
          },
          "metadata": {
            "tags": []
          },
          "execution_count": 11
        }
      ]
    },
    {
      "cell_type": "code",
      "metadata": {
        "scrolled": true,
        "id": "ag5hhpFwdt05",
        "colab": {
          "base_uri": "https://localhost:8080/",
          "height": 106
        },
        "outputId": "8806e676-4c75-454d-9d1e-f3a46c8aa131"
      },
      "source": [
        "people['Eye Color'].describe()\n",
        "# uniques means how many categories\n",
        "# top means mode/most frequent class"
      ],
      "execution_count": null,
      "outputs": [
        {
          "output_type": "execute_result",
          "data": {
            "text/plain": [
              "count       16\n",
              "unique       3\n",
              "top       Blue\n",
              "freq         7\n",
              "Name: Eye Color, dtype: object"
            ]
          },
          "metadata": {
            "tags": []
          },
          "execution_count": 12
        }
      ]
    },
    {
      "cell_type": "code",
      "metadata": {
        "id": "K4hWpoYAdt07",
        "colab": {
          "base_uri": "https://localhost:8080/",
          "height": 35
        },
        "outputId": "fc42b013-8964-49cd-8242-9f4a05fba654"
      },
      "source": [
        "people['Eye Color'].count()\n",
        "# people['Eye Color'].nunique()\n",
        "# people['Eye Color'].value_counts()\n",
        "# people['Eye Color'].value_counts().max()"
      ],
      "execution_count": null,
      "outputs": [
        {
          "output_type": "execute_result",
          "data": {
            "text/plain": [
              "16"
            ]
          },
          "metadata": {
            "tags": []
          },
          "execution_count": 13
        }
      ]
    },
    {
      "cell_type": "code",
      "metadata": {
        "id": "s20dUyFLdt09",
        "colab": {
          "base_uri": "https://localhost:8080/",
          "height": 106
        },
        "outputId": "40f72a4a-74be-4aff-bf4c-e3f522e7b53a"
      },
      "source": [
        "people.Sex.describe()"
      ],
      "execution_count": null,
      "outputs": [
        {
          "output_type": "execute_result",
          "data": {
            "text/plain": [
              "count       16\n",
              "unique       2\n",
              "top       Male\n",
              "freq        10\n",
              "Name: Sex, dtype: object"
            ]
          },
          "metadata": {
            "tags": []
          },
          "execution_count": 14
        }
      ]
    },
    {
      "cell_type": "code",
      "metadata": {
        "id": "_HiHJzJVdt0_",
        "colab": {
          "base_uri": "https://localhost:8080/",
          "height": 35
        },
        "outputId": "0eaadc29-5328-47e7-a330-a617ba574958"
      },
      "source": [
        "people.columns"
      ],
      "execution_count": null,
      "outputs": [
        {
          "output_type": "execute_result",
          "data": {
            "text/plain": [
              "Index(['Eye Color', 'Height', 'Hand Span', 'Sex', 'Handedness', 'Height Cat'], dtype='object')"
            ]
          },
          "metadata": {
            "tags": []
          },
          "execution_count": 15
        }
      ]
    },
    {
      "cell_type": "markdown",
      "metadata": {
        "id": "TIPr7w45dt1E"
      },
      "source": [
        "# One Way Frequency Table"
      ]
    },
    {
      "cell_type": "code",
      "metadata": {
        "id": "2w5CIQY7dt1F",
        "colab": {
          "base_uri": "https://localhost:8080/",
          "height": 88
        },
        "outputId": "85697ef5-9da3-4f26-acee-cc5f6e39e9b4"
      },
      "source": [
        "people['Eye Color'].value_counts()"
      ],
      "execution_count": null,
      "outputs": [
        {
          "output_type": "execute_result",
          "data": {
            "text/plain": [
              "Blue     7\n",
              "Brown    6\n",
              "Green    3\n",
              "Name: Eye Color, dtype: int64"
            ]
          },
          "metadata": {
            "tags": []
          },
          "execution_count": 16
        }
      ]
    },
    {
      "cell_type": "code",
      "metadata": {
        "id": "VtW0Blu1dt1H",
        "colab": {
          "base_uri": "https://localhost:8080/",
          "height": 35
        },
        "outputId": "1666421a-5045-4a32-d053-ae10e39c9f4a"
      },
      "source": [
        "people['Eye Color'].value_counts().sum()"
      ],
      "execution_count": null,
      "outputs": [
        {
          "output_type": "execute_result",
          "data": {
            "text/plain": [
              "16"
            ]
          },
          "metadata": {
            "tags": []
          },
          "execution_count": 17
        }
      ]
    },
    {
      "cell_type": "code",
      "metadata": {
        "id": "F3v045Nhdt1J",
        "colab": {
          "base_uri": "https://localhost:8080/",
          "height": 35
        },
        "outputId": "00300c45-816d-429e-8e73-be0d3250f12e"
      },
      "source": [
        "people['Eye Color'].value_counts().max()"
      ],
      "execution_count": null,
      "outputs": [
        {
          "output_type": "execute_result",
          "data": {
            "text/plain": [
              "7"
            ]
          },
          "metadata": {
            "tags": []
          },
          "execution_count": 18
        }
      ]
    },
    {
      "cell_type": "code",
      "metadata": {
        "id": "MA0nLHQEdt1K",
        "colab": {
          "base_uri": "https://localhost:8080/",
          "height": 337
        },
        "outputId": "30098c3b-1d07-4412-810a-8451410aac6e"
      },
      "source": [
        "people['Eye Color']"
      ],
      "execution_count": null,
      "outputs": [
        {
          "output_type": "execute_result",
          "data": {
            "text/plain": [
              "Subject\n",
              "1     Brown\n",
              "2     Green\n",
              "3     Brown\n",
              "4     Green\n",
              "5     Brown\n",
              "6      Blue\n",
              "7     Brown\n",
              "8      Blue\n",
              "9      Blue\n",
              "10     Blue\n",
              "11    Brown\n",
              "12     Blue\n",
              "13     Blue\n",
              "14     Blue\n",
              "15    Green\n",
              "16    Brown\n",
              "Name: Eye Color, dtype: object"
            ]
          },
          "metadata": {
            "tags": []
          },
          "execution_count": 19
        }
      ]
    },
    {
      "cell_type": "code",
      "metadata": {
        "id": "FchfMh-udt1M",
        "colab": {
          "base_uri": "https://localhost:8080/",
          "height": 337
        },
        "outputId": "8c4a6fd6-3170-454c-9a89-ddd2682ee73f"
      },
      "source": [
        "people.Sex\n",
        "\n",
        "# people.Sex.value_counts()\n",
        "# Not recommended; people['Sex'] is better way\n",
        "# https://stackoverflow.com/questions/13411544/delete-column-from-pandas-dataframe"
      ],
      "execution_count": null,
      "outputs": [
        {
          "output_type": "execute_result",
          "data": {
            "text/plain": [
              "Subject\n",
              "1       Male\n",
              "2       Male\n",
              "3     Female\n",
              "4     Female\n",
              "5       Male\n",
              "6     Female\n",
              "7       Male\n",
              "8       Male\n",
              "9     Female\n",
              "10    Female\n",
              "11      Male\n",
              "12      Male\n",
              "13      Male\n",
              "14      Male\n",
              "15    Female\n",
              "16      Male\n",
              "Name: Sex, dtype: object"
            ]
          },
          "metadata": {
            "tags": []
          },
          "execution_count": 20
        }
      ]
    },
    {
      "cell_type": "markdown",
      "metadata": {
        "id": "qmEpOKl5dt1O"
      },
      "source": [
        "# Two Way contigency Table/ Cross Tab"
      ]
    },
    {
      "cell_type": "code",
      "metadata": {
        "id": "Or1DeMC7dt1P",
        "colab": {
          "base_uri": "https://localhost:8080/",
          "height": 164
        },
        "outputId": "1db471b7-6af3-4019-a8d2-52745c6433e0"
      },
      "source": [
        "table = pd.crosstab(people['Eye Color'], people['Sex'])\n",
        "table"
      ],
      "execution_count": null,
      "outputs": [
        {
          "output_type": "execute_result",
          "data": {
            "text/html": [
              "<div>\n",
              "<style scoped>\n",
              "    .dataframe tbody tr th:only-of-type {\n",
              "        vertical-align: middle;\n",
              "    }\n",
              "\n",
              "    .dataframe tbody tr th {\n",
              "        vertical-align: top;\n",
              "    }\n",
              "\n",
              "    .dataframe thead th {\n",
              "        text-align: right;\n",
              "    }\n",
              "</style>\n",
              "<table border=\"1\" class=\"dataframe\">\n",
              "  <thead>\n",
              "    <tr style=\"text-align: right;\">\n",
              "      <th>Sex</th>\n",
              "      <th>Female</th>\n",
              "      <th>Male</th>\n",
              "    </tr>\n",
              "    <tr>\n",
              "      <th>Eye Color</th>\n",
              "      <th></th>\n",
              "      <th></th>\n",
              "    </tr>\n",
              "  </thead>\n",
              "  <tbody>\n",
              "    <tr>\n",
              "      <th>Blue</th>\n",
              "      <td>3</td>\n",
              "      <td>4</td>\n",
              "    </tr>\n",
              "    <tr>\n",
              "      <th>Brown</th>\n",
              "      <td>1</td>\n",
              "      <td>5</td>\n",
              "    </tr>\n",
              "    <tr>\n",
              "      <th>Green</th>\n",
              "      <td>2</td>\n",
              "      <td>1</td>\n",
              "    </tr>\n",
              "  </tbody>\n",
              "</table>\n",
              "</div>"
            ],
            "text/plain": [
              "Sex        Female  Male\n",
              "Eye Color              \n",
              "Blue            3     4\n",
              "Brown           1     5\n",
              "Green           2     1"
            ]
          },
          "metadata": {
            "tags": []
          },
          "execution_count": 21
        }
      ]
    },
    {
      "cell_type": "markdown",
      "metadata": {
        "id": "TkflW2WYdt1Q"
      },
      "source": [
        "# Adding Margins"
      ]
    },
    {
      "cell_type": "code",
      "metadata": {
        "id": "iH8yMw9Hdt1R",
        "colab": {
          "base_uri": "https://localhost:8080/",
          "height": 194
        },
        "outputId": "e8eec569-907e-4643-b4ca-662858469f94"
      },
      "source": [
        "# Adding a column of totals\n",
        "pd.crosstab(people['Eye Color'], people['Sex'], margins=True)"
      ],
      "execution_count": null,
      "outputs": [
        {
          "output_type": "execute_result",
          "data": {
            "text/html": [
              "<div>\n",
              "<style scoped>\n",
              "    .dataframe tbody tr th:only-of-type {\n",
              "        vertical-align: middle;\n",
              "    }\n",
              "\n",
              "    .dataframe tbody tr th {\n",
              "        vertical-align: top;\n",
              "    }\n",
              "\n",
              "    .dataframe thead th {\n",
              "        text-align: right;\n",
              "    }\n",
              "</style>\n",
              "<table border=\"1\" class=\"dataframe\">\n",
              "  <thead>\n",
              "    <tr style=\"text-align: right;\">\n",
              "      <th>Sex</th>\n",
              "      <th>Female</th>\n",
              "      <th>Male</th>\n",
              "      <th>All</th>\n",
              "    </tr>\n",
              "    <tr>\n",
              "      <th>Eye Color</th>\n",
              "      <th></th>\n",
              "      <th></th>\n",
              "      <th></th>\n",
              "    </tr>\n",
              "  </thead>\n",
              "  <tbody>\n",
              "    <tr>\n",
              "      <th>Blue</th>\n",
              "      <td>3</td>\n",
              "      <td>4</td>\n",
              "      <td>7</td>\n",
              "    </tr>\n",
              "    <tr>\n",
              "      <th>Brown</th>\n",
              "      <td>1</td>\n",
              "      <td>5</td>\n",
              "      <td>6</td>\n",
              "    </tr>\n",
              "    <tr>\n",
              "      <th>Green</th>\n",
              "      <td>2</td>\n",
              "      <td>1</td>\n",
              "      <td>3</td>\n",
              "    </tr>\n",
              "    <tr>\n",
              "      <th>All</th>\n",
              "      <td>6</td>\n",
              "      <td>10</td>\n",
              "      <td>16</td>\n",
              "    </tr>\n",
              "  </tbody>\n",
              "</table>\n",
              "</div>"
            ],
            "text/plain": [
              "Sex        Female  Male  All\n",
              "Eye Color                   \n",
              "Blue            3     4    7\n",
              "Brown           1     5    6\n",
              "Green           2     1    3\n",
              "All             6    10   16"
            ]
          },
          "metadata": {
            "tags": []
          },
          "execution_count": 22
        }
      ]
    },
    {
      "cell_type": "code",
      "metadata": {
        "id": "f99Xeof9dt1T",
        "colab": {
          "base_uri": "https://localhost:8080/",
          "height": 194
        },
        "outputId": "3fc03958-843d-4ba6-c736-7450ce318097"
      },
      "source": [
        "# changing name of total column\n",
        "pd.crosstab(people['Eye Color'], people['Sex'], margins=True, margins_name='Total')"
      ],
      "execution_count": null,
      "outputs": [
        {
          "output_type": "execute_result",
          "data": {
            "text/html": [
              "<div>\n",
              "<style scoped>\n",
              "    .dataframe tbody tr th:only-of-type {\n",
              "        vertical-align: middle;\n",
              "    }\n",
              "\n",
              "    .dataframe tbody tr th {\n",
              "        vertical-align: top;\n",
              "    }\n",
              "\n",
              "    .dataframe thead th {\n",
              "        text-align: right;\n",
              "    }\n",
              "</style>\n",
              "<table border=\"1\" class=\"dataframe\">\n",
              "  <thead>\n",
              "    <tr style=\"text-align: right;\">\n",
              "      <th>Sex</th>\n",
              "      <th>Female</th>\n",
              "      <th>Male</th>\n",
              "      <th>Total</th>\n",
              "    </tr>\n",
              "    <tr>\n",
              "      <th>Eye Color</th>\n",
              "      <th></th>\n",
              "      <th></th>\n",
              "      <th></th>\n",
              "    </tr>\n",
              "  </thead>\n",
              "  <tbody>\n",
              "    <tr>\n",
              "      <th>Blue</th>\n",
              "      <td>3</td>\n",
              "      <td>4</td>\n",
              "      <td>7</td>\n",
              "    </tr>\n",
              "    <tr>\n",
              "      <th>Brown</th>\n",
              "      <td>1</td>\n",
              "      <td>5</td>\n",
              "      <td>6</td>\n",
              "    </tr>\n",
              "    <tr>\n",
              "      <th>Green</th>\n",
              "      <td>2</td>\n",
              "      <td>1</td>\n",
              "      <td>3</td>\n",
              "    </tr>\n",
              "    <tr>\n",
              "      <th>Total</th>\n",
              "      <td>6</td>\n",
              "      <td>10</td>\n",
              "      <td>16</td>\n",
              "    </tr>\n",
              "  </tbody>\n",
              "</table>\n",
              "</div>"
            ],
            "text/plain": [
              "Sex        Female  Male  Total\n",
              "Eye Color                     \n",
              "Blue            3     4      7\n",
              "Brown           1     5      6\n",
              "Green           2     1      3\n",
              "Total           6    10     16"
            ]
          },
          "metadata": {
            "tags": []
          },
          "execution_count": 23
        }
      ]
    },
    {
      "cell_type": "code",
      "metadata": {
        "id": "Hx2QrCKKdt1U",
        "colab": {
          "base_uri": "https://localhost:8080/",
          "height": 70
        },
        "outputId": "f064c883-095f-4bb9-a6a9-43fd50bdac7a"
      },
      "source": [
        "pd.crosstab(people['Eye Color'], people['Sex']).sum()\n",
        "\n",
        "people['Sex'].value_counts()"
      ],
      "execution_count": null,
      "outputs": [
        {
          "output_type": "execute_result",
          "data": {
            "text/plain": [
              "Male      10\n",
              "Female     6\n",
              "Name: Sex, dtype: int64"
            ]
          },
          "metadata": {
            "tags": []
          },
          "execution_count": 24
        }
      ]
    },
    {
      "cell_type": "code",
      "metadata": {
        "id": "_vnlpwBhdt1X",
        "colab": {
          "base_uri": "https://localhost:8080/",
          "height": 88
        },
        "outputId": "fb85e86d-79d2-447b-e113-ddc63ce822f0"
      },
      "source": [
        "pd.crosstab(people['Eye Color'], people['Sex']).sum(axis=1)\n",
        "\n",
        "people['Eye Color'].value_counts()"
      ],
      "execution_count": null,
      "outputs": [
        {
          "output_type": "execute_result",
          "data": {
            "text/plain": [
              "Blue     7\n",
              "Brown    6\n",
              "Green    3\n",
              "Name: Eye Color, dtype: int64"
            ]
          },
          "metadata": {
            "tags": []
          },
          "execution_count": 25
        }
      ]
    },
    {
      "cell_type": "code",
      "metadata": {
        "id": "styYGqmgdt1Z",
        "colab": {
          "base_uri": "https://localhost:8080/",
          "height": 164
        },
        "outputId": "ddbac39c-86d6-44f2-8079-c55dbe8026d8"
      },
      "source": [
        "pd.crosstab(people['Eye Color'], people['Handedness'])\n",
        "# pd.crosstab(people['Eye Color'], people['Handedness']).sum()\n",
        "# pd.crosstab(people['Eye Color'], people['Handedness']).sum(axis=1)\n",
        "# Only 13 counts out of total 16 indicates missing values "
      ],
      "execution_count": null,
      "outputs": [
        {
          "output_type": "execute_result",
          "data": {
            "text/html": [
              "<div>\n",
              "<style scoped>\n",
              "    .dataframe tbody tr th:only-of-type {\n",
              "        vertical-align: middle;\n",
              "    }\n",
              "\n",
              "    .dataframe tbody tr th {\n",
              "        vertical-align: top;\n",
              "    }\n",
              "\n",
              "    .dataframe thead th {\n",
              "        text-align: right;\n",
              "    }\n",
              "</style>\n",
              "<table border=\"1\" class=\"dataframe\">\n",
              "  <thead>\n",
              "    <tr style=\"text-align: right;\">\n",
              "      <th>Handedness</th>\n",
              "      <th>L</th>\n",
              "      <th>R</th>\n",
              "    </tr>\n",
              "    <tr>\n",
              "      <th>Eye Color</th>\n",
              "      <th></th>\n",
              "      <th></th>\n",
              "    </tr>\n",
              "  </thead>\n",
              "  <tbody>\n",
              "    <tr>\n",
              "      <th>Blue</th>\n",
              "      <td>1</td>\n",
              "      <td>5</td>\n",
              "    </tr>\n",
              "    <tr>\n",
              "      <th>Brown</th>\n",
              "      <td>0</td>\n",
              "      <td>5</td>\n",
              "    </tr>\n",
              "    <tr>\n",
              "      <th>Green</th>\n",
              "      <td>1</td>\n",
              "      <td>1</td>\n",
              "    </tr>\n",
              "  </tbody>\n",
              "</table>\n",
              "</div>"
            ],
            "text/plain": [
              "Handedness  L  R\n",
              "Eye Color       \n",
              "Blue        1  5\n",
              "Brown       0  5\n",
              "Green       1  1"
            ]
          },
          "metadata": {
            "tags": []
          },
          "execution_count": 26
        }
      ]
    },
    {
      "cell_type": "code",
      "metadata": {
        "id": "JRfF8fcddt1b",
        "colab": {
          "base_uri": "https://localhost:8080/",
          "height": 35
        },
        "outputId": "b4c6eef8-9b7d-43a5-ce26-266b39d8d492"
      },
      "source": [
        "people['Eye Color'].value_counts().sum()"
      ],
      "execution_count": null,
      "outputs": [
        {
          "output_type": "execute_result",
          "data": {
            "text/plain": [
              "16"
            ]
          },
          "metadata": {
            "tags": []
          },
          "execution_count": 27
        }
      ]
    },
    {
      "cell_type": "code",
      "metadata": {
        "id": "lnw3RykIdt1c",
        "colab": {
          "base_uri": "https://localhost:8080/",
          "height": 35
        },
        "outputId": "2d348c01-f417-4a1d-a9ff-b694cfd3765e"
      },
      "source": [
        "people['Handedness'].value_counts().sum()\n",
        "# missing values are in 'Handedness' column"
      ],
      "execution_count": null,
      "outputs": [
        {
          "output_type": "execute_result",
          "data": {
            "text/plain": [
              "13"
            ]
          },
          "metadata": {
            "tags": []
          },
          "execution_count": 28
        }
      ]
    },
    {
      "cell_type": "code",
      "metadata": {
        "id": "HV5zIZXedt1e",
        "colab": {
          "base_uri": "https://localhost:8080/",
          "height": 194
        },
        "outputId": "d2cab421-d5a6-4e8a-da55-f2365d389986"
      },
      "source": [
        "pd.crosstab(people['Eye Color'], people['Handedness'], margins=True)"
      ],
      "execution_count": null,
      "outputs": [
        {
          "output_type": "execute_result",
          "data": {
            "text/html": [
              "<div>\n",
              "<style scoped>\n",
              "    .dataframe tbody tr th:only-of-type {\n",
              "        vertical-align: middle;\n",
              "    }\n",
              "\n",
              "    .dataframe tbody tr th {\n",
              "        vertical-align: top;\n",
              "    }\n",
              "\n",
              "    .dataframe thead th {\n",
              "        text-align: right;\n",
              "    }\n",
              "</style>\n",
              "<table border=\"1\" class=\"dataframe\">\n",
              "  <thead>\n",
              "    <tr style=\"text-align: right;\">\n",
              "      <th>Handedness</th>\n",
              "      <th>L</th>\n",
              "      <th>R</th>\n",
              "      <th>All</th>\n",
              "    </tr>\n",
              "    <tr>\n",
              "      <th>Eye Color</th>\n",
              "      <th></th>\n",
              "      <th></th>\n",
              "      <th></th>\n",
              "    </tr>\n",
              "  </thead>\n",
              "  <tbody>\n",
              "    <tr>\n",
              "      <th>Blue</th>\n",
              "      <td>1</td>\n",
              "      <td>5</td>\n",
              "      <td>6</td>\n",
              "    </tr>\n",
              "    <tr>\n",
              "      <th>Brown</th>\n",
              "      <td>0</td>\n",
              "      <td>5</td>\n",
              "      <td>5</td>\n",
              "    </tr>\n",
              "    <tr>\n",
              "      <th>Green</th>\n",
              "      <td>1</td>\n",
              "      <td>1</td>\n",
              "      <td>2</td>\n",
              "    </tr>\n",
              "    <tr>\n",
              "      <th>All</th>\n",
              "      <td>2</td>\n",
              "      <td>11</td>\n",
              "      <td>13</td>\n",
              "    </tr>\n",
              "  </tbody>\n",
              "</table>\n",
              "</div>"
            ],
            "text/plain": [
              "Handedness  L   R  All\n",
              "Eye Color             \n",
              "Blue        1   5    6\n",
              "Brown       0   5    5\n",
              "Green       1   1    2\n",
              "All         2  11   13"
            ]
          },
          "metadata": {
            "tags": []
          },
          "execution_count": 29
        }
      ]
    },
    {
      "cell_type": "markdown",
      "metadata": {
        "id": "mNJOwMOidt1g"
      },
      "source": [
        "# Percentage Table"
      ]
    },
    {
      "cell_type": "code",
      "metadata": {
        "scrolled": true,
        "id": "v2t7e0-odt1h",
        "colab": {
          "base_uri": "https://localhost:8080/",
          "height": 164
        },
        "outputId": "d575d8aa-2320-4ab8-863a-b6ef6a428d2f"
      },
      "source": [
        "pd.crosstab(people['Eye Color'], people['Sex'], normalize='all').round(2) # percentages with respect to grand total\n",
        "\n",
        "# from total 100 subjects, 19 % are females with Blue eyes, 31 % are males with brown eyes"
      ],
      "execution_count": null,
      "outputs": [
        {
          "output_type": "execute_result",
          "data": {
            "text/html": [
              "<div>\n",
              "<style scoped>\n",
              "    .dataframe tbody tr th:only-of-type {\n",
              "        vertical-align: middle;\n",
              "    }\n",
              "\n",
              "    .dataframe tbody tr th {\n",
              "        vertical-align: top;\n",
              "    }\n",
              "\n",
              "    .dataframe thead th {\n",
              "        text-align: right;\n",
              "    }\n",
              "</style>\n",
              "<table border=\"1\" class=\"dataframe\">\n",
              "  <thead>\n",
              "    <tr style=\"text-align: right;\">\n",
              "      <th>Sex</th>\n",
              "      <th>Female</th>\n",
              "      <th>Male</th>\n",
              "    </tr>\n",
              "    <tr>\n",
              "      <th>Eye Color</th>\n",
              "      <th></th>\n",
              "      <th></th>\n",
              "    </tr>\n",
              "  </thead>\n",
              "  <tbody>\n",
              "    <tr>\n",
              "      <th>Blue</th>\n",
              "      <td>0.19</td>\n",
              "      <td>0.25</td>\n",
              "    </tr>\n",
              "    <tr>\n",
              "      <th>Brown</th>\n",
              "      <td>0.06</td>\n",
              "      <td>0.31</td>\n",
              "    </tr>\n",
              "    <tr>\n",
              "      <th>Green</th>\n",
              "      <td>0.12</td>\n",
              "      <td>0.06</td>\n",
              "    </tr>\n",
              "  </tbody>\n",
              "</table>\n",
              "</div>"
            ],
            "text/plain": [
              "Sex        Female  Male\n",
              "Eye Color              \n",
              "Blue         0.19  0.25\n",
              "Brown        0.06  0.31\n",
              "Green        0.12  0.06"
            ]
          },
          "metadata": {
            "tags": []
          },
          "execution_count": 30
        }
      ]
    },
    {
      "cell_type": "code",
      "metadata": {
        "id": "nZYJeujQdt1i",
        "colab": {
          "base_uri": "https://localhost:8080/",
          "height": 88
        },
        "outputId": "c94755bd-eb28-4804-fc66-fd3856499399"
      },
      "source": [
        "pd.crosstab(people['Eye Color'], people['Sex'], normalize='all').sum() # Column wise sum\n",
        "# Out of 100 subjects, there are around 37 females and 62 males"
      ],
      "execution_count": null,
      "outputs": [
        {
          "output_type": "execute_result",
          "data": {
            "text/plain": [
              "Sex\n",
              "Female    0.375\n",
              "Male      0.625\n",
              "dtype: float64"
            ]
          },
          "metadata": {
            "tags": []
          },
          "execution_count": 31
        }
      ]
    },
    {
      "cell_type": "code",
      "metadata": {
        "id": "3qWG3wDcdt1k",
        "colab": {
          "base_uri": "https://localhost:8080/",
          "height": 106
        },
        "outputId": "48f67425-9d2e-426b-9714-ff02ad8ba7b1"
      },
      "source": [
        "pd.crosstab(people['Eye Color'], people['Sex'], normalize='all').sum(axis = 1)\n",
        "# Out of 100 subjects, there are around 44 people with blue eyes, 37 with brown eyes and 19 with green eyes"
      ],
      "execution_count": null,
      "outputs": [
        {
          "output_type": "execute_result",
          "data": {
            "text/plain": [
              "Eye Color\n",
              "Blue     0.4375\n",
              "Brown    0.3750\n",
              "Green    0.1875\n",
              "dtype: float64"
            ]
          },
          "metadata": {
            "tags": []
          },
          "execution_count": 32
        }
      ]
    },
    {
      "cell_type": "code",
      "metadata": {
        "scrolled": true,
        "id": "_ifw35ipdt1m",
        "colab": {
          "base_uri": "https://localhost:8080/",
          "height": 194
        },
        "outputId": "86d37e50-df55-4751-85b8-435982a6c4e2"
      },
      "source": [
        "pd.crosstab(people['Eye Color'], people['Sex'], margins=True, margins_name='Total', normalize='all').round(2)\n",
        "\n",
        "# Alternate way\n",
        "pd.crosstab(people['Eye Color'], people['Sex'], margins=True, margins_name='Percentages', normalize=True).round(2) # same as above"
      ],
      "execution_count": null,
      "outputs": [
        {
          "output_type": "execute_result",
          "data": {
            "text/html": [
              "<div>\n",
              "<style scoped>\n",
              "    .dataframe tbody tr th:only-of-type {\n",
              "        vertical-align: middle;\n",
              "    }\n",
              "\n",
              "    .dataframe tbody tr th {\n",
              "        vertical-align: top;\n",
              "    }\n",
              "\n",
              "    .dataframe thead th {\n",
              "        text-align: right;\n",
              "    }\n",
              "</style>\n",
              "<table border=\"1\" class=\"dataframe\">\n",
              "  <thead>\n",
              "    <tr style=\"text-align: right;\">\n",
              "      <th>Sex</th>\n",
              "      <th>Female</th>\n",
              "      <th>Male</th>\n",
              "      <th>Percentages</th>\n",
              "    </tr>\n",
              "    <tr>\n",
              "      <th>Eye Color</th>\n",
              "      <th></th>\n",
              "      <th></th>\n",
              "      <th></th>\n",
              "    </tr>\n",
              "  </thead>\n",
              "  <tbody>\n",
              "    <tr>\n",
              "      <th>Blue</th>\n",
              "      <td>0.19</td>\n",
              "      <td>0.25</td>\n",
              "      <td>0.44</td>\n",
              "    </tr>\n",
              "    <tr>\n",
              "      <th>Brown</th>\n",
              "      <td>0.06</td>\n",
              "      <td>0.31</td>\n",
              "      <td>0.38</td>\n",
              "    </tr>\n",
              "    <tr>\n",
              "      <th>Green</th>\n",
              "      <td>0.12</td>\n",
              "      <td>0.06</td>\n",
              "      <td>0.19</td>\n",
              "    </tr>\n",
              "    <tr>\n",
              "      <th>Percentages</th>\n",
              "      <td>0.38</td>\n",
              "      <td>0.62</td>\n",
              "      <td>1.00</td>\n",
              "    </tr>\n",
              "  </tbody>\n",
              "</table>\n",
              "</div>"
            ],
            "text/plain": [
              "Sex          Female  Male  Percentages\n",
              "Eye Color                             \n",
              "Blue           0.19  0.25         0.44\n",
              "Brown          0.06  0.31         0.38\n",
              "Green          0.12  0.06         0.19\n",
              "Percentages    0.38  0.62         1.00"
            ]
          },
          "metadata": {
            "tags": []
          },
          "execution_count": 33
        }
      ]
    },
    {
      "cell_type": "code",
      "metadata": {
        "id": "EpMvyiIWdt1o",
        "colab": {
          "base_uri": "https://localhost:8080/",
          "height": 164
        },
        "outputId": "1dae5311-caf8-499a-9d36-05f8a48b9c9b"
      },
      "source": [
        "pd.crosstab(people['Eye Color'], people['Sex'])"
      ],
      "execution_count": null,
      "outputs": [
        {
          "output_type": "execute_result",
          "data": {
            "text/html": [
              "<div>\n",
              "<style scoped>\n",
              "    .dataframe tbody tr th:only-of-type {\n",
              "        vertical-align: middle;\n",
              "    }\n",
              "\n",
              "    .dataframe tbody tr th {\n",
              "        vertical-align: top;\n",
              "    }\n",
              "\n",
              "    .dataframe thead th {\n",
              "        text-align: right;\n",
              "    }\n",
              "</style>\n",
              "<table border=\"1\" class=\"dataframe\">\n",
              "  <thead>\n",
              "    <tr style=\"text-align: right;\">\n",
              "      <th>Sex</th>\n",
              "      <th>Female</th>\n",
              "      <th>Male</th>\n",
              "    </tr>\n",
              "    <tr>\n",
              "      <th>Eye Color</th>\n",
              "      <th></th>\n",
              "      <th></th>\n",
              "    </tr>\n",
              "  </thead>\n",
              "  <tbody>\n",
              "    <tr>\n",
              "      <th>Blue</th>\n",
              "      <td>3</td>\n",
              "      <td>4</td>\n",
              "    </tr>\n",
              "    <tr>\n",
              "      <th>Brown</th>\n",
              "      <td>1</td>\n",
              "      <td>5</td>\n",
              "    </tr>\n",
              "    <tr>\n",
              "      <th>Green</th>\n",
              "      <td>2</td>\n",
              "      <td>1</td>\n",
              "    </tr>\n",
              "  </tbody>\n",
              "</table>\n",
              "</div>"
            ],
            "text/plain": [
              "Sex        Female  Male\n",
              "Eye Color              \n",
              "Blue            3     4\n",
              "Brown           1     5\n",
              "Green           2     1"
            ]
          },
          "metadata": {
            "tags": []
          },
          "execution_count": 34
        }
      ]
    },
    {
      "cell_type": "code",
      "metadata": {
        "id": "JTFWuJ78dt1q",
        "colab": {
          "base_uri": "https://localhost:8080/",
          "height": 164
        },
        "outputId": "a6eef777-b810-4706-c31b-bafc2a786d38"
      },
      "source": [
        "pd.crosstab(people['Eye Color'], people['Sex'], normalize='columns').round(2)\n",
        "# If total 100 males, 40 % are having blue eyes, 50 % brown and 10 % green\n",
        "# If total 100 females, 50 % are having blue eyes, 16.67 % brown and 33.33 % green\n",
        "\n",
        "# pd.crosstab(people['Eye Color'], people['Sex'], margins=True, margins_name='Percentages', normalize='columns') # Columns wise"
      ],
      "execution_count": null,
      "outputs": [
        {
          "output_type": "execute_result",
          "data": {
            "text/html": [
              "<div>\n",
              "<style scoped>\n",
              "    .dataframe tbody tr th:only-of-type {\n",
              "        vertical-align: middle;\n",
              "    }\n",
              "\n",
              "    .dataframe tbody tr th {\n",
              "        vertical-align: top;\n",
              "    }\n",
              "\n",
              "    .dataframe thead th {\n",
              "        text-align: right;\n",
              "    }\n",
              "</style>\n",
              "<table border=\"1\" class=\"dataframe\">\n",
              "  <thead>\n",
              "    <tr style=\"text-align: right;\">\n",
              "      <th>Sex</th>\n",
              "      <th>Female</th>\n",
              "      <th>Male</th>\n",
              "    </tr>\n",
              "    <tr>\n",
              "      <th>Eye Color</th>\n",
              "      <th></th>\n",
              "      <th></th>\n",
              "    </tr>\n",
              "  </thead>\n",
              "  <tbody>\n",
              "    <tr>\n",
              "      <th>Blue</th>\n",
              "      <td>0.50</td>\n",
              "      <td>0.4</td>\n",
              "    </tr>\n",
              "    <tr>\n",
              "      <th>Brown</th>\n",
              "      <td>0.17</td>\n",
              "      <td>0.5</td>\n",
              "    </tr>\n",
              "    <tr>\n",
              "      <th>Green</th>\n",
              "      <td>0.33</td>\n",
              "      <td>0.1</td>\n",
              "    </tr>\n",
              "  </tbody>\n",
              "</table>\n",
              "</div>"
            ],
            "text/plain": [
              "Sex        Female  Male\n",
              "Eye Color              \n",
              "Blue         0.50   0.4\n",
              "Brown        0.17   0.5\n",
              "Green        0.33   0.1"
            ]
          },
          "metadata": {
            "tags": []
          },
          "execution_count": 35
        }
      ]
    },
    {
      "cell_type": "code",
      "metadata": {
        "id": "4QGMZpCTdt1s",
        "colab": {
          "base_uri": "https://localhost:8080/",
          "height": 164
        },
        "outputId": "da52abad-444e-4e21-d6be-7afc22e657fa"
      },
      "source": [
        "pd.crosstab(people['Eye Color'], people['Sex'], normalize='index').round(2) # Row wise\n",
        "# pd.crosstab(people['Eye Color'], people['Sex'],  margins=True, margins_name='Percentages', normalize='index')\n",
        "# out of 100 blue eye color people, 43 % are females and rest are males\n",
        "# out of 100 brown eye color people, 17 % are females and rest are males\n",
        "# out of 100 green eye color people, 67 % are females and rest are males"
      ],
      "execution_count": null,
      "outputs": [
        {
          "output_type": "execute_result",
          "data": {
            "text/html": [
              "<div>\n",
              "<style scoped>\n",
              "    .dataframe tbody tr th:only-of-type {\n",
              "        vertical-align: middle;\n",
              "    }\n",
              "\n",
              "    .dataframe tbody tr th {\n",
              "        vertical-align: top;\n",
              "    }\n",
              "\n",
              "    .dataframe thead th {\n",
              "        text-align: right;\n",
              "    }\n",
              "</style>\n",
              "<table border=\"1\" class=\"dataframe\">\n",
              "  <thead>\n",
              "    <tr style=\"text-align: right;\">\n",
              "      <th>Sex</th>\n",
              "      <th>Female</th>\n",
              "      <th>Male</th>\n",
              "    </tr>\n",
              "    <tr>\n",
              "      <th>Eye Color</th>\n",
              "      <th></th>\n",
              "      <th></th>\n",
              "    </tr>\n",
              "  </thead>\n",
              "  <tbody>\n",
              "    <tr>\n",
              "      <th>Blue</th>\n",
              "      <td>0.43</td>\n",
              "      <td>0.57</td>\n",
              "    </tr>\n",
              "    <tr>\n",
              "      <th>Brown</th>\n",
              "      <td>0.17</td>\n",
              "      <td>0.83</td>\n",
              "    </tr>\n",
              "    <tr>\n",
              "      <th>Green</th>\n",
              "      <td>0.67</td>\n",
              "      <td>0.33</td>\n",
              "    </tr>\n",
              "  </tbody>\n",
              "</table>\n",
              "</div>"
            ],
            "text/plain": [
              "Sex        Female  Male\n",
              "Eye Color              \n",
              "Blue         0.43  0.57\n",
              "Brown        0.17  0.83\n",
              "Green        0.67  0.33"
            ]
          },
          "metadata": {
            "tags": []
          },
          "execution_count": 36
        }
      ]
    },
    {
      "cell_type": "markdown",
      "metadata": {
        "id": "JfIVpxf9dt1u"
      },
      "source": [
        "# Three way contigency table"
      ]
    },
    {
      "cell_type": "code",
      "metadata": {
        "id": "pfZglFtMdt1u",
        "colab": {
          "base_uri": "https://localhost:8080/",
          "height": 252
        },
        "outputId": "2a971f4c-347a-444b-cbec-ae7c3040ad56"
      },
      "source": [
        "# pd.crosstab(people['Eye Color'], [people['Sex'], people['Height Cat']] )\n",
        "\n",
        "# pd.crosstab(people['Eye Color'], [people['Height Cat'], people['Sex']] )\n",
        "\n",
        "\n",
        "pd.crosstab( [people['Eye Color'], people['Height Cat']] , people['Sex'])\n",
        "\n",
        "\n",
        "# pd.crosstab(people['Eye Color'], [people['Sex'], people['Height Cat']]) # Eye color in row, sex and heigth cat in columns"
      ],
      "execution_count": null,
      "outputs": [
        {
          "output_type": "execute_result",
          "data": {
            "text/html": [
              "<div>\n",
              "<style scoped>\n",
              "    .dataframe tbody tr th:only-of-type {\n",
              "        vertical-align: middle;\n",
              "    }\n",
              "\n",
              "    .dataframe tbody tr th {\n",
              "        vertical-align: top;\n",
              "    }\n",
              "\n",
              "    .dataframe thead th {\n",
              "        text-align: right;\n",
              "    }\n",
              "</style>\n",
              "<table border=\"1\" class=\"dataframe\">\n",
              "  <thead>\n",
              "    <tr style=\"text-align: right;\">\n",
              "      <th></th>\n",
              "      <th>Sex</th>\n",
              "      <th>Female</th>\n",
              "      <th>Male</th>\n",
              "    </tr>\n",
              "    <tr>\n",
              "      <th>Eye Color</th>\n",
              "      <th>Height Cat</th>\n",
              "      <th></th>\n",
              "      <th></th>\n",
              "    </tr>\n",
              "  </thead>\n",
              "  <tbody>\n",
              "    <tr>\n",
              "      <th rowspan=\"2\" valign=\"top\">Blue</th>\n",
              "      <th>Medium</th>\n",
              "      <td>3</td>\n",
              "      <td>2</td>\n",
              "    </tr>\n",
              "    <tr>\n",
              "      <th>Tall</th>\n",
              "      <td>0</td>\n",
              "      <td>2</td>\n",
              "    </tr>\n",
              "    <tr>\n",
              "      <th rowspan=\"2\" valign=\"top\">Brown</th>\n",
              "      <th>Medium</th>\n",
              "      <td>0</td>\n",
              "      <td>4</td>\n",
              "    </tr>\n",
              "    <tr>\n",
              "      <th>Tall</th>\n",
              "      <td>0</td>\n",
              "      <td>1</td>\n",
              "    </tr>\n",
              "    <tr>\n",
              "      <th rowspan=\"2\" valign=\"top\">Green</th>\n",
              "      <th>Short</th>\n",
              "      <td>2</td>\n",
              "      <td>0</td>\n",
              "    </tr>\n",
              "    <tr>\n",
              "      <th>Tall</th>\n",
              "      <td>0</td>\n",
              "      <td>1</td>\n",
              "    </tr>\n",
              "  </tbody>\n",
              "</table>\n",
              "</div>"
            ],
            "text/plain": [
              "Sex                   Female  Male\n",
              "Eye Color Height Cat              \n",
              "Blue      Medium           3     2\n",
              "          Tall             0     2\n",
              "Brown     Medium           0     4\n",
              "          Tall             0     1\n",
              "Green     Short            2     0\n",
              "          Tall             0     1"
            ]
          },
          "metadata": {
            "tags": []
          },
          "execution_count": 37
        }
      ]
    },
    {
      "cell_type": "code",
      "metadata": {
        "id": "BCnpcqtPdt1w",
        "colab": {
          "base_uri": "https://localhost:8080/",
          "height": 252
        },
        "outputId": "34e46b55-74b7-44b9-f0de-df4930fec861"
      },
      "source": [
        "# pd.crosstab([people['Eye Color'], people['Sex']], people['Height Cat']) # Notice the difference\n",
        "# Eye color and sex in row and Height Cat in column\n",
        "\n",
        "pd.crosstab([people['Eye Color'], people['Sex']], [people['Height Cat'], people['Handedness']])"
      ],
      "execution_count": null,
      "outputs": [
        {
          "output_type": "execute_result",
          "data": {
            "text/html": [
              "<div>\n",
              "<style scoped>\n",
              "    .dataframe tbody tr th:only-of-type {\n",
              "        vertical-align: middle;\n",
              "    }\n",
              "\n",
              "    .dataframe tbody tr th {\n",
              "        vertical-align: top;\n",
              "    }\n",
              "\n",
              "    .dataframe thead tr th {\n",
              "        text-align: left;\n",
              "    }\n",
              "\n",
              "    .dataframe thead tr:last-of-type th {\n",
              "        text-align: right;\n",
              "    }\n",
              "</style>\n",
              "<table border=\"1\" class=\"dataframe\">\n",
              "  <thead>\n",
              "    <tr>\n",
              "      <th></th>\n",
              "      <th>Height Cat</th>\n",
              "      <th colspan=\"2\" halign=\"left\">Medium</th>\n",
              "      <th>Short</th>\n",
              "      <th>Tall</th>\n",
              "    </tr>\n",
              "    <tr>\n",
              "      <th></th>\n",
              "      <th>Handedness</th>\n",
              "      <th>L</th>\n",
              "      <th>R</th>\n",
              "      <th>L</th>\n",
              "      <th>R</th>\n",
              "    </tr>\n",
              "    <tr>\n",
              "      <th>Eye Color</th>\n",
              "      <th>Sex</th>\n",
              "      <th></th>\n",
              "      <th></th>\n",
              "      <th></th>\n",
              "      <th></th>\n",
              "    </tr>\n",
              "  </thead>\n",
              "  <tbody>\n",
              "    <tr>\n",
              "      <th rowspan=\"2\" valign=\"top\">Blue</th>\n",
              "      <th>Female</th>\n",
              "      <td>1</td>\n",
              "      <td>2</td>\n",
              "      <td>0</td>\n",
              "      <td>0</td>\n",
              "    </tr>\n",
              "    <tr>\n",
              "      <th>Male</th>\n",
              "      <td>0</td>\n",
              "      <td>1</td>\n",
              "      <td>0</td>\n",
              "      <td>2</td>\n",
              "    </tr>\n",
              "    <tr>\n",
              "      <th>Brown</th>\n",
              "      <th>Male</th>\n",
              "      <td>0</td>\n",
              "      <td>4</td>\n",
              "      <td>0</td>\n",
              "      <td>1</td>\n",
              "    </tr>\n",
              "    <tr>\n",
              "      <th rowspan=\"2\" valign=\"top\">Green</th>\n",
              "      <th>Female</th>\n",
              "      <td>0</td>\n",
              "      <td>0</td>\n",
              "      <td>1</td>\n",
              "      <td>0</td>\n",
              "    </tr>\n",
              "    <tr>\n",
              "      <th>Male</th>\n",
              "      <td>0</td>\n",
              "      <td>0</td>\n",
              "      <td>0</td>\n",
              "      <td>1</td>\n",
              "    </tr>\n",
              "  </tbody>\n",
              "</table>\n",
              "</div>"
            ],
            "text/plain": [
              "Height Cat       Medium    Short Tall\n",
              "Handedness            L  R     L    R\n",
              "Eye Color Sex                        \n",
              "Blue      Female      1  2     0    0\n",
              "          Male        0  1     0    2\n",
              "Brown     Male        0  4     0    1\n",
              "Green     Female      0  0     1    0\n",
              "          Male        0  0     0    1"
            ]
          },
          "metadata": {
            "tags": []
          },
          "execution_count": 38
        }
      ]
    },
    {
      "cell_type": "markdown",
      "metadata": {
        "id": "-l3pzVXndt1x"
      },
      "source": [
        "# Chi-Square Test of Association\n",
        "\n",
        "## to test the association between two vategorical variables\n",
        "\n",
        "**Null hypothesis is 'There is no association between the categorical variables'**\n",
        "  \n",
        "  **Alternative hypothesis is 'There is statistically significant association between the categorical variables'**\n",
        "  \n",
        "  \n",
        "  **Rejection Rule:**\n",
        "  \n",
        "  p value < alpha - reject the null\n",
        "  [means the categorical variablea are not associated]\n",
        "  \n",
        "  p value > alpha - Fail to reject null\n",
        "  [means the categorical variables are statistically significantly associated]\n",
        "  \n",
        "  \n",
        "  commonly used value of alpha are:\n",
        "  \n",
        "  0.01, 0.05, 0.1"
      ]
    },
    {
      "cell_type": "code",
      "metadata": {
        "id": "xEqOmOpUdt1y",
        "colab": {
          "base_uri": "https://localhost:8080/",
          "height": 164
        },
        "outputId": "a4e6fa99-21b5-43d9-844f-ac288c5287e1"
      },
      "source": [
        "table = pd.crosstab(people['Eye Color'], people['Sex'])\n",
        "table"
      ],
      "execution_count": null,
      "outputs": [
        {
          "output_type": "execute_result",
          "data": {
            "text/html": [
              "<div>\n",
              "<style scoped>\n",
              "    .dataframe tbody tr th:only-of-type {\n",
              "        vertical-align: middle;\n",
              "    }\n",
              "\n",
              "    .dataframe tbody tr th {\n",
              "        vertical-align: top;\n",
              "    }\n",
              "\n",
              "    .dataframe thead th {\n",
              "        text-align: right;\n",
              "    }\n",
              "</style>\n",
              "<table border=\"1\" class=\"dataframe\">\n",
              "  <thead>\n",
              "    <tr style=\"text-align: right;\">\n",
              "      <th>Sex</th>\n",
              "      <th>Female</th>\n",
              "      <th>Male</th>\n",
              "    </tr>\n",
              "    <tr>\n",
              "      <th>Eye Color</th>\n",
              "      <th></th>\n",
              "      <th></th>\n",
              "    </tr>\n",
              "  </thead>\n",
              "  <tbody>\n",
              "    <tr>\n",
              "      <th>Blue</th>\n",
              "      <td>3</td>\n",
              "      <td>4</td>\n",
              "    </tr>\n",
              "    <tr>\n",
              "      <th>Brown</th>\n",
              "      <td>1</td>\n",
              "      <td>5</td>\n",
              "    </tr>\n",
              "    <tr>\n",
              "      <th>Green</th>\n",
              "      <td>2</td>\n",
              "      <td>1</td>\n",
              "    </tr>\n",
              "  </tbody>\n",
              "</table>\n",
              "</div>"
            ],
            "text/plain": [
              "Sex        Female  Male\n",
              "Eye Color              \n",
              "Blue            3     4\n",
              "Brown           1     5\n",
              "Green           2     1"
            ]
          },
          "metadata": {
            "tags": []
          },
          "execution_count": 39
        }
      ]
    },
    {
      "cell_type": "code",
      "metadata": {
        "scrolled": true,
        "id": "DpwNgnmHdt11",
        "colab": {
          "base_uri": "https://localhost:8080/",
          "height": 70
        },
        "outputId": "d907beac-d22e-4133-d555-db3921a48f6c"
      },
      "source": [
        "from scipy.stats import chi2_contingency\n",
        "chi2_contingency(table)\n",
        "\n",
        "# Null hypothesis is 'There is no association between Eye Color and Sex variables'"
      ],
      "execution_count": null,
      "outputs": [
        {
          "output_type": "execute_result",
          "data": {
            "text/plain": [
              "(2.2857142857142856, 0.3189065573239704, 2, array([[2.625, 4.375],\n",
              "        [2.25 , 3.75 ],\n",
              "        [1.125, 1.875]]))"
            ]
          },
          "metadata": {
            "tags": []
          },
          "execution_count": 40
        }
      ]
    },
    {
      "cell_type": "code",
      "metadata": {
        "id": "7X5SGvQmdt13",
        "colab": {
          "base_uri": "https://localhost:8080/",
          "height": 177
        },
        "outputId": "668ab72a-cb36-42ad-9f3c-de71df89a87a"
      },
      "source": [
        "chi_stats, p, dof, expected_f = chi2_contingency(table)\n",
        "\n",
        "print('chi square statistics here is ', chi_stats.round(2), '\\n')\n",
        "print('Corresponding p-value is ', p.round(2), '\\n')\n",
        "print(dof)\n",
        "print(expected_f)\n",
        "\n",
        "\n",
        "6*7/16"
      ],
      "execution_count": null,
      "outputs": [
        {
          "output_type": "stream",
          "text": [
            "chi square statistics here is  2.29 \n",
            "\n",
            "Corresponding p-value is  0.32 \n",
            "\n",
            "2\n",
            "[[2.625 4.375]\n",
            " [2.25  3.75 ]\n",
            " [1.125 1.875]]\n"
          ],
          "name": "stdout"
        },
        {
          "output_type": "execute_result",
          "data": {
            "text/plain": [
              "2.625"
            ]
          },
          "metadata": {
            "tags": []
          },
          "execution_count": 41
        }
      ]
    },
    {
      "cell_type": "markdown",
      "metadata": {
        "id": "fEUW9reddt15"
      },
      "source": [
        "It gives chi sqare statistics, p-value and expected frequencies\n",
        "\n",
        "alpha = 0.05\n",
        "\n",
        "**Rejection Rule**\n",
        "\n",
        "p-value = 0.32 > 0.05\n",
        "\n",
        "Fail to reject the null hypothesis at 5 % level of significance.\n",
        "\n",
        "**Interpretation:** there is no association between these variables at 5 % level of significancestats.\n",
        "\n",
        "\n",
        "At 5 % level of significance, the variables 'Eye color' and 'Sex' are indepdent from each other"
      ]
    },
    {
      "cell_type": "markdown",
      "metadata": {
        "id": "CPMwTrSddt15"
      },
      "source": [
        "## Cramer's V\n",
        "\n",
        "Lies between 0 to 1\n",
        "\n",
        "symmertic \n",
        "\n",
        "## Phi\n",
        "\n",
        "when we only only two categories"
      ]
    },
    {
      "cell_type": "markdown",
      "metadata": {
        "id": "_Heq54esdt18"
      },
      "source": [
        "# Fisher's Exact Test"
      ]
    },
    {
      "cell_type": "code",
      "metadata": {
        "id": "FlYb15F0dt18"
      },
      "source": [
        "import scipy.stats as stats\n",
        "oddsratio, pvalue = stats.fisher_exact(table)\n",
        "pvalue\n",
        "\n",
        "# ValueError: The input `table` must be of shape (2, 2).\n",
        "# Python (scipy.stats) currently does not support fisher_exact test for tables larger than 2 by 2\n",
        "# R supports this"
      ],
      "execution_count": null,
      "outputs": []
    },
    {
      "cell_type": "code",
      "metadata": {
        "id": "-6b93dgtdt1_"
      },
      "source": [
        "table1 = pd.crosstab(people['Sex'], people['Handedness'])\n",
        "table1\n",
        "\n",
        "from scipy.stats import fisher_exact\n",
        "odd_ratio, p = fisher_exact(table1)\n",
        "print('p value is ', p.round(2))"
      ],
      "execution_count": null,
      "outputs": []
    },
    {
      "cell_type": "markdown",
      "metadata": {
        "id": "5yXcxtS9dt2A"
      },
      "source": [
        "R supports Fisher's Exact Test for larger cross tables, however as of now python only supports fisher's exact test for 2*2 table\n",
        "https://stackoverflow.com/questions/25368284/fishers-exact-test-for-bigger-than-2-by-2-contingency-table"
      ]
    },
    {
      "cell_type": "markdown",
      "metadata": {
        "id": "RV-z2cKWdt2A"
      },
      "source": [
        "# Using researchpy library for categorical data analysis\n",
        "\n",
        "https://readthedocs.org/projects/researchpy/downloads/pdf/latest/"
      ]
    },
    {
      "cell_type": "code",
      "metadata": {
        "id": "nMqUYgNfdt2B"
      },
      "source": [
        "#pip install researchpy\n",
        "# conda install -c researchpy researchpy\n",
        "\n",
        "import researchpy as rp\n"
      ],
      "execution_count": null,
      "outputs": []
    },
    {
      "cell_type": "code",
      "metadata": {
        "id": "ZUQbSj5Tdt2D"
      },
      "source": [
        "rp.summary_cat(people['Sex'])"
      ],
      "execution_count": null,
      "outputs": []
    },
    {
      "cell_type": "markdown",
      "metadata": {
        "id": "yzc_yVikdt2E"
      },
      "source": [
        "Returns a data table as a **Pandas DataFrame** that includes the counts and percentages of each category. \n",
        "\n",
        "If there are missing data present (numpy.nan), they will be excluded from the counts. \n",
        "\n",
        "However, if the missing data is coded as a string, it will be included as it’s own category."
      ]
    },
    {
      "cell_type": "code",
      "metadata": {
        "id": "nrvdOpJ7dt2E"
      },
      "source": [
        "rp.summary_cat(people['Sex']).Count\n",
        "# rp.summary_cat(people['Sex']).Percent\n",
        "# rp.summary_cat(people['Sex']).Outcome"
      ],
      "execution_count": null,
      "outputs": []
    },
    {
      "cell_type": "code",
      "metadata": {
        "id": "KTGamBb0dt2H"
      },
      "source": [
        "rp.summary_cat(people['Sex'], ascending=True) # In ascending order"
      ],
      "execution_count": null,
      "outputs": []
    },
    {
      "cell_type": "code",
      "metadata": {
        "id": "9kEq9Qj8dt2J"
      },
      "source": [
        "rp.crosstab(people['Eye Color'], people['Sex'])"
      ],
      "execution_count": null,
      "outputs": []
    },
    {
      "cell_type": "code",
      "metadata": {
        "id": "Vc88Fu67dt2M"
      },
      "source": [
        "table, results = rp.crosstab(people['Eye Color'], people['Sex'], test='chi-square')\n",
        "    \n",
        "print(table)\n",
        "results\n",
        "\n",
        "# Available tests  “chi-square”, “g-test”, “mcnemar”, or “fisher”\n",
        "# 'Yates correction also available'"
      ],
      "execution_count": null,
      "outputs": []
    },
    {
      "cell_type": "code",
      "metadata": {
        "id": "WRAy-Nggdt2O"
      },
      "source": [
        "# Mosiac Plot\n",
        "import matplotlib.pyplot as plt\n",
        "# %matplotlib inline\n",
        "\n",
        "from statsmodels.graphics.mosaicplot import mosaic\n",
        "mosaic(people, ['Eye Color', 'Sex'])\n",
        "plt.show()"
      ],
      "execution_count": null,
      "outputs": []
    },
    {
      "cell_type": "markdown",
      "metadata": {
        "id": "9lBE0xFbdt2P"
      },
      "source": [
        "# Other Consideration\n",
        "\n",
        "\n",
        "Post Hoc Tests with correction\n",
        "https://pythonfordatascience.org/chi-square-test-of-independence-python/\n",
        "\n",
        "\n",
        "# Plots for categorical Data\n",
        "Pie chart\n",
        "Bar Chart/stacked bar chart/grouped bar chart\n",
        "[Also known as column charts] \n",
        "Catplot\n",
        "Heat Map\n",
        "Also See: TreeMap, Mosiac Plot\n",
        "\n"
      ]
    },
    {
      "cell_type": "code",
      "metadata": {
        "id": "yHBu2fkPLLDo"
      },
      "source": [
        ""
      ],
      "execution_count": null,
      "outputs": []
    }
  ]
}